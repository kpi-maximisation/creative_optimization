{
 "cells": [
  {
   "cell_type": "code",
   "execution_count": 2,
   "metadata": {},
   "outputs": [],
   "source": [
    "import warnings\n",
    "import pandas as pd\n",
    "import sys, os\n",
    "\n",
    "\n",
    "from causalnex.structure import StructureModel\n"
   ]
  },
  {
   "cell_type": "code",
   "execution_count": 3,
   "metadata": {},
   "outputs": [
    {
     "name": "stdout",
     "output_type": "stream",
     "text": [
      "<class 'pandas.core.frame.DataFrame'>\n",
      "RangeIndex: 605 entries, 0 to 604\n",
      "Data columns (total 42 columns):\n",
      " #   Column              Non-Null Count  Dtype  \n",
      "---  ------              --------------  -----  \n",
      " 0   game_id             605 non-null    object \n",
      " 1   cta_start_x         605 non-null    float64\n",
      " 2   cta_start_y         605 non-null    float64\n",
      " 3   cta_end_x           605 non-null    float64\n",
      " 4   cta_end_y           605 non-null    float64\n",
      " 5   cta_height          605 non-null    float64\n",
      " 6   cta_width           605 non-null    float64\n",
      " 7   color_1_occurance   605 non-null    float64\n",
      " 8   color_2_occurance   605 non-null    float64\n",
      " 9   color_3_occurance   605 non-null    float64\n",
      " 10  color_4_occurance   605 non-null    float64\n",
      " 11  color_5_occurance   605 non-null    float64\n",
      " 12  audio_duration(ms)  605 non-null    float64\n",
      " 13  audio_intensity     605 non-null    float64\n",
      " 14  audio_frame_count   605 non-null    float64\n",
      " 15  beg_frame_angry     605 non-null    float64\n",
      " 16  beg_frame_disgust   605 non-null    float64\n",
      " 17  beg_frame_fear      605 non-null    float64\n",
      " 18  beg_frame_happy     605 non-null    float64\n",
      " 19  beg_frame_sad       605 non-null    float64\n",
      " 20  beg_frame_surprise  605 non-null    float64\n",
      " 21  beg_frame_neutral   605 non-null    float64\n",
      " 22  end_frame_angry     605 non-null    float64\n",
      " 23  end_frame_disgust   605 non-null    float64\n",
      " 24  end_frame_fear      605 non-null    float64\n",
      " 25  end_frame_happy     605 non-null    float64\n",
      " 26  end_frame_sad       605 non-null    float64\n",
      " 27  end_frame_surprise  605 non-null    float64\n",
      " 28  end_frame_neutral   605 non-null    float64\n",
      " 29  beg_frame_age       605 non-null    float64\n",
      " 30  end_frame_age       605 non-null    float64\n",
      " 31  sentiment_score     605 non-null    float64\n",
      " 32  word_count          605 non-null    float64\n",
      " 33  ER                  605 non-null    float64\n",
      " 34  CTR                 605 non-null    float64\n",
      " 35  sentiment_a         605 non-null    int64  \n",
      " 36  sentiment_b         605 non-null    int64  \n",
      " 37  color_3_l_encoded   605 non-null    int64  \n",
      " 38  color_2_l_encoded   605 non-null    int64  \n",
      " 39  color_4_l_encoded   605 non-null    int64  \n",
      " 40  color_5_l_encoded   605 non-null    int64  \n",
      " 41  color_1_l_encoded   605 non-null    int64  \n",
      "dtypes: float64(34), int64(7), object(1)\n",
      "memory usage: 198.6+ KB\n"
     ]
    }
   ],
   "source": [
    "df = pd.read_csv(\"../data/df_all_encoded.csv\")\n",
    "df.info()"
   ]
  },
  {
   "cell_type": "code",
   "execution_count": 4,
   "metadata": {},
   "outputs": [],
   "source": [
    "df.drop(['color_1_occurance',\n",
    " \"color_2_occurance\",\n",
    " \"color_3_occurance\",\n",
    " \"color_4_occurance\",\n",
    " 'color_5_occurance'],inplace=True, axis=1)"
   ]
  },
  {
   "cell_type": "markdown",
   "metadata": {},
   "source": [
    "#### Create Structure Model"
   ]
  },
  {
   "cell_type": "code",
   "execution_count": 7,
   "metadata": {},
   "outputs": [],
   "source": [
    "df.drop(['game_id'],inplace=True,axis=1)"
   ]
  },
  {
   "cell_type": "code",
   "execution_count": 12,
   "metadata": {},
   "outputs": [],
   "source": [
    "df = df.reset_index()"
   ]
  },
  {
   "cell_type": "code",
   "execution_count": 18,
   "metadata": {},
   "outputs": [],
   "source": [
    "import numpy as np\n",
    "\n",
    "def clean_dataset(df):\n",
    "    assert isinstance(df, pd.DataFrame), \"df needs to be a pd.DataFrame\"\n",
    "    df.dropna(inplace=True)\n",
    "    indices_to_keep = ~df.isin([np.nan, np.inf, -np.inf]).any(1)\n",
    "    return df[indices_to_keep].astype(np.float64)"
   ]
  },
  {
   "cell_type": "code",
   "execution_count": 19,
   "metadata": {},
   "outputs": [
    {
     "name": "stderr",
     "output_type": "stream",
     "text": [
      "/tmp/ipykernel_417206/1366205758.py:6: FutureWarning: In a future version of pandas all arguments of DataFrame.any and Series.any will be keyword-only.\n",
      "  indices_to_keep = ~df.isin([np.nan, np.inf, -np.inf]).any(1)\n"
     ]
    }
   ],
   "source": [
    "df = clean_dataset(df)"
   ]
  },
  {
   "cell_type": "code",
   "execution_count": 30,
   "metadata": {},
   "outputs": [],
   "source": [
    "sm = StructureModel()"
   ]
  },
  {
   "cell_type": "markdown",
   "metadata": {},
   "source": [
    "#### Create Edges\n",
    "* Transform and encode"
   ]
  },
  {
   "cell_type": "code",
   "execution_count": 21,
   "metadata": {},
   "outputs": [
    {
     "name": "stdout",
     "output_type": "stream",
     "text": [
      "[]\n"
     ]
    }
   ],
   "source": [
    "import numpy as np\n",
    "\n",
    "struct_data = df.copy()\n",
    "non_numeric_columns = list(struct_data.select_dtypes(exclude=[np.number]).columns)\n",
    "\n",
    "print(non_numeric_columns)"
   ]
  },
  {
   "cell_type": "code",
   "execution_count": 22,
   "metadata": {},
   "outputs": [],
   "source": [
    "from sklearn.preprocessing import LabelEncoder\n",
    "\n",
    "le = LabelEncoder()\n",
    "\n",
    "for col in non_numeric_columns:\n",
    "    struct_data[col] = le.fit_transform(struct_data[col])"
   ]
  },
  {
   "cell_type": "markdown",
   "metadata": {},
   "source": [
    "#### Scale and normalize numerical data"
   ]
  },
  {
   "cell_type": "code",
   "execution_count": 23,
   "metadata": {},
   "outputs": [],
   "source": [
    "from sklearn import preprocessing\n",
    "\n",
    "x = struct_data.values #returns a numpy array\n",
    "min_max_scaler = preprocessing.MinMaxScaler()\n",
    "x_scaled = min_max_scaler.fit_transform(x)\n",
    "df = pd.DataFrame(x_scaled)"
   ]
  },
  {
   "cell_type": "markdown",
   "metadata": {},
   "source": [
    "#### Apply the NOTEARS algorithm to learn the structure."
   ]
  },
  {
   "cell_type": "code",
   "execution_count": 31,
   "metadata": {},
   "outputs": [
    {
     "ename": "KeyboardInterrupt",
     "evalue": "",
     "output_type": "error",
     "traceback": [
      "\u001b[0;31m---------------------------------------------------------------------------\u001b[0m",
      "\u001b[0;31mKeyboardInterrupt\u001b[0m                         Traceback (most recent call last)",
      "Cell \u001b[0;32mIn [31], line 3\u001b[0m\n\u001b[1;32m      1\u001b[0m \u001b[38;5;28;01mfrom\u001b[39;00m \u001b[38;5;21;01mcausalnex\u001b[39;00m\u001b[38;5;21;01m.\u001b[39;00m\u001b[38;5;21;01mstructure\u001b[39;00m\u001b[38;5;21;01m.\u001b[39;00m\u001b[38;5;21;01mnotears\u001b[39;00m \u001b[38;5;28;01mimport\u001b[39;00m from_pandas\n\u001b[0;32m----> 3\u001b[0m sm \u001b[38;5;241m=\u001b[39m \u001b[43mfrom_pandas\u001b[49m\u001b[43m(\u001b[49m\u001b[43mdf\u001b[49m\u001b[43m)\u001b[49m\n",
      "File \u001b[0;32m~/anaconda3/envs/env_causal/lib/python3.8/site-packages/causalnex/structure/notears.py:251\u001b[0m, in \u001b[0;36mfrom_pandas\u001b[0;34m(X, max_iter, h_tol, w_threshold, tabu_edges, tabu_parent_nodes, tabu_child_nodes)\u001b[0m\n\u001b[1;32m    248\u001b[0m \u001b[39mif\u001b[39;00m tabu_child_nodes:\n\u001b[1;32m    249\u001b[0m     tabu_child_nodes \u001b[39m=\u001b[39m [col_idx[n] \u001b[39mfor\u001b[39;00m n \u001b[39min\u001b[39;00m tabu_child_nodes]\n\u001b[0;32m--> 251\u001b[0m g \u001b[39m=\u001b[39m from_numpy(\n\u001b[1;32m    252\u001b[0m     data\u001b[39m.\u001b[39;49mvalues,\n\u001b[1;32m    253\u001b[0m     max_iter,\n\u001b[1;32m    254\u001b[0m     h_tol,\n\u001b[1;32m    255\u001b[0m     w_threshold,\n\u001b[1;32m    256\u001b[0m     tabu_edges,\n\u001b[1;32m    257\u001b[0m     tabu_parent_nodes,\n\u001b[1;32m    258\u001b[0m     tabu_child_nodes,\n\u001b[1;32m    259\u001b[0m )\n\u001b[1;32m    261\u001b[0m sm \u001b[39m=\u001b[39m StructureModel()\n\u001b[1;32m    262\u001b[0m sm\u001b[39m.\u001b[39madd_nodes_from(data\u001b[39m.\u001b[39mcolumns)\n",
      "File \u001b[0;32m~/anaconda3/envs/env_causal/lib/python3.8/site-packages/causalnex/structure/notears.py:121\u001b[0m, in \u001b[0;36mfrom_numpy\u001b[0;34m(X, max_iter, h_tol, w_threshold, tabu_edges, tabu_parent_nodes, tabu_child_nodes)\u001b[0m\n\u001b[1;32m    105\u001b[0m _assert_all_finite(X)\n\u001b[1;32m    107\u001b[0m bnds \u001b[39m=\u001b[39m [\n\u001b[1;32m    108\u001b[0m     (\u001b[39m0\u001b[39m, \u001b[39m0\u001b[39m)\n\u001b[1;32m    109\u001b[0m     \u001b[39mif\u001b[39;00m i \u001b[39m==\u001b[39m j\n\u001b[0;32m   (...)\u001b[0m\n\u001b[1;32m    118\u001b[0m     \u001b[39mfor\u001b[39;00m j \u001b[39min\u001b[39;00m \u001b[39mrange\u001b[39m(d)\n\u001b[1;32m    119\u001b[0m ]\n\u001b[0;32m--> 121\u001b[0m \u001b[39mreturn\u001b[39;00m _learn_structure(X, bnds, max_iter, h_tol, w_threshold)\n",
      "File \u001b[0;32m~/anaconda3/envs/env_causal/lib/python3.8/site-packages/causalnex/structure/notears.py:425\u001b[0m, in \u001b[0;36m_learn_structure\u001b[0;34m(X, bnds, max_iter, h_tol, w_threshold)\u001b[0m\n\u001b[1;32m    423\u001b[0m \u001b[39mfor\u001b[39;00m n_iter \u001b[39min\u001b[39;00m \u001b[39mrange\u001b[39m(max_iter):\n\u001b[1;32m    424\u001b[0m     \u001b[39mwhile\u001b[39;00m (rho \u001b[39m<\u001b[39m \u001b[39m1e20\u001b[39m) \u001b[39mand\u001b[39;00m (h_new \u001b[39m>\u001b[39m \u001b[39m0.25\u001b[39m \u001b[39m*\u001b[39m h \u001b[39mor\u001b[39;00m h_new \u001b[39m==\u001b[39m np\u001b[39m.\u001b[39minf):\n\u001b[0;32m--> 425\u001b[0m         sol \u001b[39m=\u001b[39m sopt\u001b[39m.\u001b[39;49mminimize(_func, w_est, method\u001b[39m=\u001b[39;49m\u001b[39m\"\u001b[39;49m\u001b[39mL-BFGS-B\u001b[39;49m\u001b[39m\"\u001b[39;49m, jac\u001b[39m=\u001b[39;49m_grad, bounds\u001b[39m=\u001b[39;49mbnds)\n\u001b[1;32m    426\u001b[0m         w_new \u001b[39m=\u001b[39m sol\u001b[39m.\u001b[39mx\n\u001b[1;32m    427\u001b[0m         h_new \u001b[39m=\u001b[39m _h(w_new)\n",
      "File \u001b[0;32m~/anaconda3/envs/env_causal/lib/python3.8/site-packages/scipy/optimize/_minimize.py:619\u001b[0m, in \u001b[0;36mminimize\u001b[0;34m(fun, x0, args, method, jac, hess, hessp, bounds, constraints, tol, callback, options)\u001b[0m\n\u001b[1;32m    616\u001b[0m     \u001b[39mreturn\u001b[39;00m _minimize_newtoncg(fun, x0, args, jac, hess, hessp, callback,\n\u001b[1;32m    617\u001b[0m                               \u001b[39m*\u001b[39m\u001b[39m*\u001b[39moptions)\n\u001b[1;32m    618\u001b[0m \u001b[39melif\u001b[39;00m meth \u001b[39m==\u001b[39m \u001b[39m'\u001b[39m\u001b[39ml-bfgs-b\u001b[39m\u001b[39m'\u001b[39m:\n\u001b[0;32m--> 619\u001b[0m     \u001b[39mreturn\u001b[39;00m _minimize_lbfgsb(fun, x0, args, jac, bounds,\n\u001b[1;32m    620\u001b[0m                             callback\u001b[39m=\u001b[39;49mcallback, \u001b[39m*\u001b[39;49m\u001b[39m*\u001b[39;49moptions)\n\u001b[1;32m    621\u001b[0m \u001b[39melif\u001b[39;00m meth \u001b[39m==\u001b[39m \u001b[39m'\u001b[39m\u001b[39mtnc\u001b[39m\u001b[39m'\u001b[39m:\n\u001b[1;32m    622\u001b[0m     \u001b[39mreturn\u001b[39;00m _minimize_tnc(fun, x0, args, jac, bounds, callback\u001b[39m=\u001b[39mcallback,\n\u001b[1;32m    623\u001b[0m                          \u001b[39m*\u001b[39m\u001b[39m*\u001b[39moptions)\n",
      "File \u001b[0;32m~/anaconda3/envs/env_causal/lib/python3.8/site-packages/scipy/optimize/lbfgsb.py:360\u001b[0m, in \u001b[0;36m_minimize_lbfgsb\u001b[0;34m(fun, x0, args, jac, bounds, disp, maxcor, ftol, gtol, eps, maxfun, maxiter, iprint, callback, maxls, finite_diff_rel_step, **unknown_options)\u001b[0m\n\u001b[1;32m    354\u001b[0m task_str \u001b[39m=\u001b[39m task\u001b[39m.\u001b[39mtobytes()\n\u001b[1;32m    355\u001b[0m \u001b[39mif\u001b[39;00m task_str\u001b[39m.\u001b[39mstartswith(\u001b[39mb\u001b[39m\u001b[39m'\u001b[39m\u001b[39mFG\u001b[39m\u001b[39m'\u001b[39m):\n\u001b[1;32m    356\u001b[0m     \u001b[39m# The minimization routine wants f and g at the current x.\u001b[39;00m\n\u001b[1;32m    357\u001b[0m     \u001b[39m# Note that interruptions due to maxfun are postponed\u001b[39;00m\n\u001b[1;32m    358\u001b[0m     \u001b[39m# until the completion of the current minimization iteration.\u001b[39;00m\n\u001b[1;32m    359\u001b[0m     \u001b[39m# Overwrite f and g:\u001b[39;00m\n\u001b[0;32m--> 360\u001b[0m     f, g \u001b[39m=\u001b[39m func_and_grad(x)\n\u001b[1;32m    361\u001b[0m \u001b[39melif\u001b[39;00m task_str\u001b[39m.\u001b[39mstartswith(\u001b[39mb\u001b[39m\u001b[39m'\u001b[39m\u001b[39mNEW_X\u001b[39m\u001b[39m'\u001b[39m):\n\u001b[1;32m    362\u001b[0m     \u001b[39m# new iteration\u001b[39;00m\n\u001b[1;32m    363\u001b[0m     n_iterations \u001b[39m+\u001b[39m\u001b[39m=\u001b[39m \u001b[39m1\u001b[39m\n",
      "File \u001b[0;32m~/anaconda3/envs/env_causal/lib/python3.8/site-packages/scipy/optimize/_differentiable_functions.py:261\u001b[0m, in \u001b[0;36mScalarFunction.fun_and_grad\u001b[0;34m(self, x)\u001b[0m\n\u001b[1;32m    259\u001b[0m     \u001b[39mself\u001b[39m\u001b[39m.\u001b[39m_update_x_impl(x)\n\u001b[1;32m    260\u001b[0m \u001b[39mself\u001b[39m\u001b[39m.\u001b[39m_update_fun()\n\u001b[0;32m--> 261\u001b[0m \u001b[39mself\u001b[39;49m\u001b[39m.\u001b[39;49m_update_grad()\n\u001b[1;32m    262\u001b[0m \u001b[39mreturn\u001b[39;00m \u001b[39mself\u001b[39m\u001b[39m.\u001b[39mf, \u001b[39mself\u001b[39m\u001b[39m.\u001b[39mg\n",
      "File \u001b[0;32m~/anaconda3/envs/env_causal/lib/python3.8/site-packages/scipy/optimize/_differentiable_functions.py:231\u001b[0m, in \u001b[0;36mScalarFunction._update_grad\u001b[0;34m(self)\u001b[0m\n\u001b[1;32m    229\u001b[0m \u001b[39mdef\u001b[39;00m \u001b[39m_update_grad\u001b[39m(\u001b[39mself\u001b[39m):\n\u001b[1;32m    230\u001b[0m     \u001b[39mif\u001b[39;00m \u001b[39mnot\u001b[39;00m \u001b[39mself\u001b[39m\u001b[39m.\u001b[39mg_updated:\n\u001b[0;32m--> 231\u001b[0m         \u001b[39mself\u001b[39;49m\u001b[39m.\u001b[39;49m_update_grad_impl()\n\u001b[1;32m    232\u001b[0m         \u001b[39mself\u001b[39m\u001b[39m.\u001b[39mg_updated \u001b[39m=\u001b[39m \u001b[39mTrue\u001b[39;00m\n",
      "File \u001b[0;32m~/anaconda3/envs/env_causal/lib/python3.8/site-packages/scipy/optimize/_differentiable_functions.py:145\u001b[0m, in \u001b[0;36mScalarFunction.__init__.<locals>.update_grad\u001b[0;34m()\u001b[0m\n\u001b[1;32m    144\u001b[0m \u001b[39mdef\u001b[39;00m \u001b[39mupdate_grad\u001b[39m():\n\u001b[0;32m--> 145\u001b[0m     \u001b[39mself\u001b[39m\u001b[39m.\u001b[39mg \u001b[39m=\u001b[39m grad_wrapped(\u001b[39mself\u001b[39;49m\u001b[39m.\u001b[39;49mx)\n",
      "File \u001b[0;32m~/anaconda3/envs/env_causal/lib/python3.8/site-packages/scipy/optimize/_differentiable_functions.py:142\u001b[0m, in \u001b[0;36mScalarFunction.__init__.<locals>.grad_wrapped\u001b[0;34m(x)\u001b[0m\n\u001b[1;32m    140\u001b[0m \u001b[39mdef\u001b[39;00m \u001b[39mgrad_wrapped\u001b[39m(x):\n\u001b[1;32m    141\u001b[0m     \u001b[39mself\u001b[39m\u001b[39m.\u001b[39mngev \u001b[39m+\u001b[39m\u001b[39m=\u001b[39m \u001b[39m1\u001b[39m\n\u001b[0;32m--> 142\u001b[0m     \u001b[39mreturn\u001b[39;00m np\u001b[39m.\u001b[39matleast_1d(grad(x, \u001b[39m*\u001b[39;49margs))\n",
      "File \u001b[0;32m~/anaconda3/envs/env_causal/lib/python3.8/site-packages/causalnex/structure/notears.py:406\u001b[0m, in \u001b[0;36m_learn_structure.<locals>._grad\u001b[0;34m(w)\u001b[0m\n\u001b[1;32m    404\u001b[0m W \u001b[39m=\u001b[39m w\u001b[39m.\u001b[39mreshape([d, d])\n\u001b[1;32m    405\u001b[0m loss_grad \u001b[39m=\u001b[39m \u001b[39m-\u001b[39m\u001b[39m1.0\u001b[39m \u001b[39m/\u001b[39m n \u001b[39m*\u001b[39m X\u001b[39m.\u001b[39mT\u001b[39m.\u001b[39mdot(X)\u001b[39m.\u001b[39mdot(np\u001b[39m.\u001b[39meye(d, d) \u001b[39m-\u001b[39m W)\n\u001b[0;32m--> 406\u001b[0m E \u001b[39m=\u001b[39m slin\u001b[39m.\u001b[39;49mexpm(W \u001b[39m*\u001b[39;49m W)\n\u001b[1;32m    407\u001b[0m obj_grad \u001b[39m=\u001b[39m loss_grad \u001b[39m+\u001b[39m (rho \u001b[39m*\u001b[39m (np\u001b[39m.\u001b[39mtrace(E) \u001b[39m-\u001b[39m d) \u001b[39m+\u001b[39m alpha) \u001b[39m*\u001b[39m E\u001b[39m.\u001b[39mT \u001b[39m*\u001b[39m W \u001b[39m*\u001b[39m \u001b[39m2\u001b[39m\n\u001b[1;32m    408\u001b[0m \u001b[39mreturn\u001b[39;00m obj_grad\u001b[39m.\u001b[39mflatten()\n",
      "File \u001b[0;32m~/anaconda3/envs/env_causal/lib/python3.8/site-packages/scipy/linalg/matfuncs.py:255\u001b[0m, in \u001b[0;36mexpm\u001b[0;34m(A)\u001b[0m\n\u001b[1;32m    253\u001b[0m \u001b[39m# Input checking and conversion is provided by sparse.linalg.expm().\u001b[39;00m\n\u001b[1;32m    254\u001b[0m \u001b[39mimport\u001b[39;00m \u001b[39mscipy\u001b[39;00m\u001b[39m.\u001b[39;00m\u001b[39msparse\u001b[39;00m\u001b[39m.\u001b[39;00m\u001b[39mlinalg\u001b[39;00m\n\u001b[0;32m--> 255\u001b[0m \u001b[39mreturn\u001b[39;00m scipy\u001b[39m.\u001b[39;49msparse\u001b[39m.\u001b[39;49mlinalg\u001b[39m.\u001b[39;49mexpm(A)\n",
      "File \u001b[0;32m~/anaconda3/envs/env_causal/lib/python3.8/site-packages/scipy/sparse/linalg/matfuncs.py:591\u001b[0m, in \u001b[0;36mexpm\u001b[0;34m(A)\u001b[0m\n\u001b[1;32m    546\u001b[0m \u001b[39mdef\u001b[39;00m \u001b[39mexpm\u001b[39m(A):\n\u001b[1;32m    547\u001b[0m     \u001b[39m\"\"\"\u001b[39;00m\n\u001b[1;32m    548\u001b[0m \u001b[39m    Compute the matrix exponential using Pade approximation.\u001b[39;00m\n\u001b[1;32m    549\u001b[0m \n\u001b[0;32m   (...)\u001b[0m\n\u001b[1;32m    589\u001b[0m \u001b[39m            [  0.        ,   0.        ,  20.08553692]])\u001b[39;00m\n\u001b[1;32m    590\u001b[0m \u001b[39m    \"\"\"\u001b[39;00m\n\u001b[0;32m--> 591\u001b[0m     \u001b[39mreturn\u001b[39;00m _expm(A, use_exact_onenorm\u001b[39m=\u001b[39;49m\u001b[39m'\u001b[39;49m\u001b[39mauto\u001b[39;49m\u001b[39m'\u001b[39;49m)\n",
      "File \u001b[0;32m~/anaconda3/envs/env_causal/lib/python3.8/site-packages/scipy/sparse/linalg/matfuncs.py:658\u001b[0m, in \u001b[0;36m_expm\u001b[0;34m(A, use_exact_onenorm)\u001b[0m\n\u001b[1;32m    656\u001b[0m \u001b[39mif\u001b[39;00m eta_3 \u001b[39m<\u001b[39m \u001b[39m2.097847961257068e+000\u001b[39m \u001b[39mand\u001b[39;00m _ell(h\u001b[39m.\u001b[39mA, \u001b[39m9\u001b[39m) \u001b[39m==\u001b[39m \u001b[39m0\u001b[39m:\n\u001b[1;32m    657\u001b[0m     U, V \u001b[39m=\u001b[39m h\u001b[39m.\u001b[39mpade9()\n\u001b[0;32m--> 658\u001b[0m     \u001b[39mreturn\u001b[39;00m _solve_P_Q(U, V, structure\u001b[39m=\u001b[39;49mstructure)\n\u001b[1;32m    660\u001b[0m \u001b[39m# Use Pade order 13.\u001b[39;00m\n\u001b[1;32m    661\u001b[0m eta_4 \u001b[39m=\u001b[39m \u001b[39mmax\u001b[39m(h\u001b[39m.\u001b[39md8_loose, h\u001b[39m.\u001b[39md10_loose)\n",
      "File \u001b[0;32m~/anaconda3/envs/env_causal/lib/python3.8/site-packages/scipy/sparse/linalg/matfuncs.py:709\u001b[0m, in \u001b[0;36m_solve_P_Q\u001b[0;34m(U, V, structure)\u001b[0m\n\u001b[1;32m    707\u001b[0m     \u001b[39mreturn\u001b[39;00m spsolve(Q, P)\n\u001b[1;32m    708\u001b[0m \u001b[39melif\u001b[39;00m structure \u001b[39mis\u001b[39;00m \u001b[39mNone\u001b[39;00m:\n\u001b[0;32m--> 709\u001b[0m     \u001b[39mreturn\u001b[39;00m solve(Q, P)\n\u001b[1;32m    710\u001b[0m \u001b[39melif\u001b[39;00m structure \u001b[39m==\u001b[39m UPPER_TRIANGULAR:\n\u001b[1;32m    711\u001b[0m     \u001b[39mreturn\u001b[39;00m solve_triangular(Q, P)\n",
      "File \u001b[0;32m~/anaconda3/envs/env_causal/lib/python3.8/site-packages/scipy/linalg/basic.py:213\u001b[0m, in \u001b[0;36msolve\u001b[0;34m(a, b, sym_pos, lower, overwrite_a, overwrite_b, debug, check_finite, assume_a, transposed)\u001b[0m\n\u001b[1;32m    210\u001b[0m \u001b[39mif\u001b[39;00m assume_a \u001b[39m==\u001b[39m \u001b[39m'\u001b[39m\u001b[39mgen\u001b[39m\u001b[39m'\u001b[39m:\n\u001b[1;32m    211\u001b[0m     gecon, getrf, getrs \u001b[39m=\u001b[39m get_lapack_funcs((\u001b[39m'\u001b[39m\u001b[39mgecon\u001b[39m\u001b[39m'\u001b[39m, \u001b[39m'\u001b[39m\u001b[39mgetrf\u001b[39m\u001b[39m'\u001b[39m, \u001b[39m'\u001b[39m\u001b[39mgetrs\u001b[39m\u001b[39m'\u001b[39m),\n\u001b[1;32m    212\u001b[0m                                            (a1, b1))\n\u001b[0;32m--> 213\u001b[0m     lu, ipvt, info \u001b[39m=\u001b[39m getrf(a1, overwrite_a\u001b[39m=\u001b[39;49moverwrite_a)\n\u001b[1;32m    214\u001b[0m     _solve_check(n, info)\n\u001b[1;32m    215\u001b[0m     x, info \u001b[39m=\u001b[39m getrs(lu, ipvt, b1,\n\u001b[1;32m    216\u001b[0m                     trans\u001b[39m=\u001b[39mtrans, overwrite_b\u001b[39m=\u001b[39moverwrite_b)\n",
      "\u001b[0;31mKeyboardInterrupt\u001b[0m: "
     ]
    }
   ],
   "source": [
    "from causalnex.structure.notears import from_pandas\n",
    "\n",
    "sm = from_pandas(df)"
   ]
  },
  {
   "cell_type": "markdown",
   "metadata": {},
   "source": [
    "#### Visualize"
   ]
  },
  {
   "cell_type": "code",
   "execution_count": null,
   "metadata": {},
   "outputs": [],
   "source": [
    "from IPython.display import Image\n",
    "from causalnex.plots import plot_structure, NODE_STYLE, EDGE_STYLE\n",
    "\n",
    "\n",
    "viz = plot_structure(\n",
    "    sm,\n",
    "    graph_attributes={\"scale\": \"0.5\"},\n",
    "    all_node_attributes=NODE_STYLE.WEAK,\n",
    "    all_edge_attributes=EDGE_STYLE.WEAK,\n",
    "    prog='dot',\n",
    ")\n",
    "Image(viz.draw(format='png'))"
   ]
  },
  {
   "cell_type": "code",
   "execution_count": null,
   "metadata": {},
   "outputs": [],
   "source": []
  }
 ],
 "metadata": {
  "kernelspec": {
   "display_name": "Python 3.8.13 ('env_causal')",
   "language": "python",
   "name": "python3"
  },
  "language_info": {
   "codemirror_mode": {
    "name": "ipython",
    "version": 3
   },
   "file_extension": ".py",
   "mimetype": "text/x-python",
   "name": "python",
   "nbconvert_exporter": "python",
   "pygments_lexer": "ipython3",
   "version": "3.8.13"
  },
  "orig_nbformat": 4,
  "vscode": {
   "interpreter": {
    "hash": "fb9244082fb8597280526a46cd6bff838b19e59c9aa6fff5f72e93e9af2900f5"
   }
  }
 },
 "nbformat": 4,
 "nbformat_minor": 2
}
