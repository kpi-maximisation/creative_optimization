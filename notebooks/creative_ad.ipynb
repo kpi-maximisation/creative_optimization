{
  "cells": [
    {
      "cell_type": "markdown",
      "metadata": {
        "id": "7QDl8jwUuVOo"
      },
      "source": [
        "## Import Libraries"
      ]
    },
    {
      "cell_type": "code",
      "execution_count": 1,
      "metadata": {
        "id": "2BME5TFhucMT"
      },
      "outputs": [],
      "source": [
        "import matplotlib.pyplot as plt\n",
        "\n",
        "import pandas as pd"
      ]
    },
    {
      "cell_type": "markdown",
      "metadata": {
        "id": "2mn4ZvKCuaMD"
      },
      "source": [
        "## Load Data"
      ]
    },
    {
      "cell_type": "code",
      "execution_count": 75,
      "metadata": {
        "id": "UeL5_uhm7iwZ"
      },
      "outputs": [],
      "source": [
        "df_all_merged_cta_cleaned = pd.read_csv('/content/all_merged_cta_cleaned.csv')\n",
        "df_audio_features = pd.read_csv('/content/audio_features.csv')\n",
        "df_emotion_features = pd.read_csv('/content/emotion_features.csv')\n",
        "df_sentiment = pd.read_csv('/content/sentiment.csv')\n",
        "df_creative = pd.read_csv('/content/performance_data.csv')"
      ]
    },
    {
      "cell_type": "code",
      "execution_count": 69,
      "metadata": {
        "id": "9sQ5FPBUw1g9"
      },
      "outputs": [],
      "source": [
        "df_all_merged_cta_cleaned.drop(columns =['Unnamed: 0'],inplace =True)"
      ]
    },
    {
      "cell_type": "code",
      "execution_count": 70,
      "metadata": {
        "id": "iG9Vox9n7wZz"
      },
      "outputs": [],
      "source": [
        "df_all = df_all_merged_cta_cleaned.merge(df_audio_features, how='inner', on='game_id')"
      ]
    },
    {
      "cell_type": "code",
      "execution_count": 71,
      "metadata": {
        "id": "PLccC0C8xBZP"
      },
      "outputs": [],
      "source": [
        "df_all = df_all.merge(df_emotion_features, how='inner', on='game_id')"
      ]
    },
    {
      "cell_type": "code",
      "execution_count": 72,
      "metadata": {
        "id": "bg7sJsX7x-EB"
      },
      "outputs": [],
      "source": [
        "df_all = df_all.merge(df_sentiment, how='left', on='game_id')"
      ]
    },
    {
      "cell_type": "code",
      "execution_count": 74,
      "metadata": {
        "colab": {
          "base_uri": "https://localhost:8080/"
        },
        "id": "uFSLSbQIySrT",
        "outputId": "1a941533-ab0b-4d04-f6c2-14ab6c3e3e35"
      },
      "outputs": [
        {
          "data": {
            "text/plain": [
              "game_id                 0\n",
              "cta_start_x             0\n",
              "cta_start_y             0\n",
              "cta_end_x               0\n",
              "cta_end_y               0\n",
              "cta_height              0\n",
              "cta_width               0\n",
              "color_1                 5\n",
              "color_1_occurance       5\n",
              "color_2                 7\n",
              "color_2_occurance       7\n",
              "color_3                 7\n",
              "color_3_occurance       7\n",
              "color_4                 8\n",
              "color_4_occurance       8\n",
              "color_5                11\n",
              "color_5_occurance      11\n",
              "logo_start_x          563\n",
              "logo_start_y          563\n",
              "logo_end_x            563\n",
              "logo_end_y            563\n",
              "logo_height           563\n",
              "logo_width            563\n",
              "audio_duration(ms)    392\n",
              "audio_intensity       392\n",
              "audio_frame_count     392\n",
              "beg_frame_angry       300\n",
              "beg_frame_disgust     300\n",
              "beg_frame_fear        300\n",
              "beg_frame_happy       300\n",
              "beg_frame_sad         300\n",
              "beg_frame_surprise    300\n",
              "beg_frame_neutral     300\n",
              "end_frame_angry       363\n",
              "end_frame_disgust     363\n",
              "end_frame_fear        363\n",
              "end_frame_happy       363\n",
              "end_frame_sad         363\n",
              "end_frame_surprise    363\n",
              "end_frame_neutral     363\n",
              "beg_frame_age         300\n",
              "end_frame_age         363\n",
              "sentiment_score       392\n",
              "sentiment             392\n",
              "word_count            392\n",
              "dtype: int64"
            ]
          },
          "execution_count": 74,
          "metadata": {},
          "output_type": "execute_result"
        }
      ],
      "source": [
        "df_all.isnull().sum()"
      ]
    },
    {
      "cell_type": "code",
      "execution_count": 77,
      "metadata": {
        "id": "OHsH4DBs0FVW"
      },
      "outputs": [],
      "source": [
        "df_creative.drop(columns = ['preview_link'], inplace=True)"
      ]
    },
    {
      "cell_type": "code",
      "execution_count": 78,
      "metadata": {
        "colab": {
          "base_uri": "https://localhost:8080/",
          "height": 206
        },
        "id": "hbZpm84C0QTl",
        "outputId": "fda0b6ea-f68c-4c84-9d44-f33092811d0e"
      },
      "outputs": [
        {
          "data": {
            "text/html": [
              "\n",
              "  <div id=\"df-38934f9b-cd49-4c01-9011-d80d17995af9\">\n",
              "    <div class=\"colab-df-container\">\n",
              "      <div>\n",
              "<style scoped>\n",
              "    .dataframe tbody tr th:only-of-type {\n",
              "        vertical-align: middle;\n",
              "    }\n",
              "\n",
              "    .dataframe tbody tr th {\n",
              "        vertical-align: top;\n",
              "    }\n",
              "\n",
              "    .dataframe thead th {\n",
              "        text-align: right;\n",
              "    }\n",
              "</style>\n",
              "<table border=\"1\" class=\"dataframe\">\n",
              "  <thead>\n",
              "    <tr style=\"text-align: right;\">\n",
              "      <th></th>\n",
              "      <th>game_id</th>\n",
              "      <th>ER</th>\n",
              "      <th>CTR</th>\n",
              "    </tr>\n",
              "  </thead>\n",
              "  <tbody>\n",
              "    <tr>\n",
              "      <th>0</th>\n",
              "      <td>bfbf7a2b7ac635e67877b1ab87fd6629</td>\n",
              "      <td>0.209269</td>\n",
              "      <td>0.058438</td>\n",
              "    </tr>\n",
              "    <tr>\n",
              "      <th>1</th>\n",
              "      <td>945010afbf9a55bbdffcb0895f946155</td>\n",
              "      <td>0.274552</td>\n",
              "      <td>0.074731</td>\n",
              "    </tr>\n",
              "    <tr>\n",
              "      <th>2</th>\n",
              "      <td>e68e20f592457b875ce29757ab855dfe</td>\n",
              "      <td>0.103688</td>\n",
              "      <td>0.042228</td>\n",
              "    </tr>\n",
              "    <tr>\n",
              "      <th>3</th>\n",
              "      <td>adunit-nestle-purina-friskies-mob</td>\n",
              "      <td>0.136963</td>\n",
              "      <td>0.005393</td>\n",
              "    </tr>\n",
              "    <tr>\n",
              "      <th>4</th>\n",
              "      <td>adunit-lionsgate-uwomt-user-slider-sensory-vid...</td>\n",
              "      <td>0.114208</td>\n",
              "      <td>0.016443</td>\n",
              "    </tr>\n",
              "  </tbody>\n",
              "</table>\n",
              "</div>\n",
              "      <button class=\"colab-df-convert\" onclick=\"convertToInteractive('df-38934f9b-cd49-4c01-9011-d80d17995af9')\"\n",
              "              title=\"Convert this dataframe to an interactive table.\"\n",
              "              style=\"display:none;\">\n",
              "        \n",
              "  <svg xmlns=\"http://www.w3.org/2000/svg\" height=\"24px\"viewBox=\"0 0 24 24\"\n",
              "       width=\"24px\">\n",
              "    <path d=\"M0 0h24v24H0V0z\" fill=\"none\"/>\n",
              "    <path d=\"M18.56 5.44l.94 2.06.94-2.06 2.06-.94-2.06-.94-.94-2.06-.94 2.06-2.06.94zm-11 1L8.5 8.5l.94-2.06 2.06-.94-2.06-.94L8.5 2.5l-.94 2.06-2.06.94zm10 10l.94 2.06.94-2.06 2.06-.94-2.06-.94-.94-2.06-.94 2.06-2.06.94z\"/><path d=\"M17.41 7.96l-1.37-1.37c-.4-.4-.92-.59-1.43-.59-.52 0-1.04.2-1.43.59L10.3 9.45l-7.72 7.72c-.78.78-.78 2.05 0 2.83L4 21.41c.39.39.9.59 1.41.59.51 0 1.02-.2 1.41-.59l7.78-7.78 2.81-2.81c.8-.78.8-2.07 0-2.86zM5.41 20L4 18.59l7.72-7.72 1.47 1.35L5.41 20z\"/>\n",
              "  </svg>\n",
              "      </button>\n",
              "      \n",
              "  <style>\n",
              "    .colab-df-container {\n",
              "      display:flex;\n",
              "      flex-wrap:wrap;\n",
              "      gap: 12px;\n",
              "    }\n",
              "\n",
              "    .colab-df-convert {\n",
              "      background-color: #E8F0FE;\n",
              "      border: none;\n",
              "      border-radius: 50%;\n",
              "      cursor: pointer;\n",
              "      display: none;\n",
              "      fill: #1967D2;\n",
              "      height: 32px;\n",
              "      padding: 0 0 0 0;\n",
              "      width: 32px;\n",
              "    }\n",
              "\n",
              "    .colab-df-convert:hover {\n",
              "      background-color: #E2EBFA;\n",
              "      box-shadow: 0px 1px 2px rgba(60, 64, 67, 0.3), 0px 1px 3px 1px rgba(60, 64, 67, 0.15);\n",
              "      fill: #174EA6;\n",
              "    }\n",
              "\n",
              "    [theme=dark] .colab-df-convert {\n",
              "      background-color: #3B4455;\n",
              "      fill: #D2E3FC;\n",
              "    }\n",
              "\n",
              "    [theme=dark] .colab-df-convert:hover {\n",
              "      background-color: #434B5C;\n",
              "      box-shadow: 0px 1px 3px 1px rgba(0, 0, 0, 0.15);\n",
              "      filter: drop-shadow(0px 1px 2px rgba(0, 0, 0, 0.3));\n",
              "      fill: #FFFFFF;\n",
              "    }\n",
              "  </style>\n",
              "\n",
              "      <script>\n",
              "        const buttonEl =\n",
              "          document.querySelector('#df-38934f9b-cd49-4c01-9011-d80d17995af9 button.colab-df-convert');\n",
              "        buttonEl.style.display =\n",
              "          google.colab.kernel.accessAllowed ? 'block' : 'none';\n",
              "\n",
              "        async function convertToInteractive(key) {\n",
              "          const element = document.querySelector('#df-38934f9b-cd49-4c01-9011-d80d17995af9');\n",
              "          const dataTable =\n",
              "            await google.colab.kernel.invokeFunction('convertToInteractive',\n",
              "                                                     [key], {});\n",
              "          if (!dataTable) return;\n",
              "\n",
              "          const docLinkHtml = 'Like what you see? Visit the ' +\n",
              "            '<a target=\"_blank\" href=https://colab.research.google.com/notebooks/data_table.ipynb>data table notebook</a>'\n",
              "            + ' to learn more about interactive tables.';\n",
              "          element.innerHTML = '';\n",
              "          dataTable['output_type'] = 'display_data';\n",
              "          await google.colab.output.renderOutput(dataTable, element);\n",
              "          const docLink = document.createElement('div');\n",
              "          docLink.innerHTML = docLinkHtml;\n",
              "          element.appendChild(docLink);\n",
              "        }\n",
              "      </script>\n",
              "    </div>\n",
              "  </div>\n",
              "  "
            ],
            "text/plain": [
              "                                             game_id        ER       CTR\n",
              "0                   bfbf7a2b7ac635e67877b1ab87fd6629  0.209269  0.058438\n",
              "1                   945010afbf9a55bbdffcb0895f946155  0.274552  0.074731\n",
              "2                   e68e20f592457b875ce29757ab855dfe  0.103688  0.042228\n",
              "3                  adunit-nestle-purina-friskies-mob  0.136963  0.005393\n",
              "4  adunit-lionsgate-uwomt-user-slider-sensory-vid...  0.114208  0.016443"
            ]
          },
          "execution_count": 78,
          "metadata": {},
          "output_type": "execute_result"
        }
      ],
      "source": [
        "df_creative.head()"
      ]
    },
    {
      "cell_type": "code",
      "execution_count": 82,
      "metadata": {
        "id": "1Q8QuET90Uog"
      },
      "outputs": [],
      "source": [
        "df_all = df_all.merge(df_creative, on='game_id', how='inner')"
      ]
    },
    {
      "cell_type": "code",
      "execution_count": 91,
      "metadata": {
        "colab": {
          "base_uri": "https://localhost:8080/",
          "height": 505
        },
        "id": "fICN5cLG0lWu",
        "outputId": "f804b2ed-617c-416b-a373-44d303c12bdc"
      },
      "outputs": [
        {
          "data": {
            "text/html": [
              "\n",
              "  <div id=\"df-ed67b355-344a-44ff-b6af-e35fba05707d\">\n",
              "    <div class=\"colab-df-container\">\n",
              "      <div>\n",
              "<style scoped>\n",
              "    .dataframe tbody tr th:only-of-type {\n",
              "        vertical-align: middle;\n",
              "    }\n",
              "\n",
              "    .dataframe tbody tr th {\n",
              "        vertical-align: top;\n",
              "    }\n",
              "\n",
              "    .dataframe thead th {\n",
              "        text-align: right;\n",
              "    }\n",
              "</style>\n",
              "<table border=\"1\" class=\"dataframe\">\n",
              "  <thead>\n",
              "    <tr style=\"text-align: right;\">\n",
              "      <th></th>\n",
              "      <th>game_id</th>\n",
              "      <th>cta_start_x</th>\n",
              "      <th>cta_start_y</th>\n",
              "      <th>cta_end_x</th>\n",
              "      <th>cta_end_y</th>\n",
              "      <th>cta_height</th>\n",
              "      <th>cta_width</th>\n",
              "      <th>color_1</th>\n",
              "      <th>color_1_occurance</th>\n",
              "      <th>color_2</th>\n",
              "      <th>...</th>\n",
              "      <th>end_frame_sad</th>\n",
              "      <th>end_frame_surprise</th>\n",
              "      <th>end_frame_neutral</th>\n",
              "      <th>beg_frame_age</th>\n",
              "      <th>end_frame_age</th>\n",
              "      <th>sentiment_score</th>\n",
              "      <th>sentiment</th>\n",
              "      <th>word_count</th>\n",
              "      <th>ER</th>\n",
              "      <th>CTR</th>\n",
              "    </tr>\n",
              "  </thead>\n",
              "  <tbody>\n",
              "    <tr>\n",
              "      <th>0</th>\n",
              "      <td>ed3071a667a11cc56e88ae0489bfe6aa</td>\n",
              "      <td>15.0</td>\n",
              "      <td>38.0</td>\n",
              "      <td>615.0</td>\n",
              "      <td>938.0</td>\n",
              "      <td>900.0</td>\n",
              "      <td>600.0</td>\n",
              "      <td>#010101</td>\n",
              "      <td>502997.0</td>\n",
              "      <td>#5D0600</td>\n",
              "      <td>...</td>\n",
              "      <td>5.074958e+00</td>\n",
              "      <td>5.813215e-03</td>\n",
              "      <td>9.382497e+01</td>\n",
              "      <td>33.0</td>\n",
              "      <td>33.0</td>\n",
              "      <td>0.0000</td>\n",
              "      <td>neutral</td>\n",
              "      <td>11.0</td>\n",
              "      <td>0.130945</td>\n",
              "      <td>0.003018</td>\n",
              "    </tr>\n",
              "    <tr>\n",
              "      <th>1</th>\n",
              "      <td>4799763419d621cd41e7fb8abbcdd45d</td>\n",
              "      <td>348.0</td>\n",
              "      <td>795.0</td>\n",
              "      <td>582.0</td>\n",
              "      <td>845.0</td>\n",
              "      <td>50.0</td>\n",
              "      <td>234.0</td>\n",
              "      <td>#FFFFFF</td>\n",
              "      <td>274865.0</td>\n",
              "      <td>#08080C</td>\n",
              "      <td>...</td>\n",
              "      <td>2.370910e+00</td>\n",
              "      <td>1.012618e+01</td>\n",
              "      <td>9.335563e-01</td>\n",
              "      <td>31.0</td>\n",
              "      <td>36.0</td>\n",
              "      <td>0.9336</td>\n",
              "      <td>positive</td>\n",
              "      <td>35.0</td>\n",
              "      <td>0.119002</td>\n",
              "      <td>0.045814</td>\n",
              "    </tr>\n",
              "    <tr>\n",
              "      <th>2</th>\n",
              "      <td>bf1f7af46eec0e92939a8b3ba51cbacd</td>\n",
              "      <td>141.0</td>\n",
              "      <td>744.0</td>\n",
              "      <td>527.0</td>\n",
              "      <td>809.0</td>\n",
              "      <td>65.0</td>\n",
              "      <td>386.0</td>\n",
              "      <td>#010101</td>\n",
              "      <td>499029.0</td>\n",
              "      <td>#FEFEFA</td>\n",
              "      <td>...</td>\n",
              "      <td>6.330207e+01</td>\n",
              "      <td>7.455818e-03</td>\n",
              "      <td>3.348933e+00</td>\n",
              "      <td>37.0</td>\n",
              "      <td>34.0</td>\n",
              "      <td>0.0000</td>\n",
              "      <td>neutral</td>\n",
              "      <td>1.0</td>\n",
              "      <td>0.021841</td>\n",
              "      <td>0.003419</td>\n",
              "    </tr>\n",
              "    <tr>\n",
              "      <th>3</th>\n",
              "      <td>e68e20f592457b875ce29757ab855dfe</td>\n",
              "      <td>348.0</td>\n",
              "      <td>795.0</td>\n",
              "      <td>582.0</td>\n",
              "      <td>845.0</td>\n",
              "      <td>50.0</td>\n",
              "      <td>234.0</td>\n",
              "      <td>#FFFFFF</td>\n",
              "      <td>271413.0</td>\n",
              "      <td>#08080C</td>\n",
              "      <td>...</td>\n",
              "      <td>6.098314e-02</td>\n",
              "      <td>7.728738e-01</td>\n",
              "      <td>2.950022e-01</td>\n",
              "      <td>31.0</td>\n",
              "      <td>32.0</td>\n",
              "      <td>0.8916</td>\n",
              "      <td>positive</td>\n",
              "      <td>32.0</td>\n",
              "      <td>0.103688</td>\n",
              "      <td>0.042228</td>\n",
              "    </tr>\n",
              "    <tr>\n",
              "      <th>4</th>\n",
              "      <td>6a8e741867d4f893afad015b77b52c39</td>\n",
              "      <td>166.0</td>\n",
              "      <td>815.0</td>\n",
              "      <td>466.0</td>\n",
              "      <td>879.0</td>\n",
              "      <td>64.0</td>\n",
              "      <td>300.0</td>\n",
              "      <td>#FFFFFF</td>\n",
              "      <td>490748.0</td>\n",
              "      <td>#09090E</td>\n",
              "      <td>...</td>\n",
              "      <td>1.403626e-08</td>\n",
              "      <td>1.294405e-24</td>\n",
              "      <td>2.357946e-11</td>\n",
              "      <td>24.0</td>\n",
              "      <td>25.0</td>\n",
              "      <td>0.0000</td>\n",
              "      <td>neutral</td>\n",
              "      <td>0.0</td>\n",
              "      <td>0.133475</td>\n",
              "      <td>0.031322</td>\n",
              "    </tr>\n",
              "    <tr>\n",
              "      <th>...</th>\n",
              "      <td>...</td>\n",
              "      <td>...</td>\n",
              "      <td>...</td>\n",
              "      <td>...</td>\n",
              "      <td>...</td>\n",
              "      <td>...</td>\n",
              "      <td>...</td>\n",
              "      <td>...</td>\n",
              "      <td>...</td>\n",
              "      <td>...</td>\n",
              "      <td>...</td>\n",
              "      <td>...</td>\n",
              "      <td>...</td>\n",
              "      <td>...</td>\n",
              "      <td>...</td>\n",
              "      <td>...</td>\n",
              "      <td>...</td>\n",
              "      <td>...</td>\n",
              "      <td>...</td>\n",
              "      <td>...</td>\n",
              "      <td>...</td>\n",
              "    </tr>\n",
              "    <tr>\n",
              "      <th>900</th>\n",
              "      <td>8968a702d64524827de2ccf55c802d6c</td>\n",
              "      <td>806.0</td>\n",
              "      <td>331.0</td>\n",
              "      <td>1040.0</td>\n",
              "      <td>381.0</td>\n",
              "      <td>50.0</td>\n",
              "      <td>234.0</td>\n",
              "      <td>#FFFFFF</td>\n",
              "      <td>274865.0</td>\n",
              "      <td>#08080C</td>\n",
              "      <td>...</td>\n",
              "      <td>1.185902e-10</td>\n",
              "      <td>1.944703e-17</td>\n",
              "      <td>2.967371e-14</td>\n",
              "      <td>30.0</td>\n",
              "      <td>33.0</td>\n",
              "      <td>0.0000</td>\n",
              "      <td>neutral</td>\n",
              "      <td>0.0</td>\n",
              "      <td>0.087996</td>\n",
              "      <td>0.033360</td>\n",
              "    </tr>\n",
              "    <tr>\n",
              "      <th>901</th>\n",
              "      <td>adunit-showtime-dexture-mpu</td>\n",
              "      <td>195.0</td>\n",
              "      <td>280.0</td>\n",
              "      <td>514.0</td>\n",
              "      <td>343.0</td>\n",
              "      <td>63.0</td>\n",
              "      <td>319.0</td>\n",
              "      <td>#242429</td>\n",
              "      <td>8925.0</td>\n",
              "      <td>#404249</td>\n",
              "      <td>...</td>\n",
              "      <td>4.744453e+01</td>\n",
              "      <td>1.809117e-03</td>\n",
              "      <td>5.513261e+00</td>\n",
              "      <td>35.0</td>\n",
              "      <td>29.0</td>\n",
              "      <td>0.0000</td>\n",
              "      <td>neutral</td>\n",
              "      <td>11.0</td>\n",
              "      <td>0.058430</td>\n",
              "      <td>0.004761</td>\n",
              "    </tr>\n",
              "    <tr>\n",
              "      <th>902</th>\n",
              "      <td>79bb17ace9de9ef7def221cc38b50c0c</td>\n",
              "      <td>78.0</td>\n",
              "      <td>184.0</td>\n",
              "      <td>283.0</td>\n",
              "      <td>235.0</td>\n",
              "      <td>51.0</td>\n",
              "      <td>205.0</td>\n",
              "      <td>#DC170F</td>\n",
              "      <td>516673.0</td>\n",
              "      <td>#991AD6</td>\n",
              "      <td>...</td>\n",
              "      <td>NaN</td>\n",
              "      <td>NaN</td>\n",
              "      <td>NaN</td>\n",
              "      <td>NaN</td>\n",
              "      <td>NaN</td>\n",
              "      <td>NaN</td>\n",
              "      <td>NaN</td>\n",
              "      <td>NaN</td>\n",
              "      <td>0.021518</td>\n",
              "      <td>0.004493</td>\n",
              "    </tr>\n",
              "    <tr>\n",
              "      <th>903</th>\n",
              "      <td>adunit-chanel-j12-tw-black-en-2022-mpu</td>\n",
              "      <td>78.0</td>\n",
              "      <td>184.0</td>\n",
              "      <td>283.0</td>\n",
              "      <td>235.0</td>\n",
              "      <td>51.0</td>\n",
              "      <td>205.0</td>\n",
              "      <td>#000001</td>\n",
              "      <td>266842.0</td>\n",
              "      <td>#FFFFFF</td>\n",
              "      <td>...</td>\n",
              "      <td>NaN</td>\n",
              "      <td>NaN</td>\n",
              "      <td>NaN</td>\n",
              "      <td>32.0</td>\n",
              "      <td>NaN</td>\n",
              "      <td>NaN</td>\n",
              "      <td>NaN</td>\n",
              "      <td>NaN</td>\n",
              "      <td>0.166533</td>\n",
              "      <td>0.042085</td>\n",
              "    </tr>\n",
              "    <tr>\n",
              "      <th>904</th>\n",
              "      <td>2561bbefebc84dc200ca14d63b221d55</td>\n",
              "      <td>490.0</td>\n",
              "      <td>509.0</td>\n",
              "      <td>730.0</td>\n",
              "      <td>567.0</td>\n",
              "      <td>58.0</td>\n",
              "      <td>240.0</td>\n",
              "      <td>#98C7D6</td>\n",
              "      <td>312583.0</td>\n",
              "      <td>#96C5D5</td>\n",
              "      <td>...</td>\n",
              "      <td>8.475326e-06</td>\n",
              "      <td>2.214757e-14</td>\n",
              "      <td>9.999999e+01</td>\n",
              "      <td>42.0</td>\n",
              "      <td>29.0</td>\n",
              "      <td>0.0000</td>\n",
              "      <td>neutral</td>\n",
              "      <td>0.0</td>\n",
              "      <td>0.176026</td>\n",
              "      <td>0.017177</td>\n",
              "    </tr>\n",
              "  </tbody>\n",
              "</table>\n",
              "<p>905 rows × 47 columns</p>\n",
              "</div>\n",
              "      <button class=\"colab-df-convert\" onclick=\"convertToInteractive('df-ed67b355-344a-44ff-b6af-e35fba05707d')\"\n",
              "              title=\"Convert this dataframe to an interactive table.\"\n",
              "              style=\"display:none;\">\n",
              "        \n",
              "  <svg xmlns=\"http://www.w3.org/2000/svg\" height=\"24px\"viewBox=\"0 0 24 24\"\n",
              "       width=\"24px\">\n",
              "    <path d=\"M0 0h24v24H0V0z\" fill=\"none\"/>\n",
              "    <path d=\"M18.56 5.44l.94 2.06.94-2.06 2.06-.94-2.06-.94-.94-2.06-.94 2.06-2.06.94zm-11 1L8.5 8.5l.94-2.06 2.06-.94-2.06-.94L8.5 2.5l-.94 2.06-2.06.94zm10 10l.94 2.06.94-2.06 2.06-.94-2.06-.94-.94-2.06-.94 2.06-2.06.94z\"/><path d=\"M17.41 7.96l-1.37-1.37c-.4-.4-.92-.59-1.43-.59-.52 0-1.04.2-1.43.59L10.3 9.45l-7.72 7.72c-.78.78-.78 2.05 0 2.83L4 21.41c.39.39.9.59 1.41.59.51 0 1.02-.2 1.41-.59l7.78-7.78 2.81-2.81c.8-.78.8-2.07 0-2.86zM5.41 20L4 18.59l7.72-7.72 1.47 1.35L5.41 20z\"/>\n",
              "  </svg>\n",
              "      </button>\n",
              "      \n",
              "  <style>\n",
              "    .colab-df-container {\n",
              "      display:flex;\n",
              "      flex-wrap:wrap;\n",
              "      gap: 12px;\n",
              "    }\n",
              "\n",
              "    .colab-df-convert {\n",
              "      background-color: #E8F0FE;\n",
              "      border: none;\n",
              "      border-radius: 50%;\n",
              "      cursor: pointer;\n",
              "      display: none;\n",
              "      fill: #1967D2;\n",
              "      height: 32px;\n",
              "      padding: 0 0 0 0;\n",
              "      width: 32px;\n",
              "    }\n",
              "\n",
              "    .colab-df-convert:hover {\n",
              "      background-color: #E2EBFA;\n",
              "      box-shadow: 0px 1px 2px rgba(60, 64, 67, 0.3), 0px 1px 3px 1px rgba(60, 64, 67, 0.15);\n",
              "      fill: #174EA6;\n",
              "    }\n",
              "\n",
              "    [theme=dark] .colab-df-convert {\n",
              "      background-color: #3B4455;\n",
              "      fill: #D2E3FC;\n",
              "    }\n",
              "\n",
              "    [theme=dark] .colab-df-convert:hover {\n",
              "      background-color: #434B5C;\n",
              "      box-shadow: 0px 1px 3px 1px rgba(0, 0, 0, 0.15);\n",
              "      filter: drop-shadow(0px 1px 2px rgba(0, 0, 0, 0.3));\n",
              "      fill: #FFFFFF;\n",
              "    }\n",
              "  </style>\n",
              "\n",
              "      <script>\n",
              "        const buttonEl =\n",
              "          document.querySelector('#df-ed67b355-344a-44ff-b6af-e35fba05707d button.colab-df-convert');\n",
              "        buttonEl.style.display =\n",
              "          google.colab.kernel.accessAllowed ? 'block' : 'none';\n",
              "\n",
              "        async function convertToInteractive(key) {\n",
              "          const element = document.querySelector('#df-ed67b355-344a-44ff-b6af-e35fba05707d');\n",
              "          const dataTable =\n",
              "            await google.colab.kernel.invokeFunction('convertToInteractive',\n",
              "                                                     [key], {});\n",
              "          if (!dataTable) return;\n",
              "\n",
              "          const docLinkHtml = 'Like what you see? Visit the ' +\n",
              "            '<a target=\"_blank\" href=https://colab.research.google.com/notebooks/data_table.ipynb>data table notebook</a>'\n",
              "            + ' to learn more about interactive tables.';\n",
              "          element.innerHTML = '';\n",
              "          dataTable['output_type'] = 'display_data';\n",
              "          await google.colab.output.renderOutput(dataTable, element);\n",
              "          const docLink = document.createElement('div');\n",
              "          docLink.innerHTML = docLinkHtml;\n",
              "          element.appendChild(docLink);\n",
              "        }\n",
              "      </script>\n",
              "    </div>\n",
              "  </div>\n",
              "  "
            ],
            "text/plain": [
              "                                    game_id  cta_start_x  cta_start_y  \\\n",
              "0          ed3071a667a11cc56e88ae0489bfe6aa         15.0         38.0   \n",
              "1          4799763419d621cd41e7fb8abbcdd45d        348.0        795.0   \n",
              "2          bf1f7af46eec0e92939a8b3ba51cbacd        141.0        744.0   \n",
              "3          e68e20f592457b875ce29757ab855dfe        348.0        795.0   \n",
              "4          6a8e741867d4f893afad015b77b52c39        166.0        815.0   \n",
              "..                                      ...          ...          ...   \n",
              "900        8968a702d64524827de2ccf55c802d6c        806.0        331.0   \n",
              "901             adunit-showtime-dexture-mpu        195.0        280.0   \n",
              "902        79bb17ace9de9ef7def221cc38b50c0c         78.0        184.0   \n",
              "903  adunit-chanel-j12-tw-black-en-2022-mpu         78.0        184.0   \n",
              "904        2561bbefebc84dc200ca14d63b221d55        490.0        509.0   \n",
              "\n",
              "     cta_end_x  cta_end_y  cta_height  cta_width  color_1  color_1_occurance  \\\n",
              "0        615.0      938.0       900.0      600.0  #010101           502997.0   \n",
              "1        582.0      845.0        50.0      234.0  #FFFFFF           274865.0   \n",
              "2        527.0      809.0        65.0      386.0  #010101           499029.0   \n",
              "3        582.0      845.0        50.0      234.0  #FFFFFF           271413.0   \n",
              "4        466.0      879.0        64.0      300.0  #FFFFFF           490748.0   \n",
              "..         ...        ...         ...        ...      ...                ...   \n",
              "900     1040.0      381.0        50.0      234.0  #FFFFFF           274865.0   \n",
              "901      514.0      343.0        63.0      319.0  #242429             8925.0   \n",
              "902      283.0      235.0        51.0      205.0  #DC170F           516673.0   \n",
              "903      283.0      235.0        51.0      205.0  #000001           266842.0   \n",
              "904      730.0      567.0        58.0      240.0  #98C7D6           312583.0   \n",
              "\n",
              "     color_2  ...  end_frame_sad end_frame_surprise  end_frame_neutral  \\\n",
              "0    #5D0600  ...   5.074958e+00       5.813215e-03       9.382497e+01   \n",
              "1    #08080C  ...   2.370910e+00       1.012618e+01       9.335563e-01   \n",
              "2    #FEFEFA  ...   6.330207e+01       7.455818e-03       3.348933e+00   \n",
              "3    #08080C  ...   6.098314e-02       7.728738e-01       2.950022e-01   \n",
              "4    #09090E  ...   1.403626e-08       1.294405e-24       2.357946e-11   \n",
              "..       ...  ...            ...                ...                ...   \n",
              "900  #08080C  ...   1.185902e-10       1.944703e-17       2.967371e-14   \n",
              "901  #404249  ...   4.744453e+01       1.809117e-03       5.513261e+00   \n",
              "902  #991AD6  ...            NaN                NaN                NaN   \n",
              "903  #FFFFFF  ...            NaN                NaN                NaN   \n",
              "904  #96C5D5  ...   8.475326e-06       2.214757e-14       9.999999e+01   \n",
              "\n",
              "    beg_frame_age  end_frame_age sentiment_score  sentiment  word_count  \\\n",
              "0            33.0           33.0          0.0000    neutral        11.0   \n",
              "1            31.0           36.0          0.9336   positive        35.0   \n",
              "2            37.0           34.0          0.0000    neutral         1.0   \n",
              "3            31.0           32.0          0.8916   positive        32.0   \n",
              "4            24.0           25.0          0.0000    neutral         0.0   \n",
              "..            ...            ...             ...        ...         ...   \n",
              "900          30.0           33.0          0.0000    neutral         0.0   \n",
              "901          35.0           29.0          0.0000    neutral        11.0   \n",
              "902           NaN            NaN             NaN        NaN         NaN   \n",
              "903          32.0            NaN             NaN        NaN         NaN   \n",
              "904          42.0           29.0          0.0000    neutral         0.0   \n",
              "\n",
              "           ER       CTR  \n",
              "0    0.130945  0.003018  \n",
              "1    0.119002  0.045814  \n",
              "2    0.021841  0.003419  \n",
              "3    0.103688  0.042228  \n",
              "4    0.133475  0.031322  \n",
              "..        ...       ...  \n",
              "900  0.087996  0.033360  \n",
              "901  0.058430  0.004761  \n",
              "902  0.021518  0.004493  \n",
              "903  0.166533  0.042085  \n",
              "904  0.176026  0.017177  \n",
              "\n",
              "[905 rows x 47 columns]"
            ]
          },
          "execution_count": 91,
          "metadata": {},
          "output_type": "execute_result"
        }
      ],
      "source": [
        "df_all"
      ]
    },
    {
      "cell_type": "code",
      "execution_count": 94,
      "metadata": {
        "id": "K4wSrKxq106G"
      },
      "outputs": [],
      "source": [
        "df_all.to_csv('./df_all.csv', index=False)"
      ]
    },
    {
      "cell_type": "markdown",
      "metadata": {
        "id": "7Jfz3s1ni7S0"
      },
      "source": [
        "## Prepare Datset"
      ]
    },
    {
      "cell_type": "code",
      "execution_count": 2,
      "metadata": {},
      "outputs": [],
      "source": [
        "df_all = pd.read_csv(\"../data/df_all.csv\")"
      ]
    },
    {
      "cell_type": "code",
      "execution_count": 4,
      "metadata": {},
      "outputs": [
        {
          "name": "stdout",
          "output_type": "stream",
          "text": [
            "<class 'pandas.core.frame.DataFrame'>\n",
            "RangeIndex: 905 entries, 0 to 904\n",
            "Data columns (total 47 columns):\n",
            " #   Column              Non-Null Count  Dtype  \n",
            "---  ------              --------------  -----  \n",
            " 0   game_id             905 non-null    object \n",
            " 1   cta_start_x         905 non-null    float64\n",
            " 2   cta_start_y         905 non-null    float64\n",
            " 3   cta_end_x           905 non-null    float64\n",
            " 4   cta_end_y           905 non-null    float64\n",
            " 5   cta_height          905 non-null    float64\n",
            " 6   cta_width           905 non-null    float64\n",
            " 7   color_1             900 non-null    object \n",
            " 8   color_1_occurance   900 non-null    float64\n",
            " 9   color_2             898 non-null    object \n",
            " 10  color_2_occurance   898 non-null    float64\n",
            " 11  color_3             898 non-null    object \n",
            " 12  color_3_occurance   898 non-null    float64\n",
            " 13  color_4             897 non-null    object \n",
            " 14  color_4_occurance   897 non-null    float64\n",
            " 15  color_5             894 non-null    object \n",
            " 16  color_5_occurance   894 non-null    float64\n",
            " 17  logo_start_x        342 non-null    float64\n",
            " 18  logo_start_y        342 non-null    float64\n",
            " 19  logo_end_x          342 non-null    float64\n",
            " 20  logo_end_y          342 non-null    float64\n",
            " 21  logo_height         342 non-null    float64\n",
            " 22  logo_width          342 non-null    float64\n",
            " 23  audio_duration(ms)  513 non-null    float64\n",
            " 24  audio_intensity     513 non-null    float64\n",
            " 25  audio_frame_count   513 non-null    float64\n",
            " 26  beg_frame_angry     605 non-null    float64\n",
            " 27  beg_frame_disgust   605 non-null    float64\n",
            " 28  beg_frame_fear      605 non-null    float64\n",
            " 29  beg_frame_happy     605 non-null    float64\n",
            " 30  beg_frame_sad       605 non-null    float64\n",
            " 31  beg_frame_surprise  605 non-null    float64\n",
            " 32  beg_frame_neutral   605 non-null    float64\n",
            " 33  end_frame_angry     542 non-null    float64\n",
            " 34  end_frame_disgust   542 non-null    float64\n",
            " 35  end_frame_fear      542 non-null    float64\n",
            " 36  end_frame_happy     542 non-null    float64\n",
            " 37  end_frame_sad       542 non-null    float64\n",
            " 38  end_frame_surprise  542 non-null    float64\n",
            " 39  end_frame_neutral   542 non-null    float64\n",
            " 40  beg_frame_age       605 non-null    float64\n",
            " 41  end_frame_age       542 non-null    float64\n",
            " 42  sentiment_score     513 non-null    float64\n",
            " 43  sentiment           513 non-null    object \n",
            " 44  word_count          513 non-null    float64\n",
            " 45  ER                  905 non-null    float64\n",
            " 46  CTR                 905 non-null    float64\n",
            "dtypes: float64(40), object(7)\n",
            "memory usage: 332.4+ KB\n"
          ]
        }
      ],
      "source": [
        "df_all.info()"
      ]
    },
    {
      "cell_type": "code",
      "execution_count": 5,
      "metadata": {
        "id": "CfltvTrL73px"
      },
      "outputs": [],
      "source": [
        "df_all.drop(columns = ['logo_start_x','logo_start_y','logo_end_x','logo_end_y','logo_height','logo_width'], inplace=True)"
      ]
    },
    {
      "cell_type": "code",
      "execution_count": 6,
      "metadata": {
        "colab": {
          "base_uri": "https://localhost:8080/"
        },
        "id": "b0G9p41lCT3t",
        "outputId": "b188533f-d6b6-4e30-eb90-9a0c1d188ea9"
      },
      "outputs": [
        {
          "data": {
            "text/plain": [
              "Index(['game_id', 'cta_start_x', 'cta_start_y', 'cta_end_x', 'cta_end_y',\n",
              "       'cta_height', 'cta_width', 'color_1', 'color_1_occurance', 'color_2',\n",
              "       'color_2_occurance', 'color_3', 'color_3_occurance', 'color_4',\n",
              "       'color_4_occurance', 'color_5', 'color_5_occurance',\n",
              "       'audio_duration(ms)', 'audio_intensity', 'audio_frame_count',\n",
              "       'beg_frame_angry', 'beg_frame_disgust', 'beg_frame_fear',\n",
              "       'beg_frame_happy', 'beg_frame_sad', 'beg_frame_surprise',\n",
              "       'beg_frame_neutral', 'end_frame_angry', 'end_frame_disgust',\n",
              "       'end_frame_fear', 'end_frame_happy', 'end_frame_sad',\n",
              "       'end_frame_surprise', 'end_frame_neutral', 'beg_frame_age',\n",
              "       'end_frame_age', 'sentiment_score', 'sentiment', 'word_count', 'ER',\n",
              "       'CTR'],\n",
              "      dtype='object')"
            ]
          },
          "execution_count": 6,
          "metadata": {},
          "output_type": "execute_result"
        }
      ],
      "source": [
        "df_all.columns"
      ]
    },
    {
      "cell_type": "code",
      "execution_count": 7,
      "metadata": {
        "id": "uoS-FYQD7g__"
      },
      "outputs": [],
      "source": [
        "df_all[['sentiment_a','sentiment_b']] = pd.get_dummies(df_all['sentiment'], columns=['sentiment'] , drop_first=True).values"
      ]
    },
    {
      "cell_type": "code",
      "execution_count": 8,
      "metadata": {
        "id": "v3p45ruX7ZU2"
      },
      "outputs": [],
      "source": [
        "non_numericals = ['color_3', 'color_2', 'color_4', 'color_5', 'color_1']"
      ]
    },
    {
      "cell_type": "code",
      "execution_count": 9,
      "metadata": {
        "id": "gCRFCHuZ_udz"
      },
      "outputs": [],
      "source": [
        "# label encode \n",
        "from sklearn.preprocessing import LabelEncoder\n",
        "le = LabelEncoder()\n",
        "for col in non_numericals:\n",
        "    df_all[col+'_l_encoded'] = le.fit_transform(df_all[col])\n",
        "\n",
        "df_all.drop(columns=non_numericals, axis=1, inplace=True)"
      ]
    },
    {
      "cell_type": "code",
      "execution_count": 10,
      "metadata": {
        "id": "XihtnZLxCilY"
      },
      "outputs": [],
      "source": [
        "df_all.drop(columns =['sentiment'], inplace=True)"
      ]
    },
    {
      "cell_type": "code",
      "execution_count": 11,
      "metadata": {
        "colab": {
          "base_uri": "https://localhost:8080/"
        },
        "id": "ZIE81JV3CzQy",
        "outputId": "fd5070bf-7eea-43d4-edb0-1770a752fd04"
      },
      "outputs": [
        {
          "data": {
            "text/plain": [
              "game_id                object\n",
              "cta_start_x           float64\n",
              "cta_start_y           float64\n",
              "cta_end_x             float64\n",
              "cta_end_y             float64\n",
              "cta_height            float64\n",
              "cta_width             float64\n",
              "color_1_occurance     float64\n",
              "color_2_occurance     float64\n",
              "color_3_occurance     float64\n",
              "color_4_occurance     float64\n",
              "color_5_occurance     float64\n",
              "audio_duration(ms)    float64\n",
              "audio_intensity       float64\n",
              "audio_frame_count     float64\n",
              "beg_frame_angry       float64\n",
              "beg_frame_disgust     float64\n",
              "beg_frame_fear        float64\n",
              "beg_frame_happy       float64\n",
              "beg_frame_sad         float64\n",
              "beg_frame_surprise    float64\n",
              "beg_frame_neutral     float64\n",
              "end_frame_angry       float64\n",
              "end_frame_disgust     float64\n",
              "end_frame_fear        float64\n",
              "end_frame_happy       float64\n",
              "end_frame_sad         float64\n",
              "end_frame_surprise    float64\n",
              "end_frame_neutral     float64\n",
              "beg_frame_age         float64\n",
              "end_frame_age         float64\n",
              "sentiment_score       float64\n",
              "word_count            float64\n",
              "ER                    float64\n",
              "CTR                   float64\n",
              "sentiment_a             uint8\n",
              "sentiment_b             uint8\n",
              "color_3_l_encoded       int64\n",
              "color_2_l_encoded       int64\n",
              "color_4_l_encoded       int64\n",
              "color_5_l_encoded       int64\n",
              "color_1_l_encoded       int64\n",
              "dtype: object"
            ]
          },
          "execution_count": 11,
          "metadata": {},
          "output_type": "execute_result"
        }
      ],
      "source": [
        "df_all.dtypes"
      ]
    },
    {
      "cell_type": "code",
      "execution_count": 12,
      "metadata": {
        "colab": {
          "base_uri": "https://localhost:8080/"
        },
        "id": "SEsEwocUDGya",
        "outputId": "0d3d9614-dc46-466c-a4b6-1e60e21c7928"
      },
      "outputs": [
        {
          "data": {
            "text/plain": [
              "game_id                 0\n",
              "cta_start_x             0\n",
              "cta_start_y             0\n",
              "cta_end_x               0\n",
              "cta_end_y               0\n",
              "cta_height              0\n",
              "cta_width               0\n",
              "color_1_occurance       5\n",
              "color_2_occurance       7\n",
              "color_3_occurance       7\n",
              "color_4_occurance       8\n",
              "color_5_occurance      11\n",
              "audio_duration(ms)    392\n",
              "audio_intensity       392\n",
              "audio_frame_count     392\n",
              "beg_frame_angry       300\n",
              "beg_frame_disgust     300\n",
              "beg_frame_fear        300\n",
              "beg_frame_happy       300\n",
              "beg_frame_sad         300\n",
              "beg_frame_surprise    300\n",
              "beg_frame_neutral     300\n",
              "end_frame_angry       363\n",
              "end_frame_disgust     363\n",
              "end_frame_fear        363\n",
              "end_frame_happy       363\n",
              "end_frame_sad         363\n",
              "end_frame_surprise    363\n",
              "end_frame_neutral     363\n",
              "beg_frame_age         300\n",
              "end_frame_age         363\n",
              "sentiment_score       392\n",
              "word_count            392\n",
              "ER                      0\n",
              "CTR                     0\n",
              "sentiment_a             0\n",
              "sentiment_b             0\n",
              "color_3_l_encoded       0\n",
              "color_2_l_encoded       0\n",
              "color_4_l_encoded       0\n",
              "color_5_l_encoded       0\n",
              "color_1_l_encoded       0\n",
              "dtype: int64"
            ]
          },
          "execution_count": 12,
          "metadata": {},
          "output_type": "execute_result"
        }
      ],
      "source": [
        "df_all.isnull().sum()"
      ]
    },
    {
      "cell_type": "code",
      "execution_count": 13,
      "metadata": {
        "id": "4_G9IqLHC5N2"
      },
      "outputs": [],
      "source": [
        "df_all.dropna(axis = 0, subset=['beg_frame_angry'], inplace=True)"
      ]
    },
    {
      "cell_type": "code",
      "execution_count": 14,
      "metadata": {
        "colab": {
          "base_uri": "https://localhost:8080/"
        },
        "id": "QTZzbRiVDrw4",
        "outputId": "cbf31f60-aadd-44f7-939a-aea4547f0819"
      },
      "outputs": [
        {
          "data": {
            "text/plain": [
              "game_id                0\n",
              "cta_start_x            0\n",
              "cta_start_y            0\n",
              "cta_end_x              0\n",
              "cta_end_y              0\n",
              "cta_height             0\n",
              "cta_width              0\n",
              "color_1_occurance      3\n",
              "color_2_occurance      3\n",
              "color_3_occurance      3\n",
              "color_4_occurance      4\n",
              "color_5_occurance      5\n",
              "audio_duration(ms)    92\n",
              "audio_intensity       92\n",
              "audio_frame_count     92\n",
              "beg_frame_angry        0\n",
              "beg_frame_disgust      0\n",
              "beg_frame_fear         0\n",
              "beg_frame_happy        0\n",
              "beg_frame_sad          0\n",
              "beg_frame_surprise     0\n",
              "beg_frame_neutral      0\n",
              "end_frame_angry       63\n",
              "end_frame_disgust     63\n",
              "end_frame_fear        63\n",
              "end_frame_happy       63\n",
              "end_frame_sad         63\n",
              "end_frame_surprise    63\n",
              "end_frame_neutral     63\n",
              "beg_frame_age          0\n",
              "end_frame_age         63\n",
              "sentiment_score       92\n",
              "word_count            92\n",
              "ER                     0\n",
              "CTR                    0\n",
              "sentiment_a            0\n",
              "sentiment_b            0\n",
              "color_3_l_encoded      0\n",
              "color_2_l_encoded      0\n",
              "color_4_l_encoded      0\n",
              "color_5_l_encoded      0\n",
              "color_1_l_encoded      0\n",
              "dtype: int64"
            ]
          },
          "execution_count": 14,
          "metadata": {},
          "output_type": "execute_result"
        }
      ],
      "source": [
        "df_all.isnull().sum()"
      ]
    },
    {
      "cell_type": "markdown",
      "metadata": {
        "id": "zirC1wwND-OU"
      },
      "source": [
        "### To treat the nan values for the rest columns\n",
        "- for audios we can set 0 since, they are nan because the creative doesn't have audio\n",
        "- for emotions: we can set them also to 0 since the model weren't able to detect emotion they can be considered as neutral"
      ]
    },
    {
      "cell_type": "code",
      "execution_count": 15,
      "metadata": {
        "id": "85URBhlzFytb"
      },
      "outputs": [],
      "source": [
        "df_all.fillna(0, inplace=True)\n"
      ]
    },
    {
      "cell_type": "code",
      "execution_count": 16,
      "metadata": {
        "colab": {
          "base_uri": "https://localhost:8080/"
        },
        "id": "GPokRCVOGVQi",
        "outputId": "7bc24526-cf87-4c7d-a311-86e49f6871c2"
      },
      "outputs": [
        {
          "data": {
            "text/plain": [
              "Index(['game_id', 'cta_start_x', 'cta_start_y', 'cta_end_x', 'cta_end_y',\n",
              "       'cta_height', 'cta_width', 'color_1_occurance', 'color_2_occurance',\n",
              "       'color_3_occurance', 'color_4_occurance', 'color_5_occurance',\n",
              "       'audio_duration(ms)', 'audio_intensity', 'audio_frame_count',\n",
              "       'beg_frame_angry', 'beg_frame_disgust', 'beg_frame_fear',\n",
              "       'beg_frame_happy', 'beg_frame_sad', 'beg_frame_surprise',\n",
              "       'beg_frame_neutral', 'end_frame_angry', 'end_frame_disgust',\n",
              "       'end_frame_fear', 'end_frame_happy', 'end_frame_sad',\n",
              "       'end_frame_surprise', 'end_frame_neutral', 'beg_frame_age',\n",
              "       'end_frame_age', 'sentiment_score', 'word_count', 'ER', 'CTR',\n",
              "       'sentiment_a', 'sentiment_b', 'color_3_l_encoded', 'color_2_l_encoded',\n",
              "       'color_4_l_encoded', 'color_5_l_encoded', 'color_1_l_encoded'],\n",
              "      dtype='object')"
            ]
          },
          "execution_count": 16,
          "metadata": {},
          "output_type": "execute_result"
        }
      ],
      "source": [
        "df_all.columns"
      ]
    },
    {
      "cell_type": "markdown",
      "metadata": {},
      "source": []
    },
    {
      "cell_type": "code",
      "execution_count": 37,
      "metadata": {},
      "outputs": [],
      "source": [
        "df_all.to_csv(\"../data/df_all_encoded.csv\", index=False)"
      ]
    },
    {
      "cell_type": "markdown",
      "metadata": {
        "id": "B5_sDAv35KsG"
      },
      "source": [
        "## Model Development\n"
      ]
    },
    {
      "cell_type": "code",
      "execution_count": 17,
      "metadata": {
        "id": "kWBMmGtH7fQc"
      },
      "outputs": [
        {
          "name": "stderr",
          "output_type": "stream",
          "text": [
            "2022-11-06 11:08:08.274648: I tensorflow/core/platform/cpu_feature_guard.cc:193] This TensorFlow binary is optimized with oneAPI Deep Neural Network Library (oneDNN) to use the following CPU instructions in performance-critical operations:  AVX2 FMA\n",
            "To enable them in other operations, rebuild TensorFlow with the appropriate compiler flags.\n",
            "2022-11-06 11:08:12.526594: W tensorflow/stream_executor/platform/default/dso_loader.cc:64] Could not load dynamic library 'libcudart.so.11.0'; dlerror: libcudart.so.11.0: cannot open shared object file: No such file or directory\n",
            "2022-11-06 11:08:12.526686: I tensorflow/stream_executor/cuda/cudart_stub.cc:29] Ignore above cudart dlerror if you do not have a GPU set up on your machine.\n",
            "2022-11-06 11:08:13.410346: E tensorflow/stream_executor/cuda/cuda_blas.cc:2981] Unable to register cuBLAS factory: Attempting to register factory for plugin cuBLAS when one has already been registered\n",
            "2022-11-06 11:08:21.955135: W tensorflow/stream_executor/platform/default/dso_loader.cc:64] Could not load dynamic library 'libnvinfer.so.7'; dlerror: libnvinfer.so.7: cannot open shared object file: No such file or directory\n",
            "2022-11-06 11:08:21.955445: W tensorflow/stream_executor/platform/default/dso_loader.cc:64] Could not load dynamic library 'libnvinfer_plugin.so.7'; dlerror: libnvinfer_plugin.so.7: cannot open shared object file: No such file or directory\n",
            "2022-11-06 11:08:21.955466: W tensorflow/compiler/tf2tensorrt/utils/py_utils.cc:38] TF-TRT Warning: Cannot dlopen some TensorRT libraries. If you would like to use Nvidia GPU with TensorRT, please make sure the missing libraries mentioned above are installed properly.\n"
          ]
        }
      ],
      "source": [
        "from tensorflow.keras.models import Sequential, Model\n",
        "from tensorflow.keras.layers import BatchNormalization, Input\n",
        "from tensorflow.keras.layers import Conv2D, Activation\n",
        "from tensorflow.keras.layers import Dropout, MaxPooling2D, GlobalAveragePooling2D\n",
        "from tensorflow.keras.layers import Dense, Flatten\n",
        "from tensorflow.keras.layers import Concatenate, concatenate\n",
        "\n",
        "import tensorflow as tf\n",
        "from sklearn.model_selection import train_test_split"
      ]
    },
    {
      "cell_type": "code",
      "execution_count": 18,
      "metadata": {
        "id": "nLnHbo7k8cnp"
      },
      "outputs": [],
      "source": [
        "y = df_all['CTR']\n",
        "x = df_all.drop(['ER','CTR', 'game_id'],axis=1)\n"
      ]
    },
    {
      "cell_type": "code",
      "execution_count": 19,
      "metadata": {
        "id": "7XY-70AVJSFP"
      },
      "outputs": [],
      "source": [
        "X_train, X_test, y_train, y_test = train_test_split(x, y, test_size=0.33, random_state=42)"
      ]
    },
    {
      "cell_type": "code",
      "execution_count": 20,
      "metadata": {
        "colab": {
          "base_uri": "https://localhost:8080/"
        },
        "id": "PuYcGpgQGsIq",
        "outputId": "12ad39cc-2e62-45d4-d514-f4a1ddb3fb8b"
      },
      "outputs": [
        {
          "data": {
            "text/plain": [
              "((405, 39), (405,))"
            ]
          },
          "execution_count": 20,
          "metadata": {},
          "output_type": "execute_result"
        }
      ],
      "source": [
        "X_train.shape, y_train.shape"
      ]
    },
    {
      "cell_type": "code",
      "execution_count": 21,
      "metadata": {
        "id": "S35TasaTKgRh"
      },
      "outputs": [],
      "source": [
        "def df_to_dataset(dataframe, shuffle=True, batch_size=32):\n",
        "  dataframe = dataframe.copy()\n",
        "  labels = dataframe.pop('CTR')\n",
        "  ds = tf.data.Dataset.from_tensor_slices((dict(dataframe), labels))\n",
        "  if shuffle:\n",
        "    ds = ds.shuffle(buffer_size=len(dataframe))\n",
        "  ds = ds.batch(batch_size)\n",
        "  return ds"
      ]
    },
    {
      "cell_type": "code",
      "execution_count": 25,
      "metadata": {
        "id": "Y6jz1hxAGl8S"
      },
      "outputs": [],
      "source": [
        "def input_model(x):\n",
        "    x = Dense(39, activation=\"relu\")(x)\n",
        "    x = Dense(256, activation=\"relu\")(x)\n",
        "    x = Dense(512, activation=\"relu\")(x)\n",
        "    x = Dense(128, activation=\"relu\")(x) \n",
        "    return x"
      ]
    },
    {
      "cell_type": "code",
      "execution_count": 26,
      "metadata": {
        "id": "pikACejmjObM"
      },
      "outputs": [],
      "source": [
        "def build_model(input_shape):\n",
        "    input_data = Input(shape=input_shape)\n",
        "    \n",
        "    x = input_model(input_data)\n",
        "    \n",
        "    x = Dense(20, activation='relu')(x)\n",
        "    x = Dense(1, activation=\"linear\")(x)\n",
        "\n",
        "    return tf.keras.Model(inputs=[input_data],outputs=x)\n"
      ]
    },
    {
      "cell_type": "code",
      "execution_count": 27,
      "metadata": {
        "colab": {
          "base_uri": "https://localhost:8080/",
          "height": 363
        },
        "id": "VXbuDpsAjOoQ",
        "outputId": "bd3e2088-0869-4a19-b0af-76d4f199b635"
      },
      "outputs": [],
      "source": [
        "model = build_model(input_shape=(39,605,1))\n",
        "opt =  tf.keras.optimizers.Adam(learning_rate=1e-5, decay=1e-5 / 200)\n",
        "model.compile(loss=\"mean_absolute_percentage_error\", optimizer=opt)"
      ]
    },
    {
      "cell_type": "code",
      "execution_count": 28,
      "metadata": {
        "id": "QSMkCxZgjOq0"
      },
      "outputs": [
        {
          "name": "stdout",
          "output_type": "stream",
          "text": [
            "Model: \"model\"\n",
            "_________________________________________________________________\n",
            " Layer (type)                Output Shape              Param #   \n",
            "=================================================================\n",
            " input_2 (InputLayer)        [(None, 39, 605, 1)]      0         \n",
            "                                                                 \n",
            " dense_5 (Dense)             (None, 39, 605, 39)       78        \n",
            "                                                                 \n",
            " dense_6 (Dense)             (None, 39, 605, 256)      10240     \n",
            "                                                                 \n",
            " dense_7 (Dense)             (None, 39, 605, 512)      131584    \n",
            "                                                                 \n",
            " dense_8 (Dense)             (None, 39, 605, 128)      65664     \n",
            "                                                                 \n",
            " dense_9 (Dense)             (None, 39, 605, 20)       2580      \n",
            "                                                                 \n",
            " dense_10 (Dense)            (None, 39, 605, 1)        21        \n",
            "                                                                 \n",
            "=================================================================\n",
            "Total params: 210,167\n",
            "Trainable params: 210,167\n",
            "Non-trainable params: 0\n",
            "_________________________________________________________________\n",
            "None\n"
          ]
        }
      ],
      "source": [
        "print(model.summary())"
      ]
    },
    {
      "cell_type": "code",
      "execution_count": 34,
      "metadata": {
        "id": "TkGmVkssjOtv"
      },
      "outputs": [
        {
          "name": "stdout",
          "output_type": "stream",
          "text": [
            "Epoch 1/500\n",
            "WARNING:tensorflow:Model was constructed with shape (None, 39, 605, 1) for input KerasTensor(type_spec=TensorSpec(shape=(None, 39, 605, 1), dtype=tf.float32, name='input_2'), name='input_2', description=\"created by layer 'input_2'\"), but it was called on an input with incompatible shape (None, 39).\n"
          ]
        },
        {
          "ename": "ValueError",
          "evalue": "in user code:\n\n    File \"/home/n/anaconda3/envs/env_opencv/lib/python3.10/site-packages/keras/engine/training.py\", line 1160, in train_function  *\n        return step_function(self, iterator)\n    File \"/home/n/anaconda3/envs/env_opencv/lib/python3.10/site-packages/keras/engine/training.py\", line 1146, in step_function  **\n        outputs = model.distribute_strategy.run(run_step, args=(data,))\n    File \"/home/n/anaconda3/envs/env_opencv/lib/python3.10/site-packages/keras/engine/training.py\", line 1135, in run_step  **\n        outputs = model.train_step(data)\n    File \"/home/n/anaconda3/envs/env_opencv/lib/python3.10/site-packages/keras/engine/training.py\", line 993, in train_step\n        y_pred = self(x, training=True)\n    File \"/home/n/anaconda3/envs/env_opencv/lib/python3.10/site-packages/keras/utils/traceback_utils.py\", line 70, in error_handler\n        raise e.with_traceback(filtered_tb) from None\n    File \"/home/n/anaconda3/envs/env_opencv/lib/python3.10/site-packages/keras/engine/input_spec.py\", line 277, in assert_input_compatibility\n        raise ValueError(\n\n    ValueError: Exception encountered when calling layer \"model\" \"                 f\"(type Functional).\n    \n    Input 0 of layer \"dense_5\" is incompatible with the layer: expected axis -1 of input shape to have value 1, but received input with shape (None, 39)\n    \n    Call arguments received by layer \"model\" \"                 f\"(type Functional):\n      • inputs=('tf.Tensor(shape=(None, 39), dtype=float64)',)\n      • training=True\n      • mask=None\n",
          "output_type": "error",
          "traceback": [
            "\u001b[0;31m---------------------------------------------------------------------------\u001b[0m",
            "\u001b[0;31mValueError\u001b[0m                                Traceback (most recent call last)",
            "\u001b[1;32m/home/n/Documents/10_Academy/creative_optimization/notebooks/creative_ad.ipynb Cell 41\u001b[0m in \u001b[0;36m<cell line: 1>\u001b[0;34m()\u001b[0m\n\u001b[0;32m----> <a href='vscode-notebook-cell:/home/n/Documents/10_Academy/creative_optimization/notebooks/creative_ad.ipynb#X53sZmlsZQ%3D%3D?line=0'>1</a>\u001b[0m history \u001b[39m=\u001b[39m model\u001b[39m.\u001b[39;49mfit(\n\u001b[1;32m      <a href='vscode-notebook-cell:/home/n/Documents/10_Academy/creative_optimization/notebooks/creative_ad.ipynb#X53sZmlsZQ%3D%3D?line=1'>2</a>\u001b[0m     x\u001b[39m=\u001b[39;49m[\n\u001b[1;32m      <a href='vscode-notebook-cell:/home/n/Documents/10_Academy/creative_optimization/notebooks/creative_ad.ipynb#X53sZmlsZQ%3D%3D?line=2'>3</a>\u001b[0m         tf\u001b[39m.\u001b[39;49mcast(X_train,tf\u001b[39m.\u001b[39;49mfloat64),\n\u001b[1;32m      <a href='vscode-notebook-cell:/home/n/Documents/10_Academy/creative_optimization/notebooks/creative_ad.ipynb#X53sZmlsZQ%3D%3D?line=3'>4</a>\u001b[0m         \n\u001b[1;32m      <a href='vscode-notebook-cell:/home/n/Documents/10_Academy/creative_optimization/notebooks/creative_ad.ipynb#X53sZmlsZQ%3D%3D?line=4'>5</a>\u001b[0m         ],\n\u001b[1;32m      <a href='vscode-notebook-cell:/home/n/Documents/10_Academy/creative_optimization/notebooks/creative_ad.ipynb#X53sZmlsZQ%3D%3D?line=5'>6</a>\u001b[0m     y \u001b[39m=\u001b[39;49m tf\u001b[39m.\u001b[39;49mcast(y_train, tf\u001b[39m.\u001b[39;49mfloat64),\n\u001b[1;32m      <a href='vscode-notebook-cell:/home/n/Documents/10_Academy/creative_optimization/notebooks/creative_ad.ipynb#X53sZmlsZQ%3D%3D?line=6'>7</a>\u001b[0m     epochs\u001b[39m=\u001b[39;49m\u001b[39m500\u001b[39;49m,batch_size\u001b[39m=\u001b[39;49m\u001b[39m8\u001b[39;49m)\n",
            "File \u001b[0;32m~/anaconda3/envs/env_opencv/lib/python3.10/site-packages/keras/utils/traceback_utils.py:70\u001b[0m, in \u001b[0;36mfilter_traceback.<locals>.error_handler\u001b[0;34m(*args, **kwargs)\u001b[0m\n\u001b[1;32m     67\u001b[0m     filtered_tb \u001b[39m=\u001b[39m _process_traceback_frames(e\u001b[39m.\u001b[39m__traceback__)\n\u001b[1;32m     68\u001b[0m     \u001b[39m# To get the full stack trace, call:\u001b[39;00m\n\u001b[1;32m     69\u001b[0m     \u001b[39m# `tf.debugging.disable_traceback_filtering()`\u001b[39;00m\n\u001b[0;32m---> 70\u001b[0m     \u001b[39mraise\u001b[39;00m e\u001b[39m.\u001b[39mwith_traceback(filtered_tb) \u001b[39mfrom\u001b[39;00m \u001b[39mNone\u001b[39m\n\u001b[1;32m     71\u001b[0m \u001b[39mfinally\u001b[39;00m:\n\u001b[1;32m     72\u001b[0m     \u001b[39mdel\u001b[39;00m filtered_tb\n",
            "File \u001b[0;32m/tmp/__autograph_generated_filejfyidjr1.py:15\u001b[0m, in \u001b[0;36mouter_factory.<locals>.inner_factory.<locals>.tf__train_function\u001b[0;34m(iterator)\u001b[0m\n\u001b[1;32m     13\u001b[0m \u001b[39mtry\u001b[39;00m:\n\u001b[1;32m     14\u001b[0m     do_return \u001b[39m=\u001b[39m \u001b[39mTrue\u001b[39;00m\n\u001b[0;32m---> 15\u001b[0m     retval_ \u001b[39m=\u001b[39m ag__\u001b[39m.\u001b[39mconverted_call(ag__\u001b[39m.\u001b[39mld(step_function), (ag__\u001b[39m.\u001b[39mld(\u001b[39mself\u001b[39m), ag__\u001b[39m.\u001b[39mld(iterator)), \u001b[39mNone\u001b[39;00m, fscope)\n\u001b[1;32m     16\u001b[0m \u001b[39mexcept\u001b[39;00m:\n\u001b[1;32m     17\u001b[0m     do_return \u001b[39m=\u001b[39m \u001b[39mFalse\u001b[39;00m\n",
            "\u001b[0;31mValueError\u001b[0m: in user code:\n\n    File \"/home/n/anaconda3/envs/env_opencv/lib/python3.10/site-packages/keras/engine/training.py\", line 1160, in train_function  *\n        return step_function(self, iterator)\n    File \"/home/n/anaconda3/envs/env_opencv/lib/python3.10/site-packages/keras/engine/training.py\", line 1146, in step_function  **\n        outputs = model.distribute_strategy.run(run_step, args=(data,))\n    File \"/home/n/anaconda3/envs/env_opencv/lib/python3.10/site-packages/keras/engine/training.py\", line 1135, in run_step  **\n        outputs = model.train_step(data)\n    File \"/home/n/anaconda3/envs/env_opencv/lib/python3.10/site-packages/keras/engine/training.py\", line 993, in train_step\n        y_pred = self(x, training=True)\n    File \"/home/n/anaconda3/envs/env_opencv/lib/python3.10/site-packages/keras/utils/traceback_utils.py\", line 70, in error_handler\n        raise e.with_traceback(filtered_tb) from None\n    File \"/home/n/anaconda3/envs/env_opencv/lib/python3.10/site-packages/keras/engine/input_spec.py\", line 277, in assert_input_compatibility\n        raise ValueError(\n\n    ValueError: Exception encountered when calling layer \"model\" \"                 f\"(type Functional).\n    \n    Input 0 of layer \"dense_5\" is incompatible with the layer: expected axis -1 of input shape to have value 1, but received input with shape (None, 39)\n    \n    Call arguments received by layer \"model\" \"                 f\"(type Functional):\n      • inputs=('tf.Tensor(shape=(None, 39), dtype=float64)',)\n      • training=True\n      • mask=None\n"
          ]
        }
      ],
      "source": [
        "history = model.fit(\n",
        "    x=[\n",
        "        tf.cast(X_train,tf.float64),\n",
        "        \n",
        "        ],\n",
        "    y = tf.cast(y_train, tf.float64),\n",
        "    epochs=500,batch_size=8)"
      ]
    },
    {
      "cell_type": "code",
      "execution_count": null,
      "metadata": {
        "id": "s3c1cjoqjcSa"
      },
      "outputs": [],
      "source": [
        "\n",
        "plt.plot(history.history['loss'])\n",
        "plt.title('model mean square error')\n",
        "plt.ylabel('loss')\n",
        "plt.xlabel('epoch')\n",
        "plt.savefig('../models/model_training.png')"
      ]
    }
  ],
  "metadata": {
    "colab": {
      "collapsed_sections": [],
      "provenance": []
    },
    "kernelspec": {
      "display_name": "Python 3.10.6 ('env_opencv')",
      "language": "python",
      "name": "python3"
    },
    "language_info": {
      "codemirror_mode": {
        "name": "ipython",
        "version": 3
      },
      "file_extension": ".py",
      "mimetype": "text/x-python",
      "name": "python",
      "nbconvert_exporter": "python",
      "pygments_lexer": "ipython3",
      "version": "3.10.6"
    },
    "vscode": {
      "interpreter": {
        "hash": "fe2f7ff2d4c7a8da01abd7a70e9730f8b430444ce8cf429c0cd7c44bec68e8c2"
      }
    }
  },
  "nbformat": 4,
  "nbformat_minor": 0
}
