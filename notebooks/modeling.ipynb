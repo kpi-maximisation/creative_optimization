{
 "cells": [
  {
   "cell_type": "code",
   "execution_count": 8,
   "metadata": {},
   "outputs": [],
   "source": [
    "from sklearn.tree import DecisionTreeClassifier\n",
    "from sklearn.preprocessing import LabelEncoder\n",
    "from sklearn.linear_model import ElasticNet, LogisticRegression\n",
    "from sklearn.model_selection import train_test_split\n",
    "from sklearn.metrics import mean_squared_error, mean_absolute_error, r2_score\n",
    "from sklearn.ensemble import RandomForestClassifier\n",
    "from xgboost import XGBClassifier\n",
    "\n",
    "import numpy as np\n",
    "import pandas as pd\n",
    "import sys\n",
    "import warnings\n",
    "import os\n",
    "from sklearn.pipeline import Pipeline\n",
    "from sklearn.ensemble import RandomForestRegressor\n",
    "\n",
    "sys.path.append(os.path.abspath(os.path.join('../scripts')))\n",
    "from modeling_util import *\n",
    "from modeling_helper import get_categorical_columns, get_numerical_columns, cross_validation, plot_result, label_encoder"
   ]
  },
  {
   "cell_type": "code",
   "execution_count": 24,
   "metadata": {},
   "outputs": [
    {
     "name": "stdout",
     "output_type": "stream",
     "text": [
      "<class 'pandas.core.frame.DataFrame'>\n",
      "RangeIndex: 905 entries, 0 to 904\n",
      "Data columns (total 24 columns):\n",
      " #   Column             Non-Null Count  Dtype  \n",
      "---  ------             --------------  -----  \n",
      " 0   Unnamed: 0         905 non-null    int64  \n",
      " 1   game_id            905 non-null    object \n",
      " 2   cta_start_x        905 non-null    float64\n",
      " 3   cta_start_y        905 non-null    float64\n",
      " 4   cta_end_x          905 non-null    float64\n",
      " 5   cta_end_y          905 non-null    float64\n",
      " 6   cta_height         905 non-null    float64\n",
      " 7   cta_width          905 non-null    float64\n",
      " 8   color_1            900 non-null    object \n",
      " 9   color_1_occurance  900 non-null    float64\n",
      " 10  color_2            898 non-null    object \n",
      " 11  color_2_occurance  898 non-null    float64\n",
      " 12  color_3            898 non-null    object \n",
      " 13  color_3_occurance  898 non-null    float64\n",
      " 14  color_4            897 non-null    object \n",
      " 15  color_4_occurance  897 non-null    float64\n",
      " 16  color_5            894 non-null    object \n",
      " 17  color_5_occurance  894 non-null    float64\n",
      " 18  logo_start_x       342 non-null    float64\n",
      " 19  logo_start_y       342 non-null    float64\n",
      " 20  logo_end_x         342 non-null    float64\n",
      " 21  logo_end_y         342 non-null    float64\n",
      " 22  logo_height        342 non-null    float64\n",
      " 23  logo_width         342 non-null    float64\n",
      "dtypes: float64(17), int64(1), object(6)\n",
      "memory usage: 169.8+ KB\n"
     ]
    }
   ],
   "source": [
    "df = pd.read_csv(\"../data/all_merged_cta_cleaned.csv\")\n",
    "df.info()"
   ]
  },
  {
   "cell_type": "code",
   "execution_count": 47,
   "metadata": {},
   "outputs": [],
   "source": [
    "df_game_id_ER_CTR = pd.DataFrame({\n",
    "    'game_id':df['game_id'].to_list(),\n",
    "    'ER':np.random.rand(905).tolist(),\n",
    "    'CTR':np.random.rand(905).tolist()\n",
    "})"
   ]
  },
  {
   "cell_type": "code",
   "execution_count": 48,
   "metadata": {},
   "outputs": [
    {
     "data": {
      "text/html": [
       "<div>\n",
       "<style scoped>\n",
       "    .dataframe tbody tr th:only-of-type {\n",
       "        vertical-align: middle;\n",
       "    }\n",
       "\n",
       "    .dataframe tbody tr th {\n",
       "        vertical-align: top;\n",
       "    }\n",
       "\n",
       "    .dataframe thead th {\n",
       "        text-align: right;\n",
       "    }\n",
       "</style>\n",
       "<table border=\"1\" class=\"dataframe\">\n",
       "  <thead>\n",
       "    <tr style=\"text-align: right;\">\n",
       "      <th></th>\n",
       "      <th>game_id</th>\n",
       "      <th>ER</th>\n",
       "      <th>CTR</th>\n",
       "    </tr>\n",
       "  </thead>\n",
       "  <tbody>\n",
       "    <tr>\n",
       "      <th>0</th>\n",
       "      <td>ed3071a667a11cc56e88ae0489bfe6aa</td>\n",
       "      <td>0.522940</td>\n",
       "      <td>0.975965</td>\n",
       "    </tr>\n",
       "    <tr>\n",
       "      <th>1</th>\n",
       "      <td>4799763419d621cd41e7fb8abbcdd45d</td>\n",
       "      <td>0.865483</td>\n",
       "      <td>0.474631</td>\n",
       "    </tr>\n",
       "    <tr>\n",
       "      <th>2</th>\n",
       "      <td>bf1f7af46eec0e92939a8b3ba51cbacd</td>\n",
       "      <td>0.369275</td>\n",
       "      <td>0.422719</td>\n",
       "    </tr>\n",
       "    <tr>\n",
       "      <th>3</th>\n",
       "      <td>e68e20f592457b875ce29757ab855dfe</td>\n",
       "      <td>0.015088</td>\n",
       "      <td>0.461712</td>\n",
       "    </tr>\n",
       "    <tr>\n",
       "      <th>4</th>\n",
       "      <td>6a8e741867d4f893afad015b77b52c39</td>\n",
       "      <td>0.255562</td>\n",
       "      <td>0.123088</td>\n",
       "    </tr>\n",
       "    <tr>\n",
       "      <th>...</th>\n",
       "      <td>...</td>\n",
       "      <td>...</td>\n",
       "      <td>...</td>\n",
       "    </tr>\n",
       "    <tr>\n",
       "      <th>900</th>\n",
       "      <td>8968a702d64524827de2ccf55c802d6c</td>\n",
       "      <td>0.960574</td>\n",
       "      <td>0.777629</td>\n",
       "    </tr>\n",
       "    <tr>\n",
       "      <th>901</th>\n",
       "      <td>adunit-showtime-dexture-mpu</td>\n",
       "      <td>0.913909</td>\n",
       "      <td>0.936009</td>\n",
       "    </tr>\n",
       "    <tr>\n",
       "      <th>902</th>\n",
       "      <td>79bb17ace9de9ef7def221cc38b50c0c</td>\n",
       "      <td>0.882153</td>\n",
       "      <td>0.196111</td>\n",
       "    </tr>\n",
       "    <tr>\n",
       "      <th>903</th>\n",
       "      <td>adunit-chanel-j12-tw-black-en-2022-mpu</td>\n",
       "      <td>0.754836</td>\n",
       "      <td>0.104904</td>\n",
       "    </tr>\n",
       "    <tr>\n",
       "      <th>904</th>\n",
       "      <td>2561bbefebc84dc200ca14d63b221d55</td>\n",
       "      <td>0.018944</td>\n",
       "      <td>0.662351</td>\n",
       "    </tr>\n",
       "  </tbody>\n",
       "</table>\n",
       "<p>905 rows × 3 columns</p>\n",
       "</div>"
      ],
      "text/plain": [
       "                                    game_id        ER       CTR\n",
       "0          ed3071a667a11cc56e88ae0489bfe6aa  0.522940  0.975965\n",
       "1          4799763419d621cd41e7fb8abbcdd45d  0.865483  0.474631\n",
       "2          bf1f7af46eec0e92939a8b3ba51cbacd  0.369275  0.422719\n",
       "3          e68e20f592457b875ce29757ab855dfe  0.015088  0.461712\n",
       "4          6a8e741867d4f893afad015b77b52c39  0.255562  0.123088\n",
       "..                                      ...       ...       ...\n",
       "900        8968a702d64524827de2ccf55c802d6c  0.960574  0.777629\n",
       "901             adunit-showtime-dexture-mpu  0.913909  0.936009\n",
       "902        79bb17ace9de9ef7def221cc38b50c0c  0.882153  0.196111\n",
       "903  adunit-chanel-j12-tw-black-en-2022-mpu  0.754836  0.104904\n",
       "904        2561bbefebc84dc200ca14d63b221d55  0.018944  0.662351\n",
       "\n",
       "[905 rows x 3 columns]"
      ]
     },
     "execution_count": 48,
     "metadata": {},
     "output_type": "execute_result"
    }
   ],
   "source": [
    "df_game_id_ER_CTR"
   ]
  },
  {
   "cell_type": "code",
   "execution_count": 49,
   "metadata": {},
   "outputs": [
    {
     "name": "stdout",
     "output_type": "stream",
     "text": [
      "<class 'pandas.core.frame.DataFrame'>\n",
      "Int64Index: 905 entries, 0 to 904\n",
      "Data columns (total 26 columns):\n",
      " #   Column             Non-Null Count  Dtype  \n",
      "---  ------             --------------  -----  \n",
      " 0   Unnamed: 0         905 non-null    int64  \n",
      " 1   game_id            905 non-null    object \n",
      " 2   cta_start_x        905 non-null    float64\n",
      " 3   cta_start_y        905 non-null    float64\n",
      " 4   cta_end_x          905 non-null    float64\n",
      " 5   cta_end_y          905 non-null    float64\n",
      " 6   cta_height         905 non-null    float64\n",
      " 7   cta_width          905 non-null    float64\n",
      " 8   color_1            900 non-null    object \n",
      " 9   color_1_occurance  900 non-null    float64\n",
      " 10  color_2            898 non-null    object \n",
      " 11  color_2_occurance  898 non-null    float64\n",
      " 12  color_3            898 non-null    object \n",
      " 13  color_3_occurance  898 non-null    float64\n",
      " 14  color_4            897 non-null    object \n",
      " 15  color_4_occurance  897 non-null    float64\n",
      " 16  color_5            894 non-null    object \n",
      " 17  color_5_occurance  894 non-null    float64\n",
      " 18  logo_start_x       342 non-null    float64\n",
      " 19  logo_start_y       342 non-null    float64\n",
      " 20  logo_end_x         342 non-null    float64\n",
      " 21  logo_end_y         342 non-null    float64\n",
      " 22  logo_height        342 non-null    float64\n",
      " 23  logo_width         342 non-null    float64\n",
      " 24  ER                 905 non-null    float64\n",
      " 25  CTR                905 non-null    float64\n",
      "dtypes: float64(19), int64(1), object(6)\n",
      "memory usage: 190.9+ KB\n"
     ]
    }
   ],
   "source": [
    "df1 = pd.merge(df, df_game_id_ER_CTR, on='game_id')\n",
    "df1.info()"
   ]
  },
  {
   "cell_type": "markdown",
   "metadata": {},
   "source": [
    "#### Train first model for KPI prediction using CTA position, and Dominant Colors"
   ]
  },
  {
   "cell_type": "code",
   "execution_count": 103,
   "metadata": {},
   "outputs": [
    {
     "data": {
      "text/plain": [
       "['Unnamed: 0',\n",
       " 'game_id',\n",
       " 'cta_start_x',\n",
       " 'cta_start_y',\n",
       " 'cta_end_x',\n",
       " 'cta_end_y',\n",
       " 'cta_height',\n",
       " 'cta_width',\n",
       " 'color_1',\n",
       " 'color_1_occurance',\n",
       " 'color_2',\n",
       " 'color_2_occurance',\n",
       " 'color_3',\n",
       " 'color_3_occurance',\n",
       " 'color_4',\n",
       " 'color_4_occurance',\n",
       " 'color_5',\n",
       " 'color_5_occurance',\n",
       " 'logo_start_x',\n",
       " 'logo_start_y',\n",
       " 'logo_end_x',\n",
       " 'logo_end_y',\n",
       " 'logo_height',\n",
       " 'logo_width',\n",
       " 'ER',\n",
       " 'CTR']"
      ]
     },
     "execution_count": 103,
     "metadata": {},
     "output_type": "execute_result"
    }
   ],
   "source": [
    "df_model_1 = df1.copy()\n",
    "\n",
    "df_model_1.columns.tolist()"
   ]
  },
  {
   "cell_type": "code",
   "execution_count": 104,
   "metadata": {},
   "outputs": [
    {
     "name": "stdout",
     "output_type": "stream",
     "text": [
      "<class 'pandas.core.frame.DataFrame'>\n",
      "Int64Index: 905 entries, 0 to 904\n",
      "Data columns (total 20 columns):\n",
      " #   Column             Non-Null Count  Dtype  \n",
      "---  ------             --------------  -----  \n",
      " 0   Unnamed: 0         905 non-null    int64  \n",
      " 1   game_id            905 non-null    object \n",
      " 2   cta_start_x        905 non-null    float64\n",
      " 3   cta_start_y        905 non-null    float64\n",
      " 4   cta_end_x          905 non-null    float64\n",
      " 5   cta_end_y          905 non-null    float64\n",
      " 6   cta_height         905 non-null    float64\n",
      " 7   cta_width          905 non-null    float64\n",
      " 8   color_1            900 non-null    object \n",
      " 9   color_1_occurance  900 non-null    float64\n",
      " 10  color_2            898 non-null    object \n",
      " 11  color_2_occurance  898 non-null    float64\n",
      " 12  color_3            898 non-null    object \n",
      " 13  color_3_occurance  898 non-null    float64\n",
      " 14  color_4            897 non-null    object \n",
      " 15  color_4_occurance  897 non-null    float64\n",
      " 16  color_5            894 non-null    object \n",
      " 17  color_5_occurance  894 non-null    float64\n",
      " 18  ER                 905 non-null    float64\n",
      " 19  CTR                905 non-null    float64\n",
      "dtypes: float64(13), int64(1), object(6)\n",
      "memory usage: 148.5+ KB\n"
     ]
    }
   ],
   "source": [
    "cols_to_be_dropped = [\n",
    "    'logo_start_x',\n",
    "    'logo_start_y',\n",
    "    'logo_end_x',\n",
    "    'logo_end_y',\n",
    "    'logo_height',\n",
    "    'logo_width'\n",
    "    ]\n",
    "\n",
    "df_model_1.drop(cols_to_be_dropped,inplace=True, axis=1)\n",
    "df_model_1.info()"
   ]
  },
  {
   "cell_type": "markdown",
   "metadata": {},
   "source": [
    "#### Normalize and Encode CTA position "
   ]
  },
  {
   "cell_type": "markdown",
   "metadata": {},
   "source": [
    "* We need to take a look at the coordinated befor deciding on the approach"
   ]
  },
  {
   "cell_type": "code",
   "execution_count": 105,
   "metadata": {},
   "outputs": [
    {
     "data": {
      "text/plain": [
       "count    905.000000\n",
       "mean     213.731492\n",
       "std      192.445084\n",
       "min        0.000000\n",
       "25%       74.000000\n",
       "50%      166.000000\n",
       "75%      328.000000\n",
       "max      937.000000\n",
       "Name: cta_start_x, dtype: float64"
      ]
     },
     "execution_count": 105,
     "metadata": {},
     "output_type": "execute_result"
    }
   ],
   "source": [
    "df_model_1['cta_start_x'].describe()"
   ]
  },
  {
   "cell_type": "code",
   "execution_count": 106,
   "metadata": {},
   "outputs": [
    {
     "data": {
      "text/plain": [
       "count    905.000000\n",
       "mean     458.985635\n",
       "std      312.875136\n",
       "min        0.000000\n",
       "25%      146.000000\n",
       "50%      426.000000\n",
       "75%      795.000000\n",
       "max      889.000000\n",
       "Name: cta_start_y, dtype: float64"
      ]
     },
     "execution_count": 106,
     "metadata": {},
     "output_type": "execute_result"
    }
   ],
   "source": [
    "df_model_1['cta_start_y'].describe()"
   ]
  },
  {
   "cell_type": "markdown",
   "metadata": {},
   "source": [
    "* We can choose 300px as a separator for both `cta_start_x` & `cta_start_y`"
   ]
  },
  {
   "cell_type": "code",
   "execution_count": 107,
   "metadata": {},
   "outputs": [],
   "source": [
    "def return_position_val(x,y):\n",
    "    if x < 300 and y < 300:\n",
    "        return \"top_left\"\n",
    "    elif x < 300 and y < 600:\n",
    "        return \"center_left\"\n",
    "    elif x < 300 and y < 900:\n",
    "        return \"bottom_left\"\n",
    "    elif x < 600 and y < 300:\n",
    "        return \"top_center\"\n",
    "    elif x < 600 and y < 600:\n",
    "        return \"center\"\n",
    "    elif x < 600 and y < 900:\n",
    "        return \"bottom_center\"\n",
    "    elif x < 940 and y < 300:\n",
    "        return \"top_right\"\n",
    "    elif x < 940 and y < 600:\n",
    "        return \"top_center\"\n",
    "    else: return \"bottom_right\""
   ]
  },
  {
   "cell_type": "code",
   "execution_count": 108,
   "metadata": {},
   "outputs": [],
   "source": [
    "def encode_coordinates(df):\n",
    "    encoded_val = []\n",
    "    for i,row in df.iterrows():\n",
    "        encoded_val.append(return_position_val(row['cta_start_x'],row['cta_start_y']))\n",
    "    return encoded_val"
   ]
  },
  {
   "cell_type": "code",
   "execution_count": 109,
   "metadata": {},
   "outputs": [],
   "source": [
    "def calc_area(df):\n",
    "    area = []\n",
    "    for i,row in df.iterrows():\n",
    "        area.append(row['cta_width']*row['cta_height'])\n",
    "    return area"
   ]
  },
  {
   "cell_type": "code",
   "execution_count": 110,
   "metadata": {},
   "outputs": [
    {
     "data": {
      "text/plain": [
       "top_left         283\n",
       "bottom_left      257\n",
       "bottom_center    122\n",
       "center_left      109\n",
       "top_center        77\n",
       "center            31\n",
       "top_right         14\n",
       "bottom_right      12\n",
       "Name: cta_position, dtype: int64"
      ]
     },
     "execution_count": 110,
     "metadata": {},
     "output_type": "execute_result"
    }
   ],
   "source": [
    "df_model_1['cta_position'] = encode_coordinates(df_model_1)\n",
    "df_model_1['cta_position'].value_counts()"
   ]
  },
  {
   "cell_type": "markdown",
   "metadata": {},
   "source": [
    "* Normalize height and width to an area"
   ]
  },
  {
   "cell_type": "code",
   "execution_count": 111,
   "metadata": {},
   "outputs": [
    {
     "data": {
      "text/plain": [
       "count       905.000000\n",
       "mean      40292.538122\n",
       "std       94729.961811\n",
       "min        1064.000000\n",
       "25%       11700.000000\n",
       "50%       17388.000000\n",
       "75%       22500.000000\n",
       "max      540000.000000\n",
       "Name: area, dtype: float64"
      ]
     },
     "execution_count": 111,
     "metadata": {},
     "output_type": "execute_result"
    }
   ],
   "source": [
    "df_model_1['area'] = calc_area(df_model_1)\n",
    "df_model_1['area'].describe()"
   ]
  },
  {
   "cell_type": "markdown",
   "metadata": {},
   "source": [
    "#### Drop all coordinate values since we normlaized and encoded them"
   ]
  },
  {
   "cell_type": "code",
   "execution_count": 112,
   "metadata": {},
   "outputs": [
    {
     "name": "stdout",
     "output_type": "stream",
     "text": [
      "<class 'pandas.core.frame.DataFrame'>\n",
      "Int64Index: 905 entries, 0 to 904\n",
      "Data columns (total 15 columns):\n",
      " #   Column             Non-Null Count  Dtype  \n",
      "---  ------             --------------  -----  \n",
      " 0   game_id            905 non-null    object \n",
      " 1   color_1            900 non-null    object \n",
      " 2   color_1_occurance  900 non-null    float64\n",
      " 3   color_2            898 non-null    object \n",
      " 4   color_2_occurance  898 non-null    float64\n",
      " 5   color_3            898 non-null    object \n",
      " 6   color_3_occurance  898 non-null    float64\n",
      " 7   color_4            897 non-null    object \n",
      " 8   color_4_occurance  897 non-null    float64\n",
      " 9   color_5            894 non-null    object \n",
      " 10  color_5_occurance  894 non-null    float64\n",
      " 11  ER                 905 non-null    float64\n",
      " 12  CTR                905 non-null    float64\n",
      " 13  cta_position       905 non-null    object \n",
      " 14  area               905 non-null    float64\n",
      "dtypes: float64(8), object(7)\n",
      "memory usage: 113.1+ KB\n"
     ]
    }
   ],
   "source": [
    "cols = ['cta_start_x', 'cta_start_y', 'cta_end_x', 'cta_end_y',\n",
    "       'cta_height', 'cta_width','Unnamed: 0',]\n",
    "df_model_1.drop(cols, inplace=True, axis=1)\n",
    "df_model_1.info()"
   ]
  },
  {
   "cell_type": "code",
   "execution_count": 113,
   "metadata": {},
   "outputs": [
    {
     "name": "stdout",
     "output_type": "stream",
     "text": [
      "<class 'pandas.core.frame.DataFrame'>\n",
      "Int64Index: 894 entries, 0 to 904\n",
      "Data columns (total 15 columns):\n",
      " #   Column             Non-Null Count  Dtype  \n",
      "---  ------             --------------  -----  \n",
      " 0   game_id            894 non-null    object \n",
      " 1   color_1            894 non-null    object \n",
      " 2   color_1_occurance  894 non-null    float64\n",
      " 3   color_2            894 non-null    object \n",
      " 4   color_2_occurance  894 non-null    float64\n",
      " 5   color_3            894 non-null    object \n",
      " 6   color_3_occurance  894 non-null    float64\n",
      " 7   color_4            894 non-null    object \n",
      " 8   color_4_occurance  894 non-null    float64\n",
      " 9   color_5            894 non-null    object \n",
      " 10  color_5_occurance  894 non-null    float64\n",
      " 11  ER                 894 non-null    float64\n",
      " 12  CTR                894 non-null    float64\n",
      " 13  cta_position       894 non-null    object \n",
      " 14  area               894 non-null    float64\n",
      "dtypes: float64(8), object(7)\n",
      "memory usage: 111.8+ KB\n"
     ]
    }
   ],
   "source": [
    "df_model_1.dropna(inplace=True)\n",
    "df_model_1.info()"
   ]
  },
  {
   "cell_type": "code",
   "execution_count": null,
   "metadata": {},
   "outputs": [],
   "source": []
  },
  {
   "cell_type": "code",
   "execution_count": null,
   "metadata": {},
   "outputs": [],
   "source": [
    "df_model_1.to_csv('../data/cta_color_cleaned.csv')\n"
   ]
  },
  {
   "cell_type": "code",
   "execution_count": 23,
   "metadata": {},
   "outputs": [
    {
     "name": "stdout",
     "output_type": "stream",
     "text": [
      "<class 'pandas.core.frame.DataFrame'>\n",
      "RangeIndex: 894 entries, 0 to 893\n",
      "Data columns (total 16 columns):\n",
      " #   Column             Non-Null Count  Dtype  \n",
      "---  ------             --------------  -----  \n",
      " 0   Unnamed: 0         894 non-null    int64  \n",
      " 1   game_id            894 non-null    object \n",
      " 2   color_1            894 non-null    object \n",
      " 3   color_1_occurance  894 non-null    float64\n",
      " 4   color_2            894 non-null    object \n",
      " 5   color_2_occurance  894 non-null    float64\n",
      " 6   color_3            894 non-null    object \n",
      " 7   color_3_occurance  894 non-null    float64\n",
      " 8   color_4            894 non-null    object \n",
      " 9   color_4_occurance  894 non-null    float64\n",
      " 10  color_5            894 non-null    object \n",
      " 11  color_5_occurance  894 non-null    float64\n",
      " 12  ER                 894 non-null    float64\n",
      " 13  CTR                894 non-null    float64\n",
      " 14  cta_position       894 non-null    object \n",
      " 15  area               894 non-null    float64\n",
      "dtypes: float64(8), int64(1), object(7)\n",
      "memory usage: 111.9+ KB\n"
     ]
    }
   ],
   "source": [
    "df_for_model = pd.read_csv('../data/cta_color_cleaned.csv')\n",
    "df_for_model.info()"
   ]
  },
  {
   "cell_type": "code",
   "execution_count": 24,
   "metadata": {},
   "outputs": [],
   "source": [
    "df_for_model.drop(['Unnamed: 0'],inplace=True,axis=1)"
   ]
  },
  {
   "cell_type": "code",
   "execution_count": 25,
   "metadata": {},
   "outputs": [],
   "source": [
    "numerical_cols = get_numerical_columns(df_for_model)\n",
    "categorical_cols = get_categorical_columns(df_for_model)"
   ]
  },
  {
   "cell_type": "code",
   "execution_count": 26,
   "metadata": {},
   "outputs": [
    {
     "data": {
      "text/plain": [
       "['color_1_occurance',\n",
       " 'color_2_occurance',\n",
       " 'color_3_occurance',\n",
       " 'color_4_occurance',\n",
       " 'color_5_occurance',\n",
       " 'ER',\n",
       " 'CTR',\n",
       " 'area']"
      ]
     },
     "execution_count": 26,
     "metadata": {},
     "output_type": "execute_result"
    }
   ],
   "source": [
    "numerical_cols"
   ]
  },
  {
   "cell_type": "code",
   "execution_count": 27,
   "metadata": {},
   "outputs": [
    {
     "data": {
      "text/plain": [
       "['game_id',\n",
       " 'color_1',\n",
       " 'color_2',\n",
       " 'color_3',\n",
       " 'color_4',\n",
       " 'color_5',\n",
       " 'cta_position']"
      ]
     },
     "execution_count": 27,
     "metadata": {},
     "output_type": "execute_result"
    }
   ],
   "source": [
    "categorical_cols"
   ]
  },
  {
   "cell_type": "code",
   "execution_count": 28,
   "metadata": {},
   "outputs": [],
   "source": [
    "categorical_cols.remove('game_id')"
   ]
  },
  {
   "cell_type": "code",
   "execution_count": 29,
   "metadata": {},
   "outputs": [],
   "source": [
    "\n",
    "categorical_cols_encoded = label_encoder(df_for_model)"
   ]
  },
  {
   "cell_type": "code",
   "execution_count": 30,
   "metadata": {},
   "outputs": [],
   "source": [
    "categorical_cols_encoded.drop(columns=['game_id'], inplace=True)"
   ]
  },
  {
   "cell_type": "code",
   "execution_count": 31,
   "metadata": {},
   "outputs": [
    {
     "name": "stdout",
     "output_type": "stream",
     "text": [
      "<class 'pandas.core.frame.DataFrame'>\n",
      "RangeIndex: 894 entries, 0 to 893\n",
      "Data columns (total 14 columns):\n",
      " #   Column             Non-Null Count  Dtype  \n",
      "---  ------             --------------  -----  \n",
      " 0   color_1            894 non-null    int64  \n",
      " 1   color_1_occurance  894 non-null    float64\n",
      " 2   color_2            894 non-null    int64  \n",
      " 3   color_2_occurance  894 non-null    float64\n",
      " 4   color_3            894 non-null    int64  \n",
      " 5   color_3_occurance  894 non-null    float64\n",
      " 6   color_4            894 non-null    int64  \n",
      " 7   color_4_occurance  894 non-null    float64\n",
      " 8   color_5            894 non-null    int64  \n",
      " 9   color_5_occurance  894 non-null    float64\n",
      " 10  ER                 894 non-null    float64\n",
      " 11  CTR                894 non-null    float64\n",
      " 12  cta_position       894 non-null    int64  \n",
      " 13  area               894 non-null    float64\n",
      "dtypes: float64(8), int64(6)\n",
      "memory usage: 97.9 KB\n"
     ]
    }
   ],
   "source": [
    "X = df_for_model.copy()\n",
    "X.info()"
   ]
  },
  {
   "cell_type": "code",
   "execution_count": 149,
   "metadata": {},
   "outputs": [],
   "source": [
    "# X.drop(['game_id','color_1_occurance','color_2_occurance',\n",
    "# 'color_3_occurance','color_4_occurance','color_5_occurance','ER', 'CTR', 'area'],inplace=True,axis=1)"
   ]
  },
  {
   "cell_type": "code",
   "execution_count": 150,
   "metadata": {},
   "outputs": [
    {
     "data": {
      "text/plain": [
       "Index(['color_1', 'color_2', 'color_3', 'color_4', 'color_5', 'cta_position'], dtype='object')"
      ]
     },
     "execution_count": 150,
     "metadata": {},
     "output_type": "execute_result"
    }
   ],
   "source": [
    "X.columns"
   ]
  },
  {
   "cell_type": "code",
   "execution_count": 32,
   "metadata": {},
   "outputs": [
    {
     "name": "stdout",
     "output_type": "stream",
     "text": [
      "<class 'pandas.core.frame.DataFrame'>\n",
      "RangeIndex: 894 entries, 0 to 893\n",
      "Data columns (total 8 columns):\n",
      " #   Column             Non-Null Count  Dtype  \n",
      "---  ------             --------------  -----  \n",
      " 0   color_1_occurance  894 non-null    float64\n",
      " 1   color_2_occurance  894 non-null    float64\n",
      " 2   color_3_occurance  894 non-null    float64\n",
      " 3   color_4_occurance  894 non-null    float64\n",
      " 4   color_5_occurance  894 non-null    float64\n",
      " 5   ER                 894 non-null    float64\n",
      " 6   CTR                894 non-null    float64\n",
      " 7   area               894 non-null    float64\n",
      "dtypes: float64(8)\n",
      "memory usage: 56.0 KB\n"
     ]
    }
   ],
   "source": [
    "X.drop(categorical_cols, axis=1, inplace=True)\n",
    "X.info()"
   ]
  },
  {
   "cell_type": "code",
   "execution_count": 152,
   "metadata": {},
   "outputs": [
    {
     "name": "stdout",
     "output_type": "stream",
     "text": [
      "['color_1', 'color_2', 'color_3', 'color_4', 'color_5', 'cta_position']\n"
     ]
    }
   ],
   "source": [
    "print(categorical_cols)"
   ]
  },
  {
   "cell_type": "code",
   "execution_count": 33,
   "metadata": {},
   "outputs": [
    {
     "data": {
      "text/html": [
       "<div>\n",
       "<style scoped>\n",
       "    .dataframe tbody tr th:only-of-type {\n",
       "        vertical-align: middle;\n",
       "    }\n",
       "\n",
       "    .dataframe tbody tr th {\n",
       "        vertical-align: top;\n",
       "    }\n",
       "\n",
       "    .dataframe thead th {\n",
       "        text-align: right;\n",
       "    }\n",
       "</style>\n",
       "<table border=\"1\" class=\"dataframe\">\n",
       "  <thead>\n",
       "    <tr style=\"text-align: right;\">\n",
       "      <th></th>\n",
       "      <th>color_1_occurance</th>\n",
       "      <th>color_2_occurance</th>\n",
       "      <th>color_3_occurance</th>\n",
       "      <th>color_4_occurance</th>\n",
       "      <th>color_5_occurance</th>\n",
       "      <th>ER</th>\n",
       "      <th>CTR</th>\n",
       "      <th>area</th>\n",
       "    </tr>\n",
       "  </thead>\n",
       "  <tbody>\n",
       "    <tr>\n",
       "      <th>0</th>\n",
       "      <td>502997.0</td>\n",
       "      <td>85037.0</td>\n",
       "      <td>73722.0</td>\n",
       "      <td>66394.0</td>\n",
       "      <td>58892.0</td>\n",
       "      <td>0.522940</td>\n",
       "      <td>0.975965</td>\n",
       "      <td>540000.0</td>\n",
       "    </tr>\n",
       "    <tr>\n",
       "      <th>1</th>\n",
       "      <td>274865.0</td>\n",
       "      <td>160951.0</td>\n",
       "      <td>19223.0</td>\n",
       "      <td>14026.0</td>\n",
       "      <td>10730.0</td>\n",
       "      <td>0.865483</td>\n",
       "      <td>0.474631</td>\n",
       "      <td>11700.0</td>\n",
       "    </tr>\n",
       "    <tr>\n",
       "      <th>2</th>\n",
       "      <td>499029.0</td>\n",
       "      <td>459426.0</td>\n",
       "      <td>355211.0</td>\n",
       "      <td>278629.0</td>\n",
       "      <td>153266.0</td>\n",
       "      <td>0.369275</td>\n",
       "      <td>0.422719</td>\n",
       "      <td>25090.0</td>\n",
       "    </tr>\n",
       "    <tr>\n",
       "      <th>3</th>\n",
       "      <td>271413.0</td>\n",
       "      <td>160951.0</td>\n",
       "      <td>19223.0</td>\n",
       "      <td>10730.0</td>\n",
       "      <td>9062.0</td>\n",
       "      <td>0.015088</td>\n",
       "      <td>0.461712</td>\n",
       "      <td>11700.0</td>\n",
       "    </tr>\n",
       "    <tr>\n",
       "      <th>4</th>\n",
       "      <td>490748.0</td>\n",
       "      <td>202923.0</td>\n",
       "      <td>23779.0</td>\n",
       "      <td>23585.0</td>\n",
       "      <td>15527.0</td>\n",
       "      <td>0.255562</td>\n",
       "      <td>0.123088</td>\n",
       "      <td>19200.0</td>\n",
       "    </tr>\n",
       "    <tr>\n",
       "      <th>...</th>\n",
       "      <td>...</td>\n",
       "      <td>...</td>\n",
       "      <td>...</td>\n",
       "      <td>...</td>\n",
       "      <td>...</td>\n",
       "      <td>...</td>\n",
       "      <td>...</td>\n",
       "      <td>...</td>\n",
       "    </tr>\n",
       "    <tr>\n",
       "      <th>889</th>\n",
       "      <td>274865.0</td>\n",
       "      <td>160951.0</td>\n",
       "      <td>19223.0</td>\n",
       "      <td>14026.0</td>\n",
       "      <td>10730.0</td>\n",
       "      <td>0.960574</td>\n",
       "      <td>0.777629</td>\n",
       "      <td>11700.0</td>\n",
       "    </tr>\n",
       "    <tr>\n",
       "      <th>890</th>\n",
       "      <td>8925.0</td>\n",
       "      <td>1678.0</td>\n",
       "      <td>207.0</td>\n",
       "      <td>152.0</td>\n",
       "      <td>140.0</td>\n",
       "      <td>0.913909</td>\n",
       "      <td>0.936009</td>\n",
       "      <td>20097.0</td>\n",
       "    </tr>\n",
       "    <tr>\n",
       "      <th>891</th>\n",
       "      <td>516673.0</td>\n",
       "      <td>250461.0</td>\n",
       "      <td>96128.0</td>\n",
       "      <td>87347.0</td>\n",
       "      <td>69277.0</td>\n",
       "      <td>0.882153</td>\n",
       "      <td>0.196111</td>\n",
       "      <td>10455.0</td>\n",
       "    </tr>\n",
       "    <tr>\n",
       "      <th>892</th>\n",
       "      <td>266842.0</td>\n",
       "      <td>61306.0</td>\n",
       "      <td>9600.0</td>\n",
       "      <td>9523.0</td>\n",
       "      <td>5276.0</td>\n",
       "      <td>0.754836</td>\n",
       "      <td>0.104904</td>\n",
       "      <td>10455.0</td>\n",
       "    </tr>\n",
       "    <tr>\n",
       "      <th>893</th>\n",
       "      <td>312583.0</td>\n",
       "      <td>236992.0</td>\n",
       "      <td>63958.0</td>\n",
       "      <td>53524.0</td>\n",
       "      <td>48559.0</td>\n",
       "      <td>0.018944</td>\n",
       "      <td>0.662351</td>\n",
       "      <td>13920.0</td>\n",
       "    </tr>\n",
       "  </tbody>\n",
       "</table>\n",
       "<p>894 rows × 8 columns</p>\n",
       "</div>"
      ],
      "text/plain": [
       "     color_1_occurance  color_2_occurance  color_3_occurance  \\\n",
       "0             502997.0            85037.0            73722.0   \n",
       "1             274865.0           160951.0            19223.0   \n",
       "2             499029.0           459426.0           355211.0   \n",
       "3             271413.0           160951.0            19223.0   \n",
       "4             490748.0           202923.0            23779.0   \n",
       "..                 ...                ...                ...   \n",
       "889           274865.0           160951.0            19223.0   \n",
       "890             8925.0             1678.0              207.0   \n",
       "891           516673.0           250461.0            96128.0   \n",
       "892           266842.0            61306.0             9600.0   \n",
       "893           312583.0           236992.0            63958.0   \n",
       "\n",
       "     color_4_occurance  color_5_occurance        ER       CTR      area  \n",
       "0              66394.0            58892.0  0.522940  0.975965  540000.0  \n",
       "1              14026.0            10730.0  0.865483  0.474631   11700.0  \n",
       "2             278629.0           153266.0  0.369275  0.422719   25090.0  \n",
       "3              10730.0             9062.0  0.015088  0.461712   11700.0  \n",
       "4              23585.0            15527.0  0.255562  0.123088   19200.0  \n",
       "..                 ...                ...       ...       ...       ...  \n",
       "889            14026.0            10730.0  0.960574  0.777629   11700.0  \n",
       "890              152.0              140.0  0.913909  0.936009   20097.0  \n",
       "891            87347.0            69277.0  0.882153  0.196111   10455.0  \n",
       "892             9523.0             5276.0  0.754836  0.104904   10455.0  \n",
       "893            53524.0            48559.0  0.018944  0.662351   13920.0  \n",
       "\n",
       "[894 rows x 8 columns]"
      ]
     },
     "execution_count": 33,
     "metadata": {},
     "output_type": "execute_result"
    }
   ],
   "source": [
    "X"
   ]
  },
  {
   "cell_type": "code",
   "execution_count": 34,
   "metadata": {},
   "outputs": [
    {
     "data": {
      "text/html": [
       "<div>\n",
       "<style scoped>\n",
       "    .dataframe tbody tr th:only-of-type {\n",
       "        vertical-align: middle;\n",
       "    }\n",
       "\n",
       "    .dataframe tbody tr th {\n",
       "        vertical-align: top;\n",
       "    }\n",
       "\n",
       "    .dataframe thead th {\n",
       "        text-align: right;\n",
       "    }\n",
       "</style>\n",
       "<table border=\"1\" class=\"dataframe\">\n",
       "  <thead>\n",
       "    <tr style=\"text-align: right;\">\n",
       "      <th></th>\n",
       "      <th>color_1</th>\n",
       "      <th>color_1_occurance</th>\n",
       "      <th>color_2</th>\n",
       "      <th>color_2_occurance</th>\n",
       "      <th>color_3</th>\n",
       "      <th>color_3_occurance</th>\n",
       "      <th>color_4</th>\n",
       "      <th>color_4_occurance</th>\n",
       "      <th>color_5</th>\n",
       "      <th>color_5_occurance</th>\n",
       "      <th>ER</th>\n",
       "      <th>CTR</th>\n",
       "      <th>cta_position</th>\n",
       "      <th>area</th>\n",
       "    </tr>\n",
       "  </thead>\n",
       "  <tbody>\n",
       "    <tr>\n",
       "      <th>0</th>\n",
       "      <td>24</td>\n",
       "      <td>502997.0</td>\n",
       "      <td>184</td>\n",
       "      <td>85037.0</td>\n",
       "      <td>177</td>\n",
       "      <td>73722.0</td>\n",
       "      <td>358</td>\n",
       "      <td>66394.0</td>\n",
       "      <td>423</td>\n",
       "      <td>58892.0</td>\n",
       "      <td>0.522940</td>\n",
       "      <td>0.975965</td>\n",
       "      <td>6</td>\n",
       "      <td>540000.0</td>\n",
       "    </tr>\n",
       "    <tr>\n",
       "      <th>1</th>\n",
       "      <td>342</td>\n",
       "      <td>274865.0</td>\n",
       "      <td>42</td>\n",
       "      <td>160951.0</td>\n",
       "      <td>336</td>\n",
       "      <td>19223.0</td>\n",
       "      <td>318</td>\n",
       "      <td>14026.0</td>\n",
       "      <td>154</td>\n",
       "      <td>10730.0</td>\n",
       "      <td>0.865483</td>\n",
       "      <td>0.474631</td>\n",
       "      <td>0</td>\n",
       "      <td>11700.0</td>\n",
       "    </tr>\n",
       "    <tr>\n",
       "      <th>2</th>\n",
       "      <td>24</td>\n",
       "      <td>499029.0</td>\n",
       "      <td>374</td>\n",
       "      <td>459426.0</td>\n",
       "      <td>426</td>\n",
       "      <td>355211.0</td>\n",
       "      <td>389</td>\n",
       "      <td>278629.0</td>\n",
       "      <td>425</td>\n",
       "      <td>153266.0</td>\n",
       "      <td>0.369275</td>\n",
       "      <td>0.422719</td>\n",
       "      <td>1</td>\n",
       "      <td>25090.0</td>\n",
       "    </tr>\n",
       "    <tr>\n",
       "      <th>3</th>\n",
       "      <td>342</td>\n",
       "      <td>271413.0</td>\n",
       "      <td>42</td>\n",
       "      <td>160951.0</td>\n",
       "      <td>336</td>\n",
       "      <td>19223.0</td>\n",
       "      <td>140</td>\n",
       "      <td>10730.0</td>\n",
       "      <td>0</td>\n",
       "      <td>9062.0</td>\n",
       "      <td>0.015088</td>\n",
       "      <td>0.461712</td>\n",
       "      <td>0</td>\n",
       "      <td>11700.0</td>\n",
       "    </tr>\n",
       "    <tr>\n",
       "      <th>4</th>\n",
       "      <td>342</td>\n",
       "      <td>490748.0</td>\n",
       "      <td>45</td>\n",
       "      <td>202923.0</td>\n",
       "      <td>309</td>\n",
       "      <td>23779.0</td>\n",
       "      <td>319</td>\n",
       "      <td>23585.0</td>\n",
       "      <td>438</td>\n",
       "      <td>15527.0</td>\n",
       "      <td>0.255562</td>\n",
       "      <td>0.123088</td>\n",
       "      <td>1</td>\n",
       "      <td>19200.0</td>\n",
       "    </tr>\n",
       "    <tr>\n",
       "      <th>...</th>\n",
       "      <td>...</td>\n",
       "      <td>...</td>\n",
       "      <td>...</td>\n",
       "      <td>...</td>\n",
       "      <td>...</td>\n",
       "      <td>...</td>\n",
       "      <td>...</td>\n",
       "      <td>...</td>\n",
       "      <td>...</td>\n",
       "      <td>...</td>\n",
       "      <td>...</td>\n",
       "      <td>...</td>\n",
       "      <td>...</td>\n",
       "      <td>...</td>\n",
       "    </tr>\n",
       "    <tr>\n",
       "      <th>889</th>\n",
       "      <td>342</td>\n",
       "      <td>274865.0</td>\n",
       "      <td>42</td>\n",
       "      <td>160951.0</td>\n",
       "      <td>336</td>\n",
       "      <td>19223.0</td>\n",
       "      <td>318</td>\n",
       "      <td>14026.0</td>\n",
       "      <td>154</td>\n",
       "      <td>10730.0</td>\n",
       "      <td>0.960574</td>\n",
       "      <td>0.777629</td>\n",
       "      <td>5</td>\n",
       "      <td>11700.0</td>\n",
       "    </tr>\n",
       "    <tr>\n",
       "      <th>890</th>\n",
       "      <td>123</td>\n",
       "      <td>8925.0</td>\n",
       "      <td>162</td>\n",
       "      <td>1678.0</td>\n",
       "      <td>185</td>\n",
       "      <td>207.0</td>\n",
       "      <td>259</td>\n",
       "      <td>152.0</td>\n",
       "      <td>386</td>\n",
       "      <td>140.0</td>\n",
       "      <td>0.913909</td>\n",
       "      <td>0.936009</td>\n",
       "      <td>6</td>\n",
       "      <td>20097.0</td>\n",
       "    </tr>\n",
       "    <tr>\n",
       "      <th>891</th>\n",
       "      <td>262</td>\n",
       "      <td>516673.0</td>\n",
       "      <td>233</td>\n",
       "      <td>250461.0</td>\n",
       "      <td>432</td>\n",
       "      <td>96128.0</td>\n",
       "      <td>0</td>\n",
       "      <td>87347.0</td>\n",
       "      <td>364</td>\n",
       "      <td>69277.0</td>\n",
       "      <td>0.882153</td>\n",
       "      <td>0.196111</td>\n",
       "      <td>6</td>\n",
       "      <td>10455.0</td>\n",
       "    </tr>\n",
       "    <tr>\n",
       "      <th>892</th>\n",
       "      <td>1</td>\n",
       "      <td>266842.0</td>\n",
       "      <td>390</td>\n",
       "      <td>61306.0</td>\n",
       "      <td>266</td>\n",
       "      <td>9600.0</td>\n",
       "      <td>161</td>\n",
       "      <td>9523.0</td>\n",
       "      <td>49</td>\n",
       "      <td>5276.0</td>\n",
       "      <td>0.754836</td>\n",
       "      <td>0.104904</td>\n",
       "      <td>6</td>\n",
       "      <td>10455.0</td>\n",
       "    </tr>\n",
       "    <tr>\n",
       "      <th>893</th>\n",
       "      <td>192</td>\n",
       "      <td>312583.0</td>\n",
       "      <td>231</td>\n",
       "      <td>236992.0</td>\n",
       "      <td>141</td>\n",
       "      <td>63958.0</td>\n",
       "      <td>138</td>\n",
       "      <td>53524.0</td>\n",
       "      <td>191</td>\n",
       "      <td>48559.0</td>\n",
       "      <td>0.018944</td>\n",
       "      <td>0.662351</td>\n",
       "      <td>3</td>\n",
       "      <td>13920.0</td>\n",
       "    </tr>\n",
       "  </tbody>\n",
       "</table>\n",
       "<p>894 rows × 14 columns</p>\n",
       "</div>"
      ],
      "text/plain": [
       "     color_1  color_1_occurance  color_2  color_2_occurance  color_3  \\\n",
       "0         24           502997.0      184            85037.0      177   \n",
       "1        342           274865.0       42           160951.0      336   \n",
       "2         24           499029.0      374           459426.0      426   \n",
       "3        342           271413.0       42           160951.0      336   \n",
       "4        342           490748.0       45           202923.0      309   \n",
       "..       ...                ...      ...                ...      ...   \n",
       "889      342           274865.0       42           160951.0      336   \n",
       "890      123             8925.0      162             1678.0      185   \n",
       "891      262           516673.0      233           250461.0      432   \n",
       "892        1           266842.0      390            61306.0      266   \n",
       "893      192           312583.0      231           236992.0      141   \n",
       "\n",
       "     color_3_occurance  color_4  color_4_occurance  color_5  \\\n",
       "0              73722.0      358            66394.0      423   \n",
       "1              19223.0      318            14026.0      154   \n",
       "2             355211.0      389           278629.0      425   \n",
       "3              19223.0      140            10730.0        0   \n",
       "4              23779.0      319            23585.0      438   \n",
       "..                 ...      ...                ...      ...   \n",
       "889            19223.0      318            14026.0      154   \n",
       "890              207.0      259              152.0      386   \n",
       "891            96128.0        0            87347.0      364   \n",
       "892             9600.0      161             9523.0       49   \n",
       "893            63958.0      138            53524.0      191   \n",
       "\n",
       "     color_5_occurance        ER       CTR  cta_position      area  \n",
       "0              58892.0  0.522940  0.975965             6  540000.0  \n",
       "1              10730.0  0.865483  0.474631             0   11700.0  \n",
       "2             153266.0  0.369275  0.422719             1   25090.0  \n",
       "3               9062.0  0.015088  0.461712             0   11700.0  \n",
       "4              15527.0  0.255562  0.123088             1   19200.0  \n",
       "..                 ...       ...       ...           ...       ...  \n",
       "889            10730.0  0.960574  0.777629             5   11700.0  \n",
       "890              140.0  0.913909  0.936009             6   20097.0  \n",
       "891            69277.0  0.882153  0.196111             6   10455.0  \n",
       "892             5276.0  0.754836  0.104904             6   10455.0  \n",
       "893            48559.0  0.018944  0.662351             3   13920.0  \n",
       "\n",
       "[894 rows x 14 columns]"
      ]
     },
     "execution_count": 34,
     "metadata": {},
     "output_type": "execute_result"
    }
   ],
   "source": [
    "X=pd.DataFrame()\n",
    "X = pd.concat([X, categorical_cols_encoded], axis=1)\n",
    "X"
   ]
  },
  {
   "cell_type": "code",
   "execution_count": 44,
   "metadata": {},
   "outputs": [],
   "source": [
    "from sklearn.preprocessing import MinMaxScaler\n",
    "def scale_column(df, column: str, range_tup: tuple = (0, 1)) -> pd.DataFrame:\n",
    "    \"\"\"\n",
    "        Returns the objects DataFrames column normalized using Normalizer\n",
    "        Parameters\n",
    "    \"\"\"\n",
    "    try:\n",
    "        std_column_df = pd.DataFrame(df[column])\n",
    "        std_column_values = std_column_df.values\n",
    "        minmax_scaler = MinMaxScaler(feature_range=range_tup)\n",
    "        normalized_data = minmax_scaler.fit_transform(std_column_values)\n",
    "        df[column] = normalized_data\n",
    "        return df\n",
    "    except Exception as e:\n",
    "        print(f\"scale_column----->{e}\")"
   ]
  },
  {
   "cell_type": "code",
   "execution_count": 45,
   "metadata": {},
   "outputs": [],
   "source": [
    "def scale_columns(df, columns: list, range_tup: tuple = (0, 1)) -> pd.DataFrame:\n",
    "    try:\n",
    "        for col in columns:\n",
    "            df = scale_column(df, col, range_tup)\n",
    "        return df\n",
    "    except Exception as e:\n",
    "        return None"
   ]
  },
  {
   "cell_type": "code",
   "execution_count": 46,
   "metadata": {},
   "outputs": [],
   "source": [
    "df_train = X.copy()\n"
   ]
  },
  {
   "cell_type": "code",
   "execution_count": 47,
   "metadata": {},
   "outputs": [],
   "source": [
    "scale_cols = scale_columns(df_train, df_train.columns.tolist(),range_tup=(-1,1))"
   ]
  },
  {
   "cell_type": "code",
   "execution_count": 48,
   "metadata": {},
   "outputs": [
    {
     "data": {
      "text/html": [
       "<div>\n",
       "<style scoped>\n",
       "    .dataframe tbody tr th:only-of-type {\n",
       "        vertical-align: middle;\n",
       "    }\n",
       "\n",
       "    .dataframe tbody tr th {\n",
       "        vertical-align: top;\n",
       "    }\n",
       "\n",
       "    .dataframe thead th {\n",
       "        text-align: right;\n",
       "    }\n",
       "</style>\n",
       "<table border=\"1\" class=\"dataframe\">\n",
       "  <thead>\n",
       "    <tr style=\"text-align: right;\">\n",
       "      <th></th>\n",
       "      <th>color_1</th>\n",
       "      <th>color_1_occurance</th>\n",
       "      <th>color_2</th>\n",
       "      <th>color_2_occurance</th>\n",
       "      <th>color_3</th>\n",
       "      <th>color_3_occurance</th>\n",
       "      <th>color_4</th>\n",
       "      <th>color_4_occurance</th>\n",
       "      <th>color_5</th>\n",
       "      <th>color_5_occurance</th>\n",
       "      <th>ER</th>\n",
       "      <th>CTR</th>\n",
       "      <th>cta_position</th>\n",
       "      <th>area</th>\n",
       "    </tr>\n",
       "  </thead>\n",
       "  <tbody>\n",
       "    <tr>\n",
       "      <th>0</th>\n",
       "      <td>-0.859649</td>\n",
       "      <td>-0.868160</td>\n",
       "      <td>-0.056410</td>\n",
       "      <td>-0.974290</td>\n",
       "      <td>-0.180556</td>\n",
       "      <td>-0.973411</td>\n",
       "      <td>0.657407</td>\n",
       "      <td>-0.969806</td>\n",
       "      <td>0.909707</td>\n",
       "      <td>-0.965554</td>\n",
       "      <td>0.046660</td>\n",
       "      <td>0.953498</td>\n",
       "      <td>0.714286</td>\n",
       "      <td>1.000000</td>\n",
       "    </tr>\n",
       "    <tr>\n",
       "      <th>1</th>\n",
       "      <td>1.000000</td>\n",
       "      <td>-0.928307</td>\n",
       "      <td>-0.784615</td>\n",
       "      <td>-0.951251</td>\n",
       "      <td>0.555556</td>\n",
       "      <td>-0.993072</td>\n",
       "      <td>0.472222</td>\n",
       "      <td>-0.993627</td>\n",
       "      <td>-0.304740</td>\n",
       "      <td>-0.993727</td>\n",
       "      <td>0.732438</td>\n",
       "      <td>-0.050202</td>\n",
       "      <td>-1.000000</td>\n",
       "      <td>-0.960530</td>\n",
       "    </tr>\n",
       "    <tr>\n",
       "      <th>2</th>\n",
       "      <td>-0.859649</td>\n",
       "      <td>-0.869207</td>\n",
       "      <td>0.917949</td>\n",
       "      <td>-0.860667</td>\n",
       "      <td>0.972222</td>\n",
       "      <td>-0.871861</td>\n",
       "      <td>0.800926</td>\n",
       "      <td>-0.873266</td>\n",
       "      <td>0.918736</td>\n",
       "      <td>-0.910350</td>\n",
       "      <td>-0.260977</td>\n",
       "      <td>-0.154132</td>\n",
       "      <td>-0.714286</td>\n",
       "      <td>-0.910839</td>\n",
       "    </tr>\n",
       "    <tr>\n",
       "      <th>3</th>\n",
       "      <td>1.000000</td>\n",
       "      <td>-0.929217</td>\n",
       "      <td>-0.784615</td>\n",
       "      <td>-0.951251</td>\n",
       "      <td>0.555556</td>\n",
       "      <td>-0.993072</td>\n",
       "      <td>-0.351852</td>\n",
       "      <td>-0.995126</td>\n",
       "      <td>-1.000000</td>\n",
       "      <td>-0.994703</td>\n",
       "      <td>-0.970065</td>\n",
       "      <td>-0.076067</td>\n",
       "      <td>-1.000000</td>\n",
       "      <td>-0.960530</td>\n",
       "    </tr>\n",
       "    <tr>\n",
       "      <th>4</th>\n",
       "      <td>1.000000</td>\n",
       "      <td>-0.871390</td>\n",
       "      <td>-0.769231</td>\n",
       "      <td>-0.938513</td>\n",
       "      <td>0.430556</td>\n",
       "      <td>-0.991429</td>\n",
       "      <td>0.476852</td>\n",
       "      <td>-0.989279</td>\n",
       "      <td>0.977427</td>\n",
       "      <td>-0.990921</td>\n",
       "      <td>-0.488633</td>\n",
       "      <td>-0.754012</td>\n",
       "      <td>-0.714286</td>\n",
       "      <td>-0.932697</td>\n",
       "    </tr>\n",
       "    <tr>\n",
       "      <th>...</th>\n",
       "      <td>...</td>\n",
       "      <td>...</td>\n",
       "      <td>...</td>\n",
       "      <td>...</td>\n",
       "      <td>...</td>\n",
       "      <td>...</td>\n",
       "      <td>...</td>\n",
       "      <td>...</td>\n",
       "      <td>...</td>\n",
       "      <td>...</td>\n",
       "      <td>...</td>\n",
       "      <td>...</td>\n",
       "      <td>...</td>\n",
       "      <td>...</td>\n",
       "    </tr>\n",
       "    <tr>\n",
       "      <th>889</th>\n",
       "      <td>1.000000</td>\n",
       "      <td>-0.928307</td>\n",
       "      <td>-0.784615</td>\n",
       "      <td>-0.951251</td>\n",
       "      <td>0.555556</td>\n",
       "      <td>-0.993072</td>\n",
       "      <td>0.472222</td>\n",
       "      <td>-0.993627</td>\n",
       "      <td>-0.304740</td>\n",
       "      <td>-0.993727</td>\n",
       "      <td>0.922810</td>\n",
       "      <td>0.556417</td>\n",
       "      <td>0.428571</td>\n",
       "      <td>-0.960530</td>\n",
       "    </tr>\n",
       "    <tr>\n",
       "      <th>890</th>\n",
       "      <td>-0.280702</td>\n",
       "      <td>-0.998422</td>\n",
       "      <td>-0.169231</td>\n",
       "      <td>-0.999588</td>\n",
       "      <td>-0.143519</td>\n",
       "      <td>-0.999933</td>\n",
       "      <td>0.199074</td>\n",
       "      <td>-0.999938</td>\n",
       "      <td>0.742664</td>\n",
       "      <td>-0.999922</td>\n",
       "      <td>0.829386</td>\n",
       "      <td>0.873504</td>\n",
       "      <td>0.714286</td>\n",
       "      <td>-0.929368</td>\n",
       "    </tr>\n",
       "    <tr>\n",
       "      <th>891</th>\n",
       "      <td>0.532164</td>\n",
       "      <td>-0.864555</td>\n",
       "      <td>0.194872</td>\n",
       "      <td>-0.924085</td>\n",
       "      <td>1.000000</td>\n",
       "      <td>-0.965328</td>\n",
       "      <td>-1.000000</td>\n",
       "      <td>-0.960275</td>\n",
       "      <td>0.643341</td>\n",
       "      <td>-0.959480</td>\n",
       "      <td>0.765810</td>\n",
       "      <td>-0.607815</td>\n",
       "      <td>0.714286</td>\n",
       "      <td>-0.965150</td>\n",
       "    </tr>\n",
       "    <tr>\n",
       "      <th>892</th>\n",
       "      <td>-0.994152</td>\n",
       "      <td>-0.930423</td>\n",
       "      <td>1.000000</td>\n",
       "      <td>-0.981492</td>\n",
       "      <td>0.231481</td>\n",
       "      <td>-0.996544</td>\n",
       "      <td>-0.254630</td>\n",
       "      <td>-0.995675</td>\n",
       "      <td>-0.778781</td>\n",
       "      <td>-0.996917</td>\n",
       "      <td>0.510921</td>\n",
       "      <td>-0.790417</td>\n",
       "      <td>0.714286</td>\n",
       "      <td>-0.965150</td>\n",
       "    </tr>\n",
       "    <tr>\n",
       "      <th>893</th>\n",
       "      <td>0.122807</td>\n",
       "      <td>-0.918363</td>\n",
       "      <td>0.184615</td>\n",
       "      <td>-0.928173</td>\n",
       "      <td>-0.347222</td>\n",
       "      <td>-0.976934</td>\n",
       "      <td>-0.361111</td>\n",
       "      <td>-0.975660</td>\n",
       "      <td>-0.137698</td>\n",
       "      <td>-0.971599</td>\n",
       "      <td>-0.962344</td>\n",
       "      <td>0.325624</td>\n",
       "      <td>-0.142857</td>\n",
       "      <td>-0.952291</td>\n",
       "    </tr>\n",
       "  </tbody>\n",
       "</table>\n",
       "<p>894 rows × 14 columns</p>\n",
       "</div>"
      ],
      "text/plain": [
       "      color_1  color_1_occurance   color_2  color_2_occurance   color_3  \\\n",
       "0   -0.859649          -0.868160 -0.056410          -0.974290 -0.180556   \n",
       "1    1.000000          -0.928307 -0.784615          -0.951251  0.555556   \n",
       "2   -0.859649          -0.869207  0.917949          -0.860667  0.972222   \n",
       "3    1.000000          -0.929217 -0.784615          -0.951251  0.555556   \n",
       "4    1.000000          -0.871390 -0.769231          -0.938513  0.430556   \n",
       "..        ...                ...       ...                ...       ...   \n",
       "889  1.000000          -0.928307 -0.784615          -0.951251  0.555556   \n",
       "890 -0.280702          -0.998422 -0.169231          -0.999588 -0.143519   \n",
       "891  0.532164          -0.864555  0.194872          -0.924085  1.000000   \n",
       "892 -0.994152          -0.930423  1.000000          -0.981492  0.231481   \n",
       "893  0.122807          -0.918363  0.184615          -0.928173 -0.347222   \n",
       "\n",
       "     color_3_occurance   color_4  color_4_occurance   color_5  \\\n",
       "0            -0.973411  0.657407          -0.969806  0.909707   \n",
       "1            -0.993072  0.472222          -0.993627 -0.304740   \n",
       "2            -0.871861  0.800926          -0.873266  0.918736   \n",
       "3            -0.993072 -0.351852          -0.995126 -1.000000   \n",
       "4            -0.991429  0.476852          -0.989279  0.977427   \n",
       "..                 ...       ...                ...       ...   \n",
       "889          -0.993072  0.472222          -0.993627 -0.304740   \n",
       "890          -0.999933  0.199074          -0.999938  0.742664   \n",
       "891          -0.965328 -1.000000          -0.960275  0.643341   \n",
       "892          -0.996544 -0.254630          -0.995675 -0.778781   \n",
       "893          -0.976934 -0.361111          -0.975660 -0.137698   \n",
       "\n",
       "     color_5_occurance        ER       CTR  cta_position      area  \n",
       "0            -0.965554  0.046660  0.953498      0.714286  1.000000  \n",
       "1            -0.993727  0.732438 -0.050202     -1.000000 -0.960530  \n",
       "2            -0.910350 -0.260977 -0.154132     -0.714286 -0.910839  \n",
       "3            -0.994703 -0.970065 -0.076067     -1.000000 -0.960530  \n",
       "4            -0.990921 -0.488633 -0.754012     -0.714286 -0.932697  \n",
       "..                 ...       ...       ...           ...       ...  \n",
       "889          -0.993727  0.922810  0.556417      0.428571 -0.960530  \n",
       "890          -0.999922  0.829386  0.873504      0.714286 -0.929368  \n",
       "891          -0.959480  0.765810 -0.607815      0.714286 -0.965150  \n",
       "892          -0.996917  0.510921 -0.790417      0.714286 -0.965150  \n",
       "893          -0.971599 -0.962344  0.325624     -0.142857 -0.952291  \n",
       "\n",
       "[894 rows x 14 columns]"
      ]
     },
     "execution_count": 48,
     "metadata": {},
     "output_type": "execute_result"
    }
   ],
   "source": [
    "scale_cols"
   ]
  },
  {
   "cell_type": "code",
   "execution_count": null,
   "metadata": {},
   "outputs": [],
   "source": []
  },
  {
   "cell_type": "code",
   "execution_count": 49,
   "metadata": {},
   "outputs": [],
   "source": [
    "X=scale_cols.copy()"
   ]
  },
  {
   "cell_type": "code",
   "execution_count": 62,
   "metadata": {},
   "outputs": [],
   "source": [
    "scale_cols.to_csv(\"../data/scaled_cols.csv\",index=False)"
   ]
  },
  {
   "cell_type": "markdown",
   "metadata": {},
   "source": [
    "#### ER Predictor"
   ]
  },
  {
   "cell_type": "code",
   "execution_count": 50,
   "metadata": {},
   "outputs": [
    {
     "name": "stdout",
     "output_type": "stream",
     "text": [
      "<class 'pandas.core.frame.DataFrame'>\n",
      "RangeIndex: 894 entries, 0 to 893\n",
      "Data columns (total 12 columns):\n",
      " #   Column             Non-Null Count  Dtype  \n",
      "---  ------             --------------  -----  \n",
      " 0   color_1            894 non-null    float64\n",
      " 1   color_1_occurance  894 non-null    float64\n",
      " 2   color_2            894 non-null    float64\n",
      " 3   color_2_occurance  894 non-null    float64\n",
      " 4   color_3            894 non-null    float64\n",
      " 5   color_3_occurance  894 non-null    float64\n",
      " 6   color_4            894 non-null    float64\n",
      " 7   color_4_occurance  894 non-null    float64\n",
      " 8   color_5            894 non-null    float64\n",
      " 9   color_5_occurance  894 non-null    float64\n",
      " 10  cta_position       894 non-null    float64\n",
      " 11  area               894 non-null    float64\n",
      "dtypes: float64(12)\n",
      "memory usage: 83.9 KB\n"
     ]
    }
   ],
   "source": [
    "y = X['ER']\n",
    "X=X.drop(['ER','CTR'], axis=1)\n",
    "X.info()"
   ]
  },
  {
   "cell_type": "markdown",
   "metadata": {},
   "source": [
    "#### Train Random Forest Model"
   ]
  },
  {
   "cell_type": "code",
   "execution_count": 201,
   "metadata": {},
   "outputs": [],
   "source": []
  },
  {
   "cell_type": "code",
   "execution_count": 58,
   "metadata": {},
   "outputs": [
    {
     "data": {
      "text/plain": [
       "'RandomForestRegressor(max_depth=64, random_state=0)'"
      ]
     },
     "execution_count": 58,
     "metadata": {},
     "output_type": "execute_result"
    }
   ],
   "source": [
    "model = RandomForestRegressor(max_depth=64, random_state=0)\n",
    "str(model)"
   ]
  },
  {
   "cell_type": "code",
   "execution_count": 59,
   "metadata": {},
   "outputs": [
    {
     "name": "stdout",
     "output_type": "stream",
     "text": [
      "feature importance plotted\n"
     ]
    },
    {
     "data": {
      "image/png": "[encoded data removed]",
      "text/plain": [
       "<Figure size 1200x800 with 1 Axes>"
      ]
     },
     "metadata": {},
     "output_type": "display_data"
    },
    {
     "data": {
      "image/png": "[encoded data removed]",
      "text/plain": [
       "<Figure size 1000x500 with 1 Axes>"
      ]
     },
     "metadata": {},
     "output_type": "display_data"
    },
    {
     "name": "stdout",
     "output_type": "stream",
     "text": [
      "plotted prediction vs true labels\n",
      "plot_confusion_matrix---------- continuous is not supported\n",
      "{'RMSE Score': 0.62, 'R2_Squared': -0.16, 'MAE Score': 0.53}\n",
      "{'Accuracy': 126.19}\n",
      "{'color_1': 0.06042352523517331, 'color_1_occurance': 0.1440256803348225, 'color_2': 0.0781566997595384, 'color_2_occurance': 0.07774346022671529, 'color_3': 0.07213958116919576, 'color_3_occurance': 0.06793445141107297, 'color_4': 0.07882087307039354, 'color_4_occurance': 0.05665319403082477, 'color_5': 0.0971051570520949, 'color_5_occurance': 0.07871777111012919, 'cta_position': 0.08650758513671888, 'area': 0.1017720214633207}\n"
     ]
    },
    {
     "data": {
      "text/plain": [
       "{'RMSE Score': 0.62, 'R2_Squared': -0.16, 'MAE Score': 0.53}"
      ]
     },
     "execution_count": 59,
     "metadata": {},
     "output_type": "execute_result"
    },
    {
     "data": {
      "text/plain": [
       "<Figure size 1200x800 with 0 Axes>"
      ]
     },
     "metadata": {},
     "output_type": "display_data"
    }
   ],
   "source": [
    "run_train_pipeline(model, X, y, \n",
    "    experiment_name='Random Forest with train data',\n",
    "    run_name='RandomForestRegressor(max_depth=64, random_state=0)')"
   ]
  },
  {
   "cell_type": "code",
   "execution_count": null,
   "metadata": {},
   "outputs": [],
   "source": []
  },
  {
   "cell_type": "code",
   "execution_count": 52,
   "metadata": {},
   "outputs": [],
   "source": [
    "model = RandomForestRegressor(max_depth=20)"
   ]
  },
  {
   "cell_type": "code",
   "execution_count": 53,
   "metadata": {},
   "outputs": [],
   "source": [
    "X_train, X_test, y_train, y_test = train_test_split(\n",
    "      \n",
    "        X, y, test_size=0.2, random_state=123)"
   ]
  },
  {
   "cell_type": "code",
   "execution_count": null,
   "metadata": {},
   "outputs": [],
   "source": []
  },
  {
   "cell_type": "code",
   "execution_count": 54,
   "metadata": {},
   "outputs": [
    {
     "data": {
      "text/html": [
       "<style>#sk-container-id-1 {color: black;background-color: white;}#sk-container-id-1 pre{padding: 0;}#sk-container-id-1 div.sk-toggleable {background-color: white;}#sk-container-id-1 label.sk-toggleable__label {cursor: pointer;display: block;width: 100%;margin-bottom: 0;padding: 0.3em;box-sizing: border-box;text-align: center;}#sk-container-id-1 label.sk-toggleable__label-arrow:before {content: \"▸\";float: left;margin-right: 0.25em;color: #696969;}#sk-container-id-1 label.sk-toggleable__label-arrow:hover:before {color: black;}#sk-container-id-1 div.sk-estimator:hover label.sk-toggleable__label-arrow:before {color: black;}#sk-container-id-1 div.sk-toggleable__content {max-height: 0;max-width: 0;overflow: hidden;text-align: left;background-color: #f0f8ff;}#sk-container-id-1 div.sk-toggleable__content pre {margin: 0.2em;color: black;border-radius: 0.25em;background-color: #f0f8ff;}#sk-container-id-1 input.sk-toggleable__control:checked~div.sk-toggleable__content {max-height: 200px;max-width: 100%;overflow: auto;}#sk-container-id-1 input.sk-toggleable__control:checked~label.sk-toggleable__label-arrow:before {content: \"▾\";}#sk-container-id-1 div.sk-estimator input.sk-toggleable__control:checked~label.sk-toggleable__label {background-color: #d4ebff;}#sk-container-id-1 div.sk-label input.sk-toggleable__control:checked~label.sk-toggleable__label {background-color: #d4ebff;}#sk-container-id-1 input.sk-hidden--visually {border: 0;clip: rect(1px 1px 1px 1px);clip: rect(1px, 1px, 1px, 1px);height: 1px;margin: -1px;overflow: hidden;padding: 0;position: absolute;width: 1px;}#sk-container-id-1 div.sk-estimator {font-family: monospace;background-color: #f0f8ff;border: 1px dotted black;border-radius: 0.25em;box-sizing: border-box;margin-bottom: 0.5em;}#sk-container-id-1 div.sk-estimator:hover {background-color: #d4ebff;}#sk-container-id-1 div.sk-parallel-item::after {content: \"\";width: 100%;border-bottom: 1px solid gray;flex-grow: 1;}#sk-container-id-1 div.sk-label:hover label.sk-toggleable__label {background-color: #d4ebff;}#sk-container-id-1 div.sk-serial::before {content: \"\";position: absolute;border-left: 1px solid gray;box-sizing: border-box;top: 0;bottom: 0;left: 50%;z-index: 0;}#sk-container-id-1 div.sk-serial {display: flex;flex-direction: column;align-items: center;background-color: white;padding-right: 0.2em;padding-left: 0.2em;position: relative;}#sk-container-id-1 div.sk-item {position: relative;z-index: 1;}#sk-container-id-1 div.sk-parallel {display: flex;align-items: stretch;justify-content: center;background-color: white;position: relative;}#sk-container-id-1 div.sk-item::before, #sk-container-id-1 div.sk-parallel-item::before {content: \"\";position: absolute;border-left: 1px solid gray;box-sizing: border-box;top: 0;bottom: 0;left: 50%;z-index: -1;}#sk-container-id-1 div.sk-parallel-item {display: flex;flex-direction: column;z-index: 1;position: relative;background-color: white;}#sk-container-id-1 div.sk-parallel-item:first-child::after {align-self: flex-end;width: 50%;}#sk-container-id-1 div.sk-parallel-item:last-child::after {align-self: flex-start;width: 50%;}#sk-container-id-1 div.sk-parallel-item:only-child::after {width: 0;}#sk-container-id-1 div.sk-dashed-wrapped {border: 1px dashed gray;margin: 0 0.4em 0.5em 0.4em;box-sizing: border-box;padding-bottom: 0.4em;background-color: white;}#sk-container-id-1 div.sk-label label {font-family: monospace;font-weight: bold;display: inline-block;line-height: 1.2em;}#sk-container-id-1 div.sk-label-container {text-align: center;}#sk-container-id-1 div.sk-container {/* jupyter's `normalize.less` sets `[hidden] { display: none; }` but bootstrap.min.css set `[hidden] { display: none !important; }` so we also need the `!important` here to be able to override the default hidden behavior on the sphinx rendered scikit-learn.org. See: https://github.com/scikit-learn/scikit-learn/issues/21755 */display: inline-block !important;position: relative;}#sk-container-id-1 div.sk-text-repr-fallback {display: none;}</style><div id=\"sk-container-id-1\" class=\"sk-top-container\"><div class=\"sk-text-repr-fallback\"><pre>RandomForestRegressor(max_depth=20)</pre><b>In a Jupyter environment, please rerun this cell to show the HTML representation or trust the notebook. <br />On GitHub, the HTML representation is unable to render, please try loading this page with nbviewer.org.</b></div><div class=\"sk-container\" hidden><div class=\"sk-item\"><div class=\"sk-estimator sk-toggleable\"><input class=\"sk-toggleable__control sk-hidden--visually\" id=\"sk-estimator-id-1\" type=\"checkbox\" checked><label for=\"sk-estimator-id-1\" class=\"sk-toggleable__label sk-toggleable__label-arrow\">RandomForestRegressor</label><div class=\"sk-toggleable__content\"><pre>RandomForestRegressor(max_depth=20)</pre></div></div></div></div></div>"
      ],
      "text/plain": [
       "RandomForestRegressor(max_depth=20)"
      ]
     },
     "execution_count": 54,
     "metadata": {},
     "output_type": "execute_result"
    }
   ],
   "source": [
    "model.fit(X_train, y_train)"
   ]
  },
  {
   "cell_type": "code",
   "execution_count": null,
   "metadata": {},
   "outputs": [],
   "source": []
  },
  {
   "cell_type": "code",
   "execution_count": 55,
   "metadata": {},
   "outputs": [
    {
     "data": {
      "text/plain": [
       "-0.15986713449493029"
      ]
     },
     "execution_count": 55,
     "metadata": {},
     "output_type": "execute_result"
    }
   ],
   "source": [
    "model.score(X_test, y_test)"
   ]
  },
  {
   "cell_type": "code",
   "execution_count": 56,
   "metadata": {},
   "outputs": [],
   "source": [
    "pipeline = Pipeline(steps=[('regressor',\n",
    " RandomForestRegressor(n_estimators=12, random_state=42))\n",
    "    ])\n",
    "\n",
    "model = pipeline.fit(X_train, y_train)"
   ]
  },
  {
   "cell_type": "code",
   "execution_count": 57,
   "metadata": {},
   "outputs": [
    {
     "data": {
      "text/plain": [
       "-0.1334789364133091"
      ]
     },
     "execution_count": 57,
     "metadata": {},
     "output_type": "execute_result"
    }
   ],
   "source": [
    "val_accuracy = model.score(X_test, y_test)\n",
    "val_accuracy"
   ]
  },
  {
   "cell_type": "code",
   "execution_count": null,
   "metadata": {},
   "outputs": [],
   "source": []
  },
  {
   "cell_type": "code",
   "execution_count": null,
   "metadata": {},
   "outputs": [],
   "source": []
  },
  {
   "cell_type": "markdown",
   "metadata": {},
   "source": [
    "#### Trying on LSTM"
   ]
  },
  {
   "cell_type": "code",
   "execution_count": 80,
   "metadata": {},
   "outputs": [],
   "source": [
    "import matplotlib.pyplot as plt\n",
    "from matplotlib.gridspec import GridSpec\n",
    "%matplotlib inline\n",
    "from statsmodels.tsa.stattools import adfuller, acf, pacf\n",
    "import tensorflow as tf\n",
    "from tensorflow.keras.models import Sequential\n",
    "from tensorflow.keras.layers import Dense\n",
    "from tensorflow.keras.layers import LSTM\n",
    "from tensorflow.keras.layers import Dropout\n",
    "\n",
    "\n",
    "from plot_util import *"
   ]
  },
  {
   "cell_type": "code",
   "execution_count": 66,
   "metadata": {},
   "outputs": [],
   "source": [
    "def change_datatypes(dataframe: pd.DataFrame) -> pd.DataFrame:\n",
    "    \"\"\"\n",
    "    A simple function which changes the data types of the dataframe and returns it\n",
    "    \"\"\"\n",
    "    try:\n",
    "        data_types = dataframe.dtypes\n",
    "        changes = ['float64', 'int64']\n",
    "        for col in data_types.index:\n",
    "            if(data_types[col] in changes):\n",
    "                if(data_types[col] == 'float64'):\n",
    "                    dataframe[col] = pd.to_numeric(\n",
    "                        dataframe[col], downcast='float')\n",
    "                elif(data_types[col] == 'int64'):\n",
    "                    dataframe[col] = pd.to_numeric(\n",
    "                        dataframe[col], downcast='unsigned')     \n",
    "    except Exception as e:\n",
    "        print(e)\n",
    "\n",
    "    return dataframe"
   ]
  },
  {
   "cell_type": "code",
   "execution_count": 67,
   "metadata": {},
   "outputs": [],
   "source": [
    "scaled_data = change_datatypes(scale_cols)"
   ]
  },
  {
   "cell_type": "code",
   "execution_count": 69,
   "metadata": {},
   "outputs": [],
   "source": [
    "SIZE = len(scaled_data.ER)\n",
    "WINDOW_SIZE = 45 \n",
    "BATCH_SIZE = SIZE-WINDOW_SIZE*2\n",
    "EPOCHS = 10"
   ]
  },
  {
   "cell_type": "code",
   "execution_count": 70,
   "metadata": {},
   "outputs": [
    {
     "name": "stdout",
     "output_type": "stream",
     "text": [
      "Shape of the training set logarithm of sales series:  (804,)\n",
      "Shape of the validation set logarithm of sales series in a stateless LSTM:  (90,)\n"
     ]
    }
   ],
   "source": [
    "XTrain = scaled_data.ER.values[0:BATCH_SIZE].astype('float32')\n",
    "XValid = scaled_data.ER.values[BATCH_SIZE:].astype('float32')\n",
    "print(\"Shape of the training set logarithm of sales series: \", XTrain.shape)\n",
    "print(\"Shape of the validation set logarithm of sales series in a stateless LSTM: \", XValid.shape)"
   ]
  },
  {
   "cell_type": "code",
   "execution_count": 73,
   "metadata": {},
   "outputs": [
    {
     "data": {
      "text/plain": [
       "TensorShape([804, 1])"
      ]
     },
     "execution_count": 73,
     "metadata": {},
     "output_type": "execute_result"
    }
   ],
   "source": [
    "tf.random.set_seed(0)\n",
    "series = tf.expand_dims(XTrain, axis=-1)\n",
    "series.shape"
   ]
  },
  {
   "cell_type": "code",
   "execution_count": 74,
   "metadata": {},
   "outputs": [
    {
     "data": {
      "text/plain": [
       "<TensorSliceDataset element_spec=TensorSpec(shape=(1,), dtype=tf.float32, name=None)>"
      ]
     },
     "execution_count": 74,
     "metadata": {},
     "output_type": "execute_result"
    }
   ],
   "source": [
    "dataset = tf.data.Dataset.from_tensor_slices(series)\n",
    "dataset"
   ]
  },
  {
   "cell_type": "code",
   "execution_count": 75,
   "metadata": {},
   "outputs": [],
   "source": [
    "dataset = dataset.window(WINDOW_SIZE + 1, shift=1, drop_remainder=True)\n",
    "dataset = dataset.flat_map(lambda window: window.batch(WINDOW_SIZE + 1))\n",
    "dataset = dataset.map(lambda window: (window[:-1], window[-1:]))\n",
    "dataset = dataset.batch(BATCH_SIZE).prefetch(1)\n",
    "# takes a window_size + 1 chunk from the slices"
   ]
  },
  {
   "cell_type": "code",
   "execution_count": 76,
   "metadata": {},
   "outputs": [],
   "source": [
    "def windowed_dataset(series, window_size=WINDOW_SIZE, batch_size=BATCH_SIZE):\n",
    "  series = tf.expand_dims(series, axis=-1)\n",
    "  dataset = tf.data.Dataset.from_tensor_slices(series)\n",
    "  dataset = dataset.window(window_size + 1, shift=1, drop_remainder=True)\n",
    "  dataset = dataset.flat_map(lambda window: window.batch(window_size + 1))\n",
    "  dataset = dataset.map(lambda window: (window[:-1], window[-1:]))\n",
    "  dataset = dataset.batch(batch_size).prefetch(1)\n",
    "  return dataset\n",
    "DatasetTrain = windowed_dataset(XTrain)\n",
    "DatasetVal = windowed_dataset(XValid)"
   ]
  },
  {
   "cell_type": "markdown",
   "metadata": {},
   "source": [
    "#### Defining and Estimating LTSM"
   ]
  },
  {
   "cell_type": "code",
   "execution_count": 81,
   "metadata": {},
   "outputs": [
    {
     "data": {
      "image/png": "[encoded data removed]",
      "text/plain": [
       "<Figure size 640x480 with 1 Axes>"
      ]
     },
     "metadata": {},
     "output_type": "display_data"
    }
   ],
   "source": [
    "model = Sequential()\n",
    "model.add(LSTM(8, input_shape=[None, 1], return_sequences=True))\n",
    "model.add(LSTM(4, input_shape=[None, 1]))\n",
    "model.add(Dense(1))\n",
    "model.compile(loss=\"mse\", optimizer='adam')\n",
    "history = model.fit(DatasetTrain, epochs=EPOCHS,\n",
    "                    validation_data=DatasetVal, verbose=0)\n",
    "fig = plt.figure()\n",
    "plt.plot(history.history['loss'], label=\"loss\")\n",
    "plt.plot(history.history['val_loss'], label=\"val_loss\")\n",
    "plt.legend()\n",
    "plt.show()"
   ]
  },
  {
   "cell_type": "code",
   "execution_count": 90,
   "metadata": {},
   "outputs": [],
   "source": [
    "# Set window of past points for LSTM model\n",
    "window = 44\n",
    "\n",
    "# # Split 80/20 into train/test data\n",
    "last = int(len(scaled_data.ER)/5.0)\n",
    "Xtrain = scaled_data.ER[:-last]\n",
    "Xtest = scaled_data.ER[-last-window:]\n",
    "\n",
    "# # Store window number of points as a sequence\n",
    "xin = []\n",
    "next_X = []\n",
    "for i in range(window, len(Xtrain)):\n",
    "    try:\n",
    "        xin.append(Xtrain[i-window:i])\n",
    "        next_X.append(Xtrain[i])\n",
    "    except Exception as e:\n",
    "        print(f'i value : {i}')\n",
    "        exit(0)\n",
    "\n",
    "# Reshape data to format for LSTM\n",
    "xin, next_X = np.array(xin), np.array(next_X)\n",
    "xin = xin.reshape(xin.shape[0], xin.shape[1], 1)"
   ]
  },
  {
   "cell_type": "code",
   "execution_count": 91,
   "metadata": {},
   "outputs": [],
   "source": [
    "# Initialize LSTM model\n",
    "m = Sequential()\n",
    "m.add(LSTM(units=50, return_sequences=True, input_shape=(xin.shape[1], 1)))\n",
    "m.add(Dropout(0.2))\n",
    "m.add(LSTM(units=50))\n",
    "m.add(Dropout(0.2))\n",
    "m.add(Dense(units=1))\n",
    "m.compile(optimizer='adam', loss='mean_squared_error', metrics=['mse', 'mae'])"
   ]
  },
  {
   "cell_type": "code",
   "execution_count": 92,
   "metadata": {},
   "outputs": [],
   "source": [
    "# Fit LSTM model\n",
    "history = m.fit(xin, next_X, epochs=700, batch_size=50, verbose=0)"
   ]
  },
  {
   "cell_type": "code",
   "execution_count": 93,
   "metadata": {},
   "outputs": [
    {
     "data": {
      "text/plain": [
       "[<matplotlib.lines.Line2D at 0x7f00c4980850>]"
      ]
     },
     "execution_count": 93,
     "metadata": {},
     "output_type": "execute_result"
    },
    {
     "data": {
      "image/png": "[encoded data removed]",
      "text/plain": [
       "<Figure size 2000x1000 with 1 Axes>"
      ]
     },
     "metadata": {},
     "output_type": "display_data"
    }
   ],
   "source": [
    "plt.figure(figsize=(20, 10))\n",
    "plt.grid()\n",
    "plt.title('LSTM MODEL TRAINING LOSS - EPOCH DIAGRAM')\n",
    "plt.ylabel('Loss')\n",
    "plt.xlabel('Epoch')\n",
    "plt.semilogy(history.history['loss'])"
   ]
  },
  {
   "cell_type": "code",
   "execution_count": 94,
   "metadata": {},
   "outputs": [
    {
     "data": {
      "text/plain": [
       "0.020876962691545486"
      ]
     },
     "execution_count": 94,
     "metadata": {},
     "output_type": "execute_result"
    }
   ],
   "source": [
    "history.history['loss'][-1]\n",
    "# Loss value"
   ]
  },
  {
   "cell_type": "code",
   "execution_count": 110,
   "metadata": {},
   "outputs": [
    {
     "data": {
      "text/plain": [
       "[<matplotlib.lines.Line2D at 0x7f00c60b7a90>]"
      ]
     },
     "execution_count": 110,
     "metadata": {},
     "output_type": "execute_result"
    },
    {
     "data": {
      "image/png": "[encoded data removed]",
      "text/plain": [
       "<Figure size 1500x1000 with 1 Axes>"
      ]
     },
     "metadata": {},
     "output_type": "display_data"
    }
   ],
   "source": [
    "plt.figure(figsize=(15, 10))\n",
    "plt.grid()\n",
    "plt.title('MEAN ABSOLUTE ERROR OF LSTM')\n",
    "plt.ylabel('Mean Absolute Error')\n",
    "plt.xlabel('Epoch')\n",
    "plt.semilogy(history.history['mae'])"
   ]
  },
  {
   "cell_type": "code",
   "execution_count": 112,
   "metadata": {},
   "outputs": [
    {
     "data": {
      "text/plain": [
       "0.11499814689159393"
      ]
     },
     "execution_count": 112,
     "metadata": {},
     "output_type": "execute_result"
    }
   ],
   "source": [
    "history.history['mae'][-1]\n",
    "# Last Mean Absolute Error Value"
   ]
  },
  {
   "cell_type": "code",
   "execution_count": 135,
   "metadata": {},
   "outputs": [
    {
     "data": {
      "text/plain": [
       "[<matplotlib.lines.Line2D at 0x7f008f3e1210>]"
      ]
     },
     "execution_count": 135,
     "metadata": {},
     "output_type": "execute_result"
    },
    {
     "data": {
      "image/png": "[encoded data removed]",
      "text/plain": [
       "<Figure size 1500x1000 with 1 Axes>"
      ]
     },
     "metadata": {},
     "output_type": "display_data"
    }
   ],
   "source": [
    "plt.figure(figsize=(15, 10))\n",
    "plt.grid()\n",
    "plt.title('MEAN STANDARD ERROR OF LSTM')\n",
    "plt.ylabel('Mean Standard Error')\n",
    "plt.xlabel('Epoch')\n",
    "plt.semilogy(history.history['mse'])"
   ]
  },
  {
   "cell_type": "code",
   "execution_count": 113,
   "metadata": {},
   "outputs": [
    {
     "data": {
      "text/plain": [
       "0.020876962691545486"
      ]
     },
     "execution_count": 113,
     "metadata": {},
     "output_type": "execute_result"
    }
   ],
   "source": [
    "history.history['mse'][-1]"
   ]
  },
  {
   "cell_type": "markdown",
   "metadata": {},
   "source": [
    "#### Save the Model"
   ]
  },
  {
   "cell_type": "code",
   "execution_count": 109,
   "metadata": {},
   "outputs": [
    {
     "name": "stderr",
     "output_type": "stream",
     "text": [
      "WARNING:absl:Found untraced functions such as lstm_cell_2_layer_call_fn, lstm_cell_2_layer_call_and_return_conditional_losses, lstm_cell_3_layer_call_fn, lstm_cell_3_layer_call_and_return_conditional_losses while saving (showing 4 of 4). These functions will not be directly callable after loading.\n"
     ]
    },
    {
     "name": "stdout",
     "output_type": "stream",
     "text": [
      "INFO:tensorflow:Assets written to: ../models/LSTM_sales 2022-11-06-01:47:47.pkl/assets\n"
     ]
    },
    {
     "name": "stderr",
     "output_type": "stream",
     "text": [
      "INFO:tensorflow:Assets written to: ../models/LSTM_sales 2022-11-06-01:47:47.pkl/assets\n"
     ]
    }
   ],
   "source": [
    "from time import gmtime, strftime\n",
    "time = strftime(\"%Y-%m-%d-%H:%M:%S\", gmtime())\n",
    "model.save(f'../models/LSTM_ER {time}.pkl')"
   ]
  },
  {
   "cell_type": "markdown",
   "metadata": {},
   "source": [
    "#### Test model"
   ]
  },
  {
   "cell_type": "code",
   "execution_count": 116,
   "metadata": {},
   "outputs": [
    {
     "data": {
      "text/html": [
       "<div>\n",
       "<style scoped>\n",
       "    .dataframe tbody tr th:only-of-type {\n",
       "        vertical-align: middle;\n",
       "    }\n",
       "\n",
       "    .dataframe tbody tr th {\n",
       "        vertical-align: top;\n",
       "    }\n",
       "\n",
       "    .dataframe thead th {\n",
       "        text-align: right;\n",
       "    }\n",
       "</style>\n",
       "<table border=\"1\" class=\"dataframe\">\n",
       "  <thead>\n",
       "    <tr style=\"text-align: right;\">\n",
       "      <th></th>\n",
       "      <th>color_1</th>\n",
       "      <th>color_1_occurance</th>\n",
       "      <th>color_2</th>\n",
       "      <th>color_2_occurance</th>\n",
       "      <th>color_3</th>\n",
       "      <th>color_3_occurance</th>\n",
       "      <th>color_4</th>\n",
       "      <th>color_4_occurance</th>\n",
       "      <th>color_5</th>\n",
       "      <th>color_5_occurance</th>\n",
       "      <th>ER</th>\n",
       "      <th>CTR</th>\n",
       "      <th>cta_position</th>\n",
       "      <th>area</th>\n",
       "    </tr>\n",
       "  </thead>\n",
       "  <tbody>\n",
       "    <tr>\n",
       "      <th>0</th>\n",
       "      <td>24</td>\n",
       "      <td>502997.0</td>\n",
       "      <td>184</td>\n",
       "      <td>85037.0</td>\n",
       "      <td>177</td>\n",
       "      <td>73722.0</td>\n",
       "      <td>358</td>\n",
       "      <td>66394.0</td>\n",
       "      <td>423</td>\n",
       "      <td>58892.0</td>\n",
       "      <td>0.522940</td>\n",
       "      <td>0.975965</td>\n",
       "      <td>6</td>\n",
       "      <td>540000.0</td>\n",
       "    </tr>\n",
       "    <tr>\n",
       "      <th>1</th>\n",
       "      <td>342</td>\n",
       "      <td>274865.0</td>\n",
       "      <td>42</td>\n",
       "      <td>160951.0</td>\n",
       "      <td>336</td>\n",
       "      <td>19223.0</td>\n",
       "      <td>318</td>\n",
       "      <td>14026.0</td>\n",
       "      <td>154</td>\n",
       "      <td>10730.0</td>\n",
       "      <td>0.865483</td>\n",
       "      <td>0.474631</td>\n",
       "      <td>0</td>\n",
       "      <td>11700.0</td>\n",
       "    </tr>\n",
       "    <tr>\n",
       "      <th>2</th>\n",
       "      <td>24</td>\n",
       "      <td>499029.0</td>\n",
       "      <td>374</td>\n",
       "      <td>459426.0</td>\n",
       "      <td>426</td>\n",
       "      <td>355211.0</td>\n",
       "      <td>389</td>\n",
       "      <td>278629.0</td>\n",
       "      <td>425</td>\n",
       "      <td>153266.0</td>\n",
       "      <td>0.369275</td>\n",
       "      <td>0.422719</td>\n",
       "      <td>1</td>\n",
       "      <td>25090.0</td>\n",
       "    </tr>\n",
       "    <tr>\n",
       "      <th>3</th>\n",
       "      <td>342</td>\n",
       "      <td>271413.0</td>\n",
       "      <td>42</td>\n",
       "      <td>160951.0</td>\n",
       "      <td>336</td>\n",
       "      <td>19223.0</td>\n",
       "      <td>140</td>\n",
       "      <td>10730.0</td>\n",
       "      <td>0</td>\n",
       "      <td>9062.0</td>\n",
       "      <td>0.015088</td>\n",
       "      <td>0.461712</td>\n",
       "      <td>0</td>\n",
       "      <td>11700.0</td>\n",
       "    </tr>\n",
       "    <tr>\n",
       "      <th>4</th>\n",
       "      <td>342</td>\n",
       "      <td>490748.0</td>\n",
       "      <td>45</td>\n",
       "      <td>202923.0</td>\n",
       "      <td>309</td>\n",
       "      <td>23779.0</td>\n",
       "      <td>319</td>\n",
       "      <td>23585.0</td>\n",
       "      <td>438</td>\n",
       "      <td>15527.0</td>\n",
       "      <td>0.255562</td>\n",
       "      <td>0.123088</td>\n",
       "      <td>1</td>\n",
       "      <td>19200.0</td>\n",
       "    </tr>\n",
       "    <tr>\n",
       "      <th>...</th>\n",
       "      <td>...</td>\n",
       "      <td>...</td>\n",
       "      <td>...</td>\n",
       "      <td>...</td>\n",
       "      <td>...</td>\n",
       "      <td>...</td>\n",
       "      <td>...</td>\n",
       "      <td>...</td>\n",
       "      <td>...</td>\n",
       "      <td>...</td>\n",
       "      <td>...</td>\n",
       "      <td>...</td>\n",
       "      <td>...</td>\n",
       "      <td>...</td>\n",
       "    </tr>\n",
       "    <tr>\n",
       "      <th>889</th>\n",
       "      <td>342</td>\n",
       "      <td>274865.0</td>\n",
       "      <td>42</td>\n",
       "      <td>160951.0</td>\n",
       "      <td>336</td>\n",
       "      <td>19223.0</td>\n",
       "      <td>318</td>\n",
       "      <td>14026.0</td>\n",
       "      <td>154</td>\n",
       "      <td>10730.0</td>\n",
       "      <td>0.960574</td>\n",
       "      <td>0.777629</td>\n",
       "      <td>5</td>\n",
       "      <td>11700.0</td>\n",
       "    </tr>\n",
       "    <tr>\n",
       "      <th>890</th>\n",
       "      <td>123</td>\n",
       "      <td>8925.0</td>\n",
       "      <td>162</td>\n",
       "      <td>1678.0</td>\n",
       "      <td>185</td>\n",
       "      <td>207.0</td>\n",
       "      <td>259</td>\n",
       "      <td>152.0</td>\n",
       "      <td>386</td>\n",
       "      <td>140.0</td>\n",
       "      <td>0.913909</td>\n",
       "      <td>0.936009</td>\n",
       "      <td>6</td>\n",
       "      <td>20097.0</td>\n",
       "    </tr>\n",
       "    <tr>\n",
       "      <th>891</th>\n",
       "      <td>262</td>\n",
       "      <td>516673.0</td>\n",
       "      <td>233</td>\n",
       "      <td>250461.0</td>\n",
       "      <td>432</td>\n",
       "      <td>96128.0</td>\n",
       "      <td>0</td>\n",
       "      <td>87347.0</td>\n",
       "      <td>364</td>\n",
       "      <td>69277.0</td>\n",
       "      <td>0.882153</td>\n",
       "      <td>0.196111</td>\n",
       "      <td>6</td>\n",
       "      <td>10455.0</td>\n",
       "    </tr>\n",
       "    <tr>\n",
       "      <th>892</th>\n",
       "      <td>1</td>\n",
       "      <td>266842.0</td>\n",
       "      <td>390</td>\n",
       "      <td>61306.0</td>\n",
       "      <td>266</td>\n",
       "      <td>9600.0</td>\n",
       "      <td>161</td>\n",
       "      <td>9523.0</td>\n",
       "      <td>49</td>\n",
       "      <td>5276.0</td>\n",
       "      <td>0.754836</td>\n",
       "      <td>0.104904</td>\n",
       "      <td>6</td>\n",
       "      <td>10455.0</td>\n",
       "    </tr>\n",
       "    <tr>\n",
       "      <th>893</th>\n",
       "      <td>192</td>\n",
       "      <td>312583.0</td>\n",
       "      <td>231</td>\n",
       "      <td>236992.0</td>\n",
       "      <td>141</td>\n",
       "      <td>63958.0</td>\n",
       "      <td>138</td>\n",
       "      <td>53524.0</td>\n",
       "      <td>191</td>\n",
       "      <td>48559.0</td>\n",
       "      <td>0.018944</td>\n",
       "      <td>0.662351</td>\n",
       "      <td>3</td>\n",
       "      <td>13920.0</td>\n",
       "    </tr>\n",
       "  </tbody>\n",
       "</table>\n",
       "<p>894 rows × 14 columns</p>\n",
       "</div>"
      ],
      "text/plain": [
       "     color_1  color_1_occurance  color_2  color_2_occurance  color_3  \\\n",
       "0         24           502997.0      184            85037.0      177   \n",
       "1        342           274865.0       42           160951.0      336   \n",
       "2         24           499029.0      374           459426.0      426   \n",
       "3        342           271413.0       42           160951.0      336   \n",
       "4        342           490748.0       45           202923.0      309   \n",
       "..       ...                ...      ...                ...      ...   \n",
       "889      342           274865.0       42           160951.0      336   \n",
       "890      123             8925.0      162             1678.0      185   \n",
       "891      262           516673.0      233           250461.0      432   \n",
       "892        1           266842.0      390            61306.0      266   \n",
       "893      192           312583.0      231           236992.0      141   \n",
       "\n",
       "     color_3_occurance  color_4  color_4_occurance  color_5  \\\n",
       "0              73722.0      358            66394.0      423   \n",
       "1              19223.0      318            14026.0      154   \n",
       "2             355211.0      389           278629.0      425   \n",
       "3              19223.0      140            10730.0        0   \n",
       "4              23779.0      319            23585.0      438   \n",
       "..                 ...      ...                ...      ...   \n",
       "889            19223.0      318            14026.0      154   \n",
       "890              207.0      259              152.0      386   \n",
       "891            96128.0        0            87347.0      364   \n",
       "892             9600.0      161             9523.0       49   \n",
       "893            63958.0      138            53524.0      191   \n",
       "\n",
       "     color_5_occurance        ER       CTR  cta_position      area  \n",
       "0              58892.0  0.522940  0.975965             6  540000.0  \n",
       "1              10730.0  0.865483  0.474631             0   11700.0  \n",
       "2             153266.0  0.369275  0.422719             1   25090.0  \n",
       "3               9062.0  0.015088  0.461712             0   11700.0  \n",
       "4              15527.0  0.255562  0.123088             1   19200.0  \n",
       "..                 ...       ...       ...           ...       ...  \n",
       "889            10730.0  0.960574  0.777629             5   11700.0  \n",
       "890              140.0  0.913909  0.936009             6   20097.0  \n",
       "891            69277.0  0.882153  0.196111             6   10455.0  \n",
       "892             5276.0  0.754836  0.104904             6   10455.0  \n",
       "893            48559.0  0.018944  0.662351             3   13920.0  \n",
       "\n",
       "[894 rows x 14 columns]"
      ]
     },
     "execution_count": 116,
     "metadata": {},
     "output_type": "execute_result"
    }
   ],
   "source": [
    "df_for_model"
   ]
  },
  {
   "cell_type": "code",
   "execution_count": 118,
   "metadata": {},
   "outputs": [
    {
     "data": {
      "text/plain": [
       "Index(['color_1', 'color_1_occurance', 'color_2', 'color_2_occurance',\n",
       "       'color_3', 'color_3_occurance', 'color_4', 'color_4_occurance',\n",
       "       'color_5', 'color_5_occurance', 'ER', 'CTR', 'cta_position', 'area'],\n",
       "      dtype='object')"
      ]
     },
     "execution_count": 118,
     "metadata": {},
     "output_type": "execute_result"
    }
   ],
   "source": [
    "df_for_model.columns"
   ]
  },
  {
   "cell_type": "code",
   "execution_count": 123,
   "metadata": {},
   "outputs": [],
   "source": [
    "from tensorflow.keras.models import load_model\n",
    "def predict_tensorflow(df):\n",
    "    model = load_model('../models/LSTM_ER 2022-11-06-01:47:47.pkl')\n",
    "    df = df[['color_1', 'color_1_occurance', 'color_2', 'color_2_occurance',\n",
    "       'color_3', 'color_3_occurance', 'color_4', 'color_4_occurance',\n",
    "       'color_5', 'color_5_occurance', 'cta_position', 'area']]\n",
    "    df = np.asarray(df).astype(np.float32)\n",
    "    result = model.predict(df)\n",
    "    print(np.exp(result))"
   ]
  },
  {
   "cell_type": "code",
   "execution_count": 133,
   "metadata": {},
   "outputs": [
    {
     "data": {
      "text/html": [
       "<div>\n",
       "<style scoped>\n",
       "    .dataframe tbody tr th:only-of-type {\n",
       "        vertical-align: middle;\n",
       "    }\n",
       "\n",
       "    .dataframe tbody tr th {\n",
       "        vertical-align: top;\n",
       "    }\n",
       "\n",
       "    .dataframe thead th {\n",
       "        text-align: right;\n",
       "    }\n",
       "</style>\n",
       "<table border=\"1\" class=\"dataframe\">\n",
       "  <thead>\n",
       "    <tr style=\"text-align: right;\">\n",
       "      <th></th>\n",
       "      <th>color_1</th>\n",
       "      <th>color_1_occurance</th>\n",
       "      <th>color_2</th>\n",
       "      <th>color_2_occurance</th>\n",
       "      <th>color_3</th>\n",
       "      <th>color_3_occurance</th>\n",
       "      <th>color_4</th>\n",
       "      <th>color_4_occurance</th>\n",
       "      <th>color_5</th>\n",
       "      <th>color_5_occurance</th>\n",
       "      <th>ER</th>\n",
       "      <th>CTR</th>\n",
       "      <th>cta_position</th>\n",
       "      <th>area</th>\n",
       "    </tr>\n",
       "  </thead>\n",
       "  <tbody>\n",
       "    <tr>\n",
       "      <th>0</th>\n",
       "      <td>24</td>\n",
       "      <td>502997.0</td>\n",
       "      <td>184</td>\n",
       "      <td>85037.0</td>\n",
       "      <td>177</td>\n",
       "      <td>73722.0</td>\n",
       "      <td>358</td>\n",
       "      <td>66394.0</td>\n",
       "      <td>423</td>\n",
       "      <td>58892.0</td>\n",
       "      <td>0.522940</td>\n",
       "      <td>0.975965</td>\n",
       "      <td>6</td>\n",
       "      <td>540000.0</td>\n",
       "    </tr>\n",
       "    <tr>\n",
       "      <th>1</th>\n",
       "      <td>342</td>\n",
       "      <td>274865.0</td>\n",
       "      <td>42</td>\n",
       "      <td>160951.0</td>\n",
       "      <td>336</td>\n",
       "      <td>19223.0</td>\n",
       "      <td>318</td>\n",
       "      <td>14026.0</td>\n",
       "      <td>154</td>\n",
       "      <td>10730.0</td>\n",
       "      <td>0.865483</td>\n",
       "      <td>0.474631</td>\n",
       "      <td>0</td>\n",
       "      <td>11700.0</td>\n",
       "    </tr>\n",
       "    <tr>\n",
       "      <th>2</th>\n",
       "      <td>24</td>\n",
       "      <td>499029.0</td>\n",
       "      <td>374</td>\n",
       "      <td>459426.0</td>\n",
       "      <td>426</td>\n",
       "      <td>355211.0</td>\n",
       "      <td>389</td>\n",
       "      <td>278629.0</td>\n",
       "      <td>425</td>\n",
       "      <td>153266.0</td>\n",
       "      <td>0.369275</td>\n",
       "      <td>0.422719</td>\n",
       "      <td>1</td>\n",
       "      <td>25090.0</td>\n",
       "    </tr>\n",
       "    <tr>\n",
       "      <th>3</th>\n",
       "      <td>342</td>\n",
       "      <td>271413.0</td>\n",
       "      <td>42</td>\n",
       "      <td>160951.0</td>\n",
       "      <td>336</td>\n",
       "      <td>19223.0</td>\n",
       "      <td>140</td>\n",
       "      <td>10730.0</td>\n",
       "      <td>0</td>\n",
       "      <td>9062.0</td>\n",
       "      <td>0.015088</td>\n",
       "      <td>0.461712</td>\n",
       "      <td>0</td>\n",
       "      <td>11700.0</td>\n",
       "    </tr>\n",
       "    <tr>\n",
       "      <th>4</th>\n",
       "      <td>342</td>\n",
       "      <td>490748.0</td>\n",
       "      <td>45</td>\n",
       "      <td>202923.0</td>\n",
       "      <td>309</td>\n",
       "      <td>23779.0</td>\n",
       "      <td>319</td>\n",
       "      <td>23585.0</td>\n",
       "      <td>438</td>\n",
       "      <td>15527.0</td>\n",
       "      <td>0.255562</td>\n",
       "      <td>0.123088</td>\n",
       "      <td>1</td>\n",
       "      <td>19200.0</td>\n",
       "    </tr>\n",
       "  </tbody>\n",
       "</table>\n",
       "</div>"
      ],
      "text/plain": [
       "   color_1  color_1_occurance  color_2  color_2_occurance  color_3  \\\n",
       "0       24           502997.0      184            85037.0      177   \n",
       "1      342           274865.0       42           160951.0      336   \n",
       "2       24           499029.0      374           459426.0      426   \n",
       "3      342           271413.0       42           160951.0      336   \n",
       "4      342           490748.0       45           202923.0      309   \n",
       "\n",
       "   color_3_occurance  color_4  color_4_occurance  color_5  color_5_occurance  \\\n",
       "0            73722.0      358            66394.0      423            58892.0   \n",
       "1            19223.0      318            14026.0      154            10730.0   \n",
       "2           355211.0      389           278629.0      425           153266.0   \n",
       "3            19223.0      140            10730.0        0             9062.0   \n",
       "4            23779.0      319            23585.0      438            15527.0   \n",
       "\n",
       "         ER       CTR  cta_position      area  \n",
       "0  0.522940  0.975965             6  540000.0  \n",
       "1  0.865483  0.474631             0   11700.0  \n",
       "2  0.369275  0.422719             1   25090.0  \n",
       "3  0.015088  0.461712             0   11700.0  \n",
       "4  0.255562  0.123088             1   19200.0  "
      ]
     },
     "execution_count": 133,
     "metadata": {},
     "output_type": "execute_result"
    }
   ],
   "source": [
    "df_for_model.head(5)"
   ]
  },
  {
   "cell_type": "code",
   "execution_count": 134,
   "metadata": {},
   "outputs": [
    {
     "name": "stdout",
     "output_type": "stream",
     "text": [
      "1/1 [==============================] - 1s 662ms/step\n",
      "[[0.96486205]\n",
      " [0.9677656 ]\n",
      " [0.96503586]\n",
      " [0.96298295]\n",
      " [0.96578723]]\n"
     ]
    }
   ],
   "source": [
    "predict_tensorflow(df_for_model.head(5))"
   ]
  },
  {
   "cell_type": "code",
   "execution_count": null,
   "metadata": {},
   "outputs": [],
   "source": []
  }
 ],
 "metadata": {
  "kernelspec": {
   "display_name": "Python 3.10.6 ('env_opencv')",
   "language": "python",
   "name": "python3"
  },
  "language_info": {
   "codemirror_mode": {
    "name": "ipython",
    "version": 3
   },
   "file_extension": ".py",
   "mimetype": "text/x-python",
   "name": "python",
   "nbconvert_exporter": "python",
   "pygments_lexer": "ipython3",
   "version": "3.10.6"
  },
  "orig_nbformat": 4,
  "vscode": {
   "interpreter": {
    "hash": "fe2f7ff2d4c7a8da01abd7a70e9730f8b430444ce8cf429c0cd7c44bec68e8c2"
   }
  }
 },
 "nbformat": 4,
 "nbformat_minor": 2
}
