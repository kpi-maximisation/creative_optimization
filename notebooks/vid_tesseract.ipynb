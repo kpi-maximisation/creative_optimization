{
 "cells": [
  {
   "cell_type": "markdown",
   "metadata": {},
   "source": [
    "# Video to images"
   ]
  },
  {
   "cell_type": "code",
   "execution_count": 2,
   "metadata": {},
   "outputs": [],
   "source": [
    "from PIL import Image\n",
    "from pytesseract import pytesseract"
   ]
  },
  {
   "cell_type": "code",
   "execution_count": 6,
   "metadata": {},
   "outputs": [
    {
     "name": "stdout",
     "output_type": "stream",
     "text": [
      "Collecting python-docx\n",
      "  Downloading python-docx-0.8.11.tar.gz (5.6 MB)\n",
      "\u001b[2K     \u001b[90m━━━━━━━━━━━━━━━━━━━━━━━━━━━━━━━━━━━━━━━━\u001b[0m \u001b[32m5.6/5.6 MB\u001b[0m \u001b[31m2.3 MB/s\u001b[0m eta \u001b[36m0:00:00\u001b[0m00:01\u001b[0m00:01\u001b[0m0m\n",
      "\u001b[?25h  Preparing metadata (setup.py) ... \u001b[?25ldone\n",
      "\u001b[?25hRequirement already satisfied: lxml>=2.3.2 in /home/owon/anaconda3/envs/newenv/lib/python3.7/site-packages (from python-docx) (4.9.1)\n",
      "Building wheels for collected packages: python-docx\n",
      "  Building wheel for python-docx (setup.py) ... \u001b[?25ldone\n",
      "\u001b[?25h  Created wheel for python-docx: filename=python_docx-0.8.11-py3-none-any.whl size=184489 sha256=184c69137dbf8dd0e44236a1f7add5e7b950bda4244afc9456f0ec2c0f8911f6\n",
      "  Stored in directory: /home/owon/.cache/pip/wheels/8d/43/ab/6dfe2e7103b24fb1148e95b265fd71d23d29bcbaa60a4a7ed9\n",
      "Successfully built python-docx\n",
      "Installing collected packages: python-docx\n",
      "Successfully installed python-docx-0.8.11\n"
     ]
    }
   ],
   "source": [
    "!pip install python-docx"
   ]
  },
  {
   "cell_type": "code",
   "execution_count": 3,
   "metadata": {},
   "outputs": [],
   "source": [
    "import os\n",
    "import re\n",
    "import cv2"
   ]
  },
  {
   "cell_type": "code",
   "execution_count": 8,
   "metadata": {},
   "outputs": [],
   "source": [
    "path_to_tesseract = r\"/usr/bin/tesseract\"\n",
    "# cap = cv2.VideoCapture('./extracted/bfbf7a2b7ac635e67877b1ab87fd6629-b7a604b3b08f0862ef0e2_cropped.mkv')"
   ]
  },
  {
   "cell_type": "code",
   "execution_count": 80,
   "metadata": {},
   "outputs": [],
   "source": [
    "try:\n",
    "      \n",
    "    # creating a folder named data\n",
    "    if not os.path.exists('images'):\n",
    "        os.makedirs('images')\n",
    "except OSError:\n",
    "    print ('Error: Creating directory of data')"
   ]
  },
  {
   "cell_type": "code",
   "execution_count": 81,
   "metadata": {},
   "outputs": [
    {
     "name": "stdout",
     "output_type": "stream",
     "text": [
      "Creating..../images/frame0.jpg\n"
     ]
    }
   ],
   "source": [
    "currentframe = 0\n",
    "framespersecond= int(cap.get(cv2.CAP_PROP_FPS))\n",
    "\n",
    "while(True):\n",
    "      \n",
    "    # reading from frame\n",
    "    ret,frame = cap.read()\n",
    "  \n",
    "    if ret:\n",
    "        if currentframe % int(framespersecond/ 2) == 0:\n",
    "            name = './images/frame' + str(currentframe) + '.jpg'\n",
    "            print ('Creating...' + name)\n",
    "            cv2.imwrite(name, frame)\n",
    "            currentframe += 1\n",
    "    else:\n",
    "        break\n"
   ]
  },
  {
   "cell_type": "markdown",
   "metadata": {},
   "source": [
    "## Capture in time interval"
   ]
  },
  {
   "cell_type": "code",
   "execution_count": 86,
   "metadata": {},
   "outputs": [
    {
     "name": "stdout",
     "output_type": "stream",
     "text": [
      "Creating..../images/frame0.jpg\n",
      "Creating..../images/frame1.jpg\n",
      "Creating..../images/frame2.jpg\n",
      "Creating..../images/frame3.jpg\n",
      "Creating..../images/frame4.jpg\n",
      "Creating..../images/frame5.jpg\n",
      "Creating..../images/frame6.jpg\n",
      "Creating..../images/frame7.jpg\n",
      "Creating..../images/frame8.jpg\n",
      "Creating..../images/frame9.jpg\n",
      "Creating..../images/frame10.jpg\n",
      "Creating..../images/frame11.jpg\n",
      "Creating..../images/frame12.jpg\n",
      "Creating..../images/frame13.jpg\n",
      "Creating..../images/frame14.jpg\n",
      "Creating..../images/frame15.jpg\n",
      "Creating..../images/frame16.jpg\n",
      "Creating..../images/frame17.jpg\n",
      "Creating..../images/frame18.jpg\n",
      "Creating..../images/frame19.jpg\n",
      "Creating..../images/frame20.jpg\n",
      "Creating..../images/frame21.jpg\n"
     ]
    }
   ],
   "source": [
    "import cv2\n",
    "\n",
    "import os\n",
    "\n",
    "cap = cv2.VideoCapture('./extracted/bfbf7a2b7ac635e67877b1ab87fd6629-b7a604b3b08f0862ef0e2_cropped.mkv')\n",
    "\n",
    "time_skips = float(500) #skip every 0.5 seconds. \n",
    "\n",
    "count = 0\n",
    "success,image = cap.read()\n",
    "while success:\n",
    "    name = './images/frame' + str(count) + '.jpg'\n",
    "    print ('Creating...' + name)\n",
    "    cv2.imwrite(name, image)     \n",
    "    cap.set(cv2.CAP_PROP_POS_MSEC, \n",
    "    (count*time_skips))    \n",
    "    # move the time\n",
    "    success,image = cap.read()\n",
    "    count += 1\n",
    "\n",
    "# release after reading    \n",
    "cap.release()"
   ]
  },
  {
   "cell_type": "code",
   "execution_count": 3,
   "metadata": {},
   "outputs": [],
   "source": [
    "filename ='3c383647c107f40ba222bcddd47d3d1b'\n",
    "import cv2\n",
    "\n",
    "import os"
   ]
  },
  {
   "cell_type": "code",
   "execution_count": 4,
   "metadata": {},
   "outputs": [
    {
     "name": "stdout",
     "output_type": "stream",
     "text": [
      "Creating...../images/3c383647c107f40ba222bcddd47d3d1b/frame0.jpg\n",
      "Creating...../images/3c383647c107f40ba222bcddd47d3d1b/frame1.jpg\n",
      "Creating...../images/3c383647c107f40ba222bcddd47d3d1b/frame2.jpg\n",
      "Creating...../images/3c383647c107f40ba222bcddd47d3d1b/frame3.jpg\n",
      "Creating...../images/3c383647c107f40ba222bcddd47d3d1b/frame4.jpg\n",
      "Creating...../images/3c383647c107f40ba222bcddd47d3d1b/frame5.jpg\n",
      "Creating...../images/3c383647c107f40ba222bcddd47d3d1b/frame6.jpg\n",
      "Creating...../images/3c383647c107f40ba222bcddd47d3d1b/frame7.jpg\n",
      "Creating...../images/3c383647c107f40ba222bcddd47d3d1b/frame8.jpg\n",
      "Creating...../images/3c383647c107f40ba222bcddd47d3d1b/frame9.jpg\n"
     ]
    }
   ],
   "source": [
    "cap = cv2.VideoCapture('../vid_cropped/' + filename + '_cropped.mkv')\n",
    "\n",
    "time_skips = float(500) #skip every 0.5 seconds. \n",
    "count = 0\n",
    "success,image = cap.read()\n",
    "while success:\n",
    "    if not os.path.exists(f'../images/{filename}'):\n",
    "        os.makedirs(f'../images/{filename}')\n",
    "    name = f'../images/{filename}/frame' + str(count) + '.jpg'\n",
    "    print ('Creating...' + name)\n",
    "    cv2.imwrite(name, image)     \n",
    "    cap.set(cv2.CAP_PROP_POS_MSEC, \n",
    "    (count*time_skips))    \n",
    "    # move the time\n",
    "    success,image = cap.read()\n",
    "    count += 1\n",
    "\n",
    "    # release after reading    \n",
    "cap.release()"
   ]
  },
  {
   "cell_type": "code",
   "execution_count": 69,
   "metadata": {},
   "outputs": [],
   "source": [
    "currentframe = 0\n",
    "framespersecond= int(cap.get(cv2.CAP_PROP_FPS))\n",
    "\n",
    "while(True):\n",
    "      \n",
    "    # reading from frame\n",
    "    ret,frame = cap.read()\n",
    "  \n",
    "    if ret:\n",
    "        # if currentframe % (framespersecond/ 2)\n",
    "        name = './images/frame' + str(currentframe) + '.jpg'\n",
    "        print ('Creating...' + name)\n",
    "        cv2.imwrite(name, frame)\n",
    "        currentframe += 1\n",
    "    else:\n",
    "        break"
   ]
  },
  {
   "cell_type": "markdown",
   "metadata": {},
   "source": [
    "# image to text"
   ]
  },
  {
   "cell_type": "code",
   "execution_count": 87,
   "metadata": {},
   "outputs": [
    {
     "name": "stdout",
     "output_type": "stream",
     "text": [
      "['Ovexus\\nL/CERTIFIED BY LEXUS\\n\\nPHILADELPHIA AREA\\nLEXUS DEALERS\\n\\nLEARN MORE\\n\\n', 'Ovexus\\nL/CERTIFIED BY LEXUS\\n\\nTAP THE SCREEN\\n\\nto find the nearest Lexus dealership\\n\\n']\n"
     ]
    }
   ],
   "source": [
    "l=[]\n",
    "for i in (5,currentframe-1):\n",
    "    image_path='./images/frame' + str(i) + '.jpg'\n",
    "    img = Image.open(image_path)\n",
    "    pytesseract.tesseract_cmd = path_to_tesseract\n",
    "    text = pytesseract.image_to_string(img)\n",
    "    if(len(text)!=0):\n",
    "        l.append(text)\n",
    "sorted(set(l), key=l.index)\n",
    "print(l)"
   ]
  },
  {
   "cell_type": "code",
   "execution_count": 20,
   "metadata": {},
   "outputs": [],
   "source": [
    "image_path='./frame10.jpg'\n",
    "img = Image.open(image_path)\n",
    "pytesseract.tesseract_cmd = path_to_tesseract\n",
    "text = pytesseract.image_to_string(img)\n"
   ]
  },
  {
   "cell_type": "code",
   "execution_count": 21,
   "metadata": {},
   "outputs": [
    {
     "data": {
      "text/plain": [
       "'OvexusL/CERTIFIED BY LEXUSPHILADELPHIA AREALEXUS DEALERSLEARN MORE'"
      ]
     },
     "execution_count": 21,
     "metadata": {},
     "output_type": "execute_result"
    }
   ],
   "source": [
    "text.replace('\\n', '')"
   ]
  },
  {
   "cell_type": "code",
   "execution_count": 13,
   "metadata": {},
   "outputs": [],
   "source": [
    "\n",
    "l = text"
   ]
  },
  {
   "cell_type": "code",
   "execution_count": 17,
   "metadata": {},
   "outputs": [
    {
     "data": {
      "text/plain": [
       "'Ovexus\\nL/CERTIFIED BY LEXUS\\n\\nPHILADELPHIA AREA\\nLEXUS DEALERS\\n\\nLEARN MORE\\n\\nOvexus\\nL/CERTIFIED BY LEXUS\\n\\nPHILADELPHIA AREA\\nLEXUS DEALERS\\n\\nLEARN MORE\\n\\n'"
      ]
     },
     "execution_count": 17,
     "metadata": {},
     "output_type": "execute_result"
    }
   ],
   "source": [
    "decode_string"
   ]
  },
  {
   "cell_type": "markdown",
   "metadata": {},
   "source": [
    "# text to document"
   ]
  },
  {
   "cell_type": "code",
   "execution_count": 14,
   "metadata": {},
   "outputs": [],
   "source": [
    "# list to string\n",
    "str1 = ''.join(str(e) for e in l)"
   ]
  },
  {
   "cell_type": "code",
   "execution_count": 16,
   "metadata": {},
   "outputs": [],
   "source": [
    "# removing unwanted things from string\n",
    "re.sub(r'[\\x00-\\x08\\x0b\\x0c\\x0e-\\x1f\\x7f-\\xff]', '', str1)\n",
    "re.sub(u\"&#(\\d+);?\", lambda c: str_to_int(c.group(1), c.group(0)), str1)\n",
    "re.sub(u\"&#[xX]([0-9a-fA-F]+);?\", lambda c: str_to_int(c.group(1), c.group(0), base=16), str1)\n",
    "re.sub(u\"[\\x00-\\x08\\x0b\\x0c\\x0e-\\x1f\\x7f]\", \"\", str1)\n",
    "encoded_string = str1.encode(\"ascii\", \"ignore\")\n",
    "decode_string = encoded_string.decode()"
   ]
  },
  {
   "cell_type": "code",
   "execution_count": 18,
   "metadata": {},
   "outputs": [],
   "source": [
    "# cleaning further more to be write it in a .docx\n",
    "\n",
    "def valid_xml_char_ordinal(c):\n",
    "    codepoint = ord(c)\n",
    "    # conditions ordered by presumed frequency\n",
    "    return (\n",
    "        0x20 <= codepoint <= 0xD7FF or\n",
    "        codepoint in (0x9, 0xA, 0xD) or\n",
    "        0xE000 <= codepoint <= 0xFFFD or\n",
    "        0x10000 <= codepoint <= 0x10FFFF\n",
    "        )\n",
    "cleaned_string = ''.join(c for c in decode_string if valid_xml_char_ordinal(c))"
   ]
  },
  {
   "cell_type": "code",
   "execution_count": 19,
   "metadata": {},
   "outputs": [
    {
     "data": {
      "text/plain": [
       "'Ovexus\\nL/CERTIFIED BY LEXUS\\n\\nPHILADELPHIA AREA\\nLEXUS DEALERS\\n\\nLEARN MORE\\n\\nOvexus\\nL/CERTIFIED BY LEXUS\\n\\nPHILADELPHIA AREA\\nLEXUS DEALERS\\n\\nLEARN MORE\\n\\n'"
      ]
     },
     "execution_count": 19,
     "metadata": {},
     "output_type": "execute_result"
    }
   ],
   "source": [
    "cleaned_string"
   ]
  },
  {
   "cell_type": "code",
   "execution_count": 43,
   "metadata": {},
   "outputs": [],
   "source": [
    "from PIL import Image\n",
    "from pytesseract import pytesseract\n",
    "import os\n",
    "import re\n",
    "import cv2\n",
    "path_to_tesseract = r\"/usr/bin/tesseract\"\n",
    "\n",
    "\n",
    "def get_frame_count(dir_path):\n",
    "    count = 0\n",
    "    for path in os.listdir(dir_path):\n",
    "        if os.path.isfile(os.path.join(dir_path, path)):\n",
    "            count += 1\n",
    "    return count\n",
    "\n",
    "def generate_text_from_image_series(image_dir):\n",
    "   \n",
    "    l=[]\n",
    "    count = get_frame_count(image_dir)\n",
    "    count = 2\n",
    "    \n",
    "    for i in range(count):\n",
    "        image_path= image_dir + 'frame'+ str(i) + '.jpg'\n",
    "        img = Image.open(image_path)\n",
    "        pytesseract.tesseract_cmd = path_to_tesseract\n",
    "        text = pytesseract.image_to_string(img)\n",
    "        text = text.replace('\\n', ' ')\n",
    "        if(len(text)!=0):\n",
    "            l.append(text)\n",
    "    sorted(set(l), key=l.index)\n",
    "\n",
    "    return l\n",
    "\n"
   ]
  },
  {
   "cell_type": "code",
   "execution_count": 44,
   "metadata": {},
   "outputs": [],
   "source": [
    "final = generate_text_from_image_series('../images/adunit-engagement-plus-ihop-evergreen-olo-drag-right-mpu/')"
   ]
  },
  {
   "cell_type": "code",
   "execution_count": 46,
   "metadata": {},
   "outputs": [
    {
     "name": "stdout",
     "output_type": "stream",
     "text": [
      "['IHOP ‘GO er, Forget something? Drag the plate  to come finish pancaking.  Dy y  ', 'IHOP ‘GO er, Forget something? Drag the plate  to come finish pancaking.  Dy y  ']\n"
     ]
    }
   ],
   "source": [
    "print(final)\n"
   ]
  },
  {
   "cell_type": "code",
   "execution_count": 34,
   "metadata": {},
   "outputs": [
    {
     "name": "stdout",
     "output_type": "stream",
     "text": [
      "yeah\n"
     ]
    }
   ],
   "source": []
  },
  {
   "cell_type": "code",
   "execution_count": 2,
   "metadata": {},
   "outputs": [
    {
     "name": "stdout",
     "output_type": "stream",
     "text": [
      "a 5\n",
      "b 0\n"
     ]
    }
   ],
   "source": [
    "df_dict = {'a': 5,'b':0}\n",
    "for i,k in df_dict.items():\n",
    "    print(i, k)"
   ]
  }
 ],
 "metadata": {
  "kernelspec": {
   "display_name": "Python 3.7.12 ('newenv')",
   "language": "python",
   "name": "python3"
  },
  "language_info": {
   "codemirror_mode": {
    "name": "ipython",
    "version": 3
   },
   "file_extension": ".py",
   "mimetype": "text/x-python",
   "name": "python",
   "nbconvert_exporter": "python",
   "pygments_lexer": "ipython3",
   "version": "3.7.12"
  },
  "vscode": {
   "interpreter": {
    "hash": "f5c95f6d498df283b42a04cb760829a6e6ab9154c751492a5bf0cfc55ea1de82"
   }
  }
 },
 "nbformat": 4,
 "nbformat_minor": 4
}
