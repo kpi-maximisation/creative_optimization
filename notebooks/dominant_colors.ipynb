{
 "cells": [
  {
   "cell_type": "code",
   "execution_count": 1,
   "metadata": {
    "pycharm": {
     "is_executing": true
    }
   },
   "outputs": [],
   "source": [
    "import numpy as np\n",
    "import pandas as pd\n",
    "import matplotlib.pyplot as plt\n",
    "import matplotlib.patches as patches\n",
    "import matplotlib.image as mpimg\n",
    "\n",
    "from PIL import Image\n",
    "from matplotlib.offsetbox import OffsetImage, AnnotationBbox"
   ]
  },
  {
   "cell_type": "markdown",
   "metadata": {},
   "source": [
    "#### Next, let’s import extcolors and rgb2hex libraries."
   ]
  },
  {
   "cell_type": "code",
   "execution_count": 2,
   "metadata": {
    "pycharm": {
     "is_executing": true
    }
   },
   "outputs": [],
   "source": [
    "import cv2\n",
    "import extcolors\n",
    "\n",
    "from colormap import rgb2hex"
   ]
  },
  {
   "cell_type": "markdown",
   "metadata": {},
   "source": [
    "#### Color extraction"
   ]
  },
  {
   "cell_type": "markdown",
   "metadata": {},
   "source": [
    "* tolerance: group colors to limit the output and give a better visual representation. Based on a scale from 0 to 100. Where 0 won’t group any color and 100 will group all colors into one.\n",
    "* limit: upper limit to the number of extracted colors presented in the output."
   ]
  },
  {
   "cell_type": "markdown",
   "metadata": {},
   "source": [
    "* We will first try to use tolerance=20 and limit the number of color codes output to 5 colors (limit=6)."
   ]
  },
  {
   "cell_type": "markdown",
   "metadata": {},
   "source": [
    "#### Try the above approach on the first image on out data folder"
   ]
  },
  {
   "cell_type": "code",
   "execution_count": 15,
   "metadata": {},
   "outputs": [
    {
     "data": {
      "text/plain": [
       "([((255, 255, 255), 26783),\n",
       "  ((137, 134, 134), 18275),\n",
       "  ((198, 196, 196), 2551),\n",
       "  ((237, 231, 196), 174)],\n",
       " 300000)"
      ]
     },
     "execution_count": 15,
     "metadata": {},
     "output_type": "execute_result"
    }
   ],
   "source": [
    "colors_x = extcolors.extract_from_path(\"../data/Challenge_Data/Assets/002dbbd85ef3fe6a2e7d0754fb9f9a1a/_preview.png\", tolerance = 20, limit = 5)\n",
    "colors_x"
   ]
  },
  {
   "cell_type": "markdown",
   "metadata": {},
   "source": [
    "#### Covert colors to pandas.Dataframe"
   ]
  },
  {
   "cell_type": "code",
   "execution_count": 3,
   "metadata": {},
   "outputs": [],
   "source": [
    "import sys,os\n",
    "sys.path.append(os.path.abspath(os.path.join('../scripts')))\n",
    "from feature_extraction_pipeline import *"
   ]
  },
  {
   "cell_type": "code",
   "execution_count": 17,
   "metadata": {},
   "outputs": [
    {
     "data": {
      "text/html": [
       "<div>\n",
       "<style scoped>\n",
       "    .dataframe tbody tr th:only-of-type {\n",
       "        vertical-align: middle;\n",
       "    }\n",
       "\n",
       "    .dataframe tbody tr th {\n",
       "        vertical-align: top;\n",
       "    }\n",
       "\n",
       "    .dataframe thead th {\n",
       "        text-align: right;\n",
       "    }\n",
       "</style>\n",
       "<table border=\"1\" class=\"dataframe\">\n",
       "  <thead>\n",
       "    <tr style=\"text-align: right;\">\n",
       "      <th></th>\n",
       "      <th>c_code</th>\n",
       "      <th>occurence</th>\n",
       "    </tr>\n",
       "  </thead>\n",
       "  <tbody>\n",
       "    <tr>\n",
       "      <th>0</th>\n",
       "      <td>#FFFFFF</td>\n",
       "      <td>26783</td>\n",
       "    </tr>\n",
       "    <tr>\n",
       "      <th>1</th>\n",
       "      <td>#898686</td>\n",
       "      <td>18275</td>\n",
       "    </tr>\n",
       "    <tr>\n",
       "      <th>2</th>\n",
       "      <td>#C6C4C4</td>\n",
       "      <td>2551</td>\n",
       "    </tr>\n",
       "  </tbody>\n",
       "</table>\n",
       "</div>"
      ],
      "text/plain": [
       "    c_code occurence\n",
       "0  #FFFFFF     26783\n",
       "1  #898686     18275\n",
       "2  #C6C4C4      2551"
      ]
     },
     "execution_count": 17,
     "metadata": {},
     "output_type": "execute_result"
    }
   ],
   "source": [
    "df_color = color_to_df(colors_x)\n",
    "df_color"
   ]
  },
  {
   "cell_type": "code",
   "execution_count": 18,
   "metadata": {},
   "outputs": [
    {
     "data": {
      "text/plain": [
       "([((255, 255, 255), 22135),\n",
       "  ((137, 134, 134), 13528),\n",
       "  ((212, 211, 211), 6954),\n",
       "  ((174, 172, 172), 1920),\n",
       "  ((101, 97, 97), 1167),\n",
       "  ((250, 245, 208), 1075),\n",
       "  ((187, 181, 154), 965),\n",
       "  ((155, 149, 127), 39)],\n",
       " 300000)"
      ]
     },
     "execution_count": 18,
     "metadata": {},
     "output_type": "execute_result"
    }
   ],
   "source": [
    "colors_x = extcolors.extract_from_path(\"../data/Challenge_Data/Assets/002dbbd85ef3fe6a2e7d0754fb9f9a1a/_preview.png\", tolerance = 12, limit = 12)\n",
    "colors_x"
   ]
  },
  {
   "cell_type": "code",
   "execution_count": 19,
   "metadata": {},
   "outputs": [
    {
     "data": {
      "text/html": [
       "<div>\n",
       "<style scoped>\n",
       "    .dataframe tbody tr th:only-of-type {\n",
       "        vertical-align: middle;\n",
       "    }\n",
       "\n",
       "    .dataframe tbody tr th {\n",
       "        vertical-align: top;\n",
       "    }\n",
       "\n",
       "    .dataframe thead th {\n",
       "        text-align: right;\n",
       "    }\n",
       "</style>\n",
       "<table border=\"1\" class=\"dataframe\">\n",
       "  <thead>\n",
       "    <tr style=\"text-align: right;\">\n",
       "      <th></th>\n",
       "      <th>c_code</th>\n",
       "      <th>occurence</th>\n",
       "    </tr>\n",
       "  </thead>\n",
       "  <tbody>\n",
       "    <tr>\n",
       "      <th>0</th>\n",
       "      <td>#FFFFFF</td>\n",
       "      <td>22135</td>\n",
       "    </tr>\n",
       "    <tr>\n",
       "      <th>1</th>\n",
       "      <td>#898686</td>\n",
       "      <td>13528</td>\n",
       "    </tr>\n",
       "    <tr>\n",
       "      <th>2</th>\n",
       "      <td>#D4D3D3</td>\n",
       "      <td>6954</td>\n",
       "    </tr>\n",
       "    <tr>\n",
       "      <th>3</th>\n",
       "      <td>#AEACAC</td>\n",
       "      <td>1920</td>\n",
       "    </tr>\n",
       "    <tr>\n",
       "      <th>4</th>\n",
       "      <td>#656161</td>\n",
       "      <td>1167</td>\n",
       "    </tr>\n",
       "    <tr>\n",
       "      <th>5</th>\n",
       "      <td>#FAF5D0</td>\n",
       "      <td>1075</td>\n",
       "    </tr>\n",
       "    <tr>\n",
       "      <th>6</th>\n",
       "      <td>#BBB59A</td>\n",
       "      <td>965</td>\n",
       "    </tr>\n",
       "  </tbody>\n",
       "</table>\n",
       "</div>"
      ],
      "text/plain": [
       "    c_code occurence\n",
       "0  #FFFFFF     22135\n",
       "1  #898686     13528\n",
       "2  #D4D3D3      6954\n",
       "3  #AEACAC      1920\n",
       "4  #656161      1167\n",
       "5  #FAF5D0      1075\n",
       "6  #BBB59A       965"
      ]
     },
     "execution_count": 19,
     "metadata": {},
     "output_type": "execute_result"
    }
   ],
   "source": [
    "df_color = color_to_df(colors_x)\n",
    "df_color"
   ]
  },
  {
   "cell_type": "markdown",
   "metadata": {},
   "source": [
    "* Now we observed and compared between the above two options, we will go with the tolerance=12 and limit the number of color codes output to 10 colors (limit=12)."
   ]
  },
  {
   "cell_type": "markdown",
   "metadata": {},
   "source": [
    "#### Loop through images on each directory and create a feature extraction csv file for each asset"
   ]
  },
  {
   "cell_type": "code",
   "execution_count": 4,
   "metadata": {},
   "outputs": [
    {
     "name": "stdout",
     "output_type": "stream",
     "text": [
      "29\n",
      "{'#010101': '502997', '#5D0600': '85037', '#5D0200': '73722', '#E42000': '66394', '#FE5700': '58892'}\n",
      "(1, 11)\n",
      "2\n",
      "[]\n"
     ]
    }
   ],
   "source": [
    "rootdir = '../data/Challenge_Data/Assets/'\n",
    "max_dir=10\n",
    "dir_count=0\n",
    "\n",
    "max_loop=1\n",
    "loop=0\n",
    "p = []\n",
    "for subdir, dirs, files in os.walk(rootdir):\n",
    "    # print(subdir)\n",
    "    # print(dirs)\n",
    "    # print(files)\n",
    "    loop+=1\n",
    "    # p.append(len(dirs))\n",
    "    if loop > max_loop:\n",
    "        break # In order just to complete only one walkthrough\n",
    "    for dir in dirs:\n",
    "        dir_count+=1\n",
    "        if dir_count > max_dir:\n",
    "            break\n",
    "        dir_path = os.path.join(subdir, dir)\n",
    "        color_dict = {}\n",
    "        for _,d, contents in os.walk(dir_path):\n",
    "            print(len(contents))\n",
    "            # p.append(contents)\n",
    "            for content in contents:\n",
    "                # Loop through all the contents \n",
    "                # For our case (to get the dominant colors we will just loop through the images files (.png files))\n",
    "                if (str(content))[-3:] == \"png\":\n",
    "                    # p.append(content)\n",
    "                    colors_x = extcolors.extract_from_path(f\"{dir_path}/{content}\", tolerance = 12, limit = 12)\n",
    "                    df_color = color_to_df(colors_x)\n",
    "                    color_dict[content] = {\n",
    "                        'colors':[],\n",
    "                        'values':[]\n",
    "                    }\n",
    "                    # print(df_color.shape)\n",
    "                    for i,row in df_color.iterrows():\n",
    "                        if i >=5:\n",
    "                            break\n",
    "                        color_dict[content]['colors'].append(row['c_code'])\n",
    "                        color_dict[content]['values'].append(row['occurence'])\n",
    "                    # print(colors_x)\n",
    "                    # break\n",
    "                # print(content)\n",
    "            break\n",
    "        # print(color_dict)\n",
    "        # print(os.path.join(subdir, dir))\n",
    "        final_dict = return_sorted_dominant_colors(color_dict) #We grab the top 5 dominant color for that particular creative ad.\n",
    "        print(final_dict)\n",
    "        df = convert_color_dict_to_pandas_df(dir,final_dict) \n",
    "        \"\"\"\n",
    "        for game_id = ed3071a667a11cc56e88ae0489bfe6aa\n",
    "        {\n",
    "            '#010101': '502997',\n",
    "            '#5D0600': '85037',\n",
    "            '#5D0200': '73722', \n",
    "            '#E42000': '66394', \n",
    "            '#FE5700': '58892'\n",
    "        } -->> Top 5 dominant colors\n",
    "        \n",
    "        {\n",
    "            'color_1': '#010101', \n",
    "            'color_1_occurance': '502997', \n",
    "            'color_2': '#5D0600', \n",
    "            'color_2_occurance': '85037', \n",
    "            'color_3': '#5D0200', \n",
    "            'color_3_occurance': '73722', \n",
    "            'color_4': '#E42000', \n",
    "            'color_4_occurance': '66394', \n",
    "            'color_5': '#FE5700', 'color_5_occurance': '58892', \n",
    "            'game_id': 'ed3071a667a11cc56e88ae0489bfe6aa'\n",
    "        }-->> Top 5 dominant colors to be converted to pandas dataframe\n",
    "\n",
    "         We the convert the the top 5 dominant colors in to pandas dataframe for each game_id\n",
    "         *****FINAL DATAFRAME CONTENT******\n",
    "         ,color_1,color_1_occurance,color_2,color_2_occurance,color_3,color_3_occurance,color_4,color_4_occurance,color_5,color_5_occurance,game_id\n",
    "        0,#010101,502997,#5D0600,85037,#5D0200,73722,#E42000,66394,#FE5700,58892,ed3071a667a11cc56e88ae0489bfe6aa\n",
    "        \"\"\"\n",
    "        df.to_csv(f\"{dir_path}/dominant_color.csv\")\n",
    "        print(df.shape)\n",
    "        break\n",
    "print(loop)\n",
    "print(p)"
   ]
  },
  {
   "cell_type": "code",
   "execution_count": null,
   "metadata": {},
   "outputs": [],
   "source": []
  },
  {
   "cell_type": "code",
   "execution_count": null,
   "metadata": {},
   "outputs": [],
   "source": []
  }
 ],
 "metadata": {
  "kernelspec": {
   "display_name": "Python 3.10.6 ('env_opencv')",
   "language": "python",
   "name": "python3"
  },
  "language_info": {
   "codemirror_mode": {
    "name": "ipython",
    "version": 3
   },
   "file_extension": ".py",
   "mimetype": "text/x-python",
   "name": "python",
   "nbconvert_exporter": "python",
   "pygments_lexer": "ipython3",
   "version": "3.10.6"
  },
  "orig_nbformat": 4,
  "vscode": {
   "interpreter": {
    "hash": "61f95999751969a79b35071ec264130710cc3808dfaeee3c4aff2e5d0b551592"
   }
  }
 },
 "nbformat": 4,
 "nbformat_minor": 2
}
