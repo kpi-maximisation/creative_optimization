{
 "cells": [
  {
   "cell_type": "code",
   "execution_count": 3,
   "metadata": {},
   "outputs": [],
   "source": [
    "import pandas as pd\n",
    "import numpy as np\n",
    "import matplotlib.pyplot as plt\n",
    "import sklearn\n",
    "from sklearn.preprocessing import LabelEncoder\n",
    "import statistics\n",
    "import warnings\n",
    "import seaborn as sns\n",
    "import random as rd"
   ]
  },
  {
   "cell_type": "code",
   "execution_count": null,
   "metadata": {},
   "outputs": [],
   "source": [
    "import warnings\n",
    "warnings.filterwarnings('ignore')"
   ]
  },
  {
   "cell_type": "code",
   "execution_count": 4,
   "metadata": {},
   "outputs": [
    {
     "name": "stdout",
     "output_type": "stream",
     "text": [
      "<class 'pandas.core.frame.DataFrame'>\n",
      "RangeIndex: 905 entries, 0 to 904\n",
      "Data columns (total 27 columns):\n",
      " #   Column             Non-Null Count  Dtype  \n",
      "---  ------             --------------  -----  \n",
      " 0   Unnamed: 0.1       905 non-null    int64  \n",
      " 1   Unnamed: 0_x       905 non-null    int64  \n",
      " 2   game_id            905 non-null    object \n",
      " 3   cta_start_x        689 non-null    float64\n",
      " 4   cta_start_y        689 non-null    float64\n",
      " 5   cta_end_x          689 non-null    float64\n",
      " 6   cta_end_y          689 non-null    float64\n",
      " 7   cta_height         689 non-null    float64\n",
      " 8   cta_width          689 non-null    float64\n",
      " 9   Unnamed: 0_y       905 non-null    int64  \n",
      " 10  color_1            900 non-null    object \n",
      " 11  color_1_occurance  900 non-null    float64\n",
      " 12  color_2            898 non-null    object \n",
      " 13  color_2_occurance  898 non-null    float64\n",
      " 14  color_3            898 non-null    object \n",
      " 15  color_3_occurance  898 non-null    float64\n",
      " 16  color_4            897 non-null    object \n",
      " 17  color_4_occurance  897 non-null    float64\n",
      " 18  color_5            894 non-null    object \n",
      " 19  color_5_occurance  894 non-null    float64\n",
      " 20  Unnamed: 0         905 non-null    int64  \n",
      " 21  logo_start_x       342 non-null    float64\n",
      " 22  logo_start_y       342 non-null    float64\n",
      " 23  logo_end_x         342 non-null    float64\n",
      " 24  logo_end_y         342 non-null    float64\n",
      " 25  logo_height        342 non-null    float64\n",
      " 26  logo_width         342 non-null    float64\n",
      "dtypes: float64(17), int64(4), object(6)\n",
      "memory usage: 191.0+ KB\n"
     ]
    }
   ],
   "source": [
    "all_merged_df = pd.read_csv(\"/home/all_data/all_merged.csv\")\n",
    "all_merged_df.info()"
   ]
  },
  {
   "cell_type": "code",
   "execution_count": 5,
   "metadata": {},
   "outputs": [
    {
     "data": {
      "text/plain": [
       "['Unnamed: 0.1',\n",
       " 'Unnamed: 0_x',\n",
       " 'game_id',\n",
       " 'cta_start_x',\n",
       " 'cta_start_y',\n",
       " 'cta_end_x',\n",
       " 'cta_end_y',\n",
       " 'cta_height',\n",
       " 'cta_width',\n",
       " 'Unnamed: 0_y',\n",
       " 'color_1',\n",
       " 'color_1_occurance',\n",
       " 'color_2',\n",
       " 'color_2_occurance',\n",
       " 'color_3',\n",
       " 'color_3_occurance',\n",
       " 'color_4',\n",
       " 'color_4_occurance',\n",
       " 'color_5',\n",
       " 'color_5_occurance',\n",
       " 'Unnamed: 0',\n",
       " 'logo_start_x',\n",
       " 'logo_start_y',\n",
       " 'logo_end_x',\n",
       " 'logo_end_y',\n",
       " 'logo_height',\n",
       " 'logo_width']"
      ]
     },
     "execution_count": 5,
     "metadata": {},
     "output_type": "execute_result"
    }
   ],
   "source": [
    "cols = all_merged_df.columns.tolist()\n",
    "cols"
   ]
  },
  {
   "cell_type": "code",
   "execution_count": 7,
   "metadata": {},
   "outputs": [],
   "source": [
    "cols_drop = ['Unnamed: 0', 'Unnamed: 0_y', 'Unnamed: 0.1','Unnamed: 0_x'] \n",
    "all_merged_df.drop(cols_drop, inplace=True, axis=1)"
   ]
  },
  {
   "cell_type": "code",
   "execution_count": 8,
   "metadata": {},
   "outputs": [
    {
     "name": "stdout",
     "output_type": "stream",
     "text": [
      "<class 'pandas.core.frame.DataFrame'>\n",
      "RangeIndex: 905 entries, 0 to 904\n",
      "Data columns (total 23 columns):\n",
      " #   Column             Non-Null Count  Dtype  \n",
      "---  ------             --------------  -----  \n",
      " 0   game_id            905 non-null    object \n",
      " 1   cta_start_x        689 non-null    float64\n",
      " 2   cta_start_y        689 non-null    float64\n",
      " 3   cta_end_x          689 non-null    float64\n",
      " 4   cta_end_y          689 non-null    float64\n",
      " 5   cta_height         689 non-null    float64\n",
      " 6   cta_width          689 non-null    float64\n",
      " 7   color_1            900 non-null    object \n",
      " 8   color_1_occurance  900 non-null    float64\n",
      " 9   color_2            898 non-null    object \n",
      " 10  color_2_occurance  898 non-null    float64\n",
      " 11  color_3            898 non-null    object \n",
      " 12  color_3_occurance  898 non-null    float64\n",
      " 13  color_4            897 non-null    object \n",
      " 14  color_4_occurance  897 non-null    float64\n",
      " 15  color_5            894 non-null    object \n",
      " 16  color_5_occurance  894 non-null    float64\n",
      " 17  logo_start_x       342 non-null    float64\n",
      " 18  logo_start_y       342 non-null    float64\n",
      " 19  logo_end_x         342 non-null    float64\n",
      " 20  logo_end_y         342 non-null    float64\n",
      " 21  logo_height        342 non-null    float64\n",
      " 22  logo_width         342 non-null    float64\n",
      "dtypes: float64(17), object(6)\n",
      "memory usage: 162.7+ KB\n"
     ]
    }
   ],
   "source": [
    "all_merged_df.info()"
   ]
  },
  {
   "cell_type": "markdown",
   "metadata": {},
   "source": [
    "#### Handle missing values for CTA position"
   ]
  },
  {
   "cell_type": "markdown",
   "metadata": {},
   "source": [
    "* Using forward and backward filling"
   ]
  },
  {
   "cell_type": "code",
   "execution_count": 23,
   "metadata": {},
   "outputs": [
    {
     "name": "stdout",
     "output_type": "stream",
     "text": [
      "<class 'pandas.core.frame.DataFrame'>\n",
      "RangeIndex: 905 entries, 0 to 904\n",
      "Data columns (total 6 columns):\n",
      " #   Column       Non-Null Count  Dtype  \n",
      "---  ------       --------------  -----  \n",
      " 0   cta_start_x  905 non-null    float64\n",
      " 1   cta_start_y  905 non-null    float64\n",
      " 2   cta_end_x    905 non-null    float64\n",
      " 3   cta_end_y    905 non-null    float64\n",
      " 4   cta_height   905 non-null    float64\n",
      " 5   cta_width    905 non-null    float64\n",
      "dtypes: float64(6)\n",
      "memory usage: 42.5 KB\n"
     ]
    }
   ],
   "source": [
    "df_cta = all_merged_df[['cta_start_x', 'cta_start_y', 'cta_end_x','cta_end_y','cta_height','cta_width']].ffill().bfill()\n",
    "df_cta.info()"
   ]
  },
  {
   "cell_type": "code",
   "execution_count": 25,
   "metadata": {},
   "outputs": [
    {
     "data": {
      "text/plain": [
       "cta_start_x    0\n",
       "cta_start_y    0\n",
       "cta_end_x      0\n",
       "cta_end_y      0\n",
       "cta_height     0\n",
       "cta_width      0\n",
       "dtype: int64"
      ]
     },
     "execution_count": 25,
     "metadata": {},
     "output_type": "execute_result"
    }
   ],
   "source": [
    "df_cta.isna().sum()"
   ]
  },
  {
   "cell_type": "code",
   "execution_count": 28,
   "metadata": {},
   "outputs": [],
   "source": [
    "all_merged_df['cta_start_x'] = df_cta['cta_start_x']\n",
    "all_merged_df['cta_start_y'] = df_cta['cta_start_y']\n",
    "all_merged_df['cta_end_x'] = df_cta['cta_end_x']\n",
    "all_merged_df['cta_end_y'] = df_cta['cta_end_y']\n",
    "all_merged_df['cta_height'] = df_cta['cta_height']\n",
    "all_merged_df['cta_width'] = df_cta['cta_width']"
   ]
  },
  {
   "cell_type": "code",
   "execution_count": 29,
   "metadata": {},
   "outputs": [
    {
     "data": {
      "text/plain": [
       "cta_start_x    0\n",
       "cta_start_y    0\n",
       "cta_end_x      0\n",
       "cta_end_y      0\n",
       "cta_height     0\n",
       "cta_width      0\n",
       "dtype: int64"
      ]
     },
     "execution_count": 29,
     "metadata": {},
     "output_type": "execute_result"
    }
   ],
   "source": [
    "all_merged_df[['cta_start_x', 'cta_start_y', 'cta_end_x','cta_end_y','cta_height','cta_width']].isna().sum()"
   ]
  },
  {
   "cell_type": "markdown",
   "metadata": {},
   "source": [
    "#### Visulaize location and area of CTA button"
   ]
  },
  {
   "cell_type": "code",
   "execution_count": 31,
   "metadata": {},
   "outputs": [
    {
     "data": {
      "image/png": "[encoded data removed]",
      "text/plain": [
       "<Figure size 640x480 with 1 Axes>"
      ]
     },
     "metadata": {},
     "output_type": "display_data"
    }
   ],
   "source": [
    "sns.set(style='whitegrid')\n",
    "sns.scatterplot(x=\"cta_start_x\",\n",
    "                    y=\"cta_start_y\",\n",
    "                    data=df_cta);"
   ]
  },
  {
   "cell_type": "code",
   "execution_count": 58,
   "metadata": {},
   "outputs": [],
   "source": [
    "def calc_area(df):\n",
    "    area = []\n",
    "    for i,row in df.iterrows():\n",
    "        area.append(row['cta_width']*row['cta_height'])\n",
    "    return area"
   ]
  },
  {
   "cell_type": "code",
   "execution_count": 37,
   "metadata": {},
   "outputs": [
    {
     "data": {
      "text/plain": [
       "count       905.000000\n",
       "mean      40292.538122\n",
       "std       94729.961811\n",
       "min        1064.000000\n",
       "25%       11700.000000\n",
       "50%       17388.000000\n",
       "75%       22500.000000\n",
       "max      540000.000000\n",
       "Name: area, dtype: float64"
      ]
     },
     "execution_count": 37,
     "metadata": {},
     "output_type": "execute_result"
    }
   ],
   "source": [
    "df_cta['area'] = calc_area(df_cta)\n",
    "df_cta['area'].describe()"
   ]
  },
  {
   "cell_type": "markdown",
   "metadata": {},
   "source": [
    "#### Distribution of CTA Area"
   ]
  },
  {
   "cell_type": "code",
   "execution_count": 38,
   "metadata": {},
   "outputs": [
    {
     "data": {
      "text/plain": [
       "<AxesSubplot: >"
      ]
     },
     "execution_count": 38,
     "metadata": {},
     "output_type": "execute_result"
    },
    {
     "data": {
      "image/png": "[encoded data removed]",
      "text/plain": [
       "<Figure size 640x480 with 1 Axes>"
      ]
     },
     "metadata": {},
     "output_type": "display_data"
    }
   ],
   "source": [
    "df_cta['area'].describe().plot(kind='bar')"
   ]
  },
  {
   "cell_type": "code",
   "execution_count": 39,
   "metadata": {},
   "outputs": [
    {
     "data": {
      "text/plain": [
       "19200.0     130\n",
       "11700.0     124\n",
       "46436.0      43\n",
       "6052.0       36\n",
       "540000.0     22\n",
       "300000.0     18\n",
       "19040.0      11\n",
       "13200.0      10\n",
       "20274.0       8\n",
       "10659.0       8\n",
       "Name: area, dtype: int64"
      ]
     },
     "execution_count": 39,
     "metadata": {},
     "output_type": "execute_result"
    }
   ],
   "source": [
    "df_cta['area'].value_counts().head(10)"
   ]
  },
  {
   "cell_type": "code",
   "execution_count": 41,
   "metadata": {},
   "outputs": [
    {
     "data": {
      "text/plain": [
       "0      540000.0\n",
       "622    540000.0\n",
       "81     540000.0\n",
       "732    540000.0\n",
       "155    540000.0\n",
       "         ...   \n",
       "240      4046.0\n",
       "239      4046.0\n",
       "481      3979.0\n",
       "280      1376.0\n",
       "270      1064.0\n",
       "Name: area, Length: 905, dtype: float64"
      ]
     },
     "execution_count": 41,
     "metadata": {},
     "output_type": "execute_result"
    }
   ],
   "source": [
    "df_cta_area_sorted = df_cta.sort_values(by=['area'],ascending=False)\n",
    "df_cta_area_sorted['area']"
   ]
  },
  {
   "cell_type": "code",
   "execution_count": 45,
   "metadata": {},
   "outputs": [
    {
     "name": "stdout",
     "output_type": "stream",
     "text": [
      "<class 'pandas.core.frame.DataFrame'>\n",
      "RangeIndex: 905 entries, 0 to 904\n",
      "Data columns (total 23 columns):\n",
      " #   Column             Non-Null Count  Dtype  \n",
      "---  ------             --------------  -----  \n",
      " 0   game_id            905 non-null    object \n",
      " 1   cta_start_x        905 non-null    float64\n",
      " 2   cta_start_y        905 non-null    float64\n",
      " 3   cta_end_x          905 non-null    float64\n",
      " 4   cta_end_y          905 non-null    float64\n",
      " 5   cta_height         905 non-null    float64\n",
      " 6   cta_width          905 non-null    float64\n",
      " 7   color_1            900 non-null    object \n",
      " 8   color_1_occurance  900 non-null    float64\n",
      " 9   color_2            898 non-null    object \n",
      " 10  color_2_occurance  898 non-null    float64\n",
      " 11  color_3            898 non-null    object \n",
      " 12  color_3_occurance  898 non-null    float64\n",
      " 13  color_4            897 non-null    object \n",
      " 14  color_4_occurance  897 non-null    float64\n",
      " 15  color_5            894 non-null    object \n",
      " 16  color_5_occurance  894 non-null    float64\n",
      " 17  logo_start_x       342 non-null    float64\n",
      " 18  logo_start_y       342 non-null    float64\n",
      " 19  logo_end_x         342 non-null    float64\n",
      " 20  logo_end_y         342 non-null    float64\n",
      " 21  logo_height        342 non-null    float64\n",
      " 22  logo_width         342 non-null    float64\n",
      "dtypes: float64(17), object(6)\n",
      "memory usage: 162.7+ KB\n"
     ]
    }
   ],
   "source": [
    "all_merged_df.info()"
   ]
  },
  {
   "cell_type": "code",
   "execution_count": 46,
   "metadata": {},
   "outputs": [],
   "source": [
    "all_merged_df.to_csv(\"/home/all_data/all_merged_cta_cleaned.csv\")"
   ]
  }
 ],
 "metadata": {
  "kernelspec": {
   "display_name": "Python 3.10.6 ('env_opencv')",
   "language": "python",
   "name": "python3"
  },
  "language_info": {
   "codemirror_mode": {
    "name": "ipython",
    "version": 3
   },
   "file_extension": ".py",
   "mimetype": "text/x-python",
   "name": "python",
   "nbconvert_exporter": "python",
   "pygments_lexer": "ipython3",
   "version": "3.10.6"
  },
  "orig_nbformat": 4,
  "vscode": {
   "interpreter": {
    "hash": "61f95999751969a79b35071ec264130710cc3808dfaeee3c4aff2e5d0b551592"
   }
  }
 },
 "nbformat": 4,
 "nbformat_minor": 2
}
