{
 "cells": [
  {
   "cell_type": "code",
   "execution_count": 5,
   "metadata": {},
   "outputs": [],
   "source": [
    "import cv2\n",
    "import sys,os\n",
    "sys.path.append(os.path.abspath(os.path.join('../scripts')))\n",
    "from feature_extraction_pipeline import *"
   ]
  },
  {
   "cell_type": "markdown",
   "metadata": {},
   "source": [
    "#### Loop through all folders(`game_id`) and locate the CTA button from the end_frame captured from the video"
   ]
  },
  {
   "cell_type": "code",
   "execution_count": null,
   "metadata": {},
   "outputs": [],
   "source": [
    "import pandas as pd\n",
    "rootdir = '../data/Challenge_Data/Assets/'\n",
    "max_dir=10\n",
    "dir_count=0\n",
    "cta_counter = 0\n",
    "max_loop=1\n",
    "loop=0\n",
    "no_cta_game_ids = []\n",

    "for subdir, dirs, files in os.walk(rootdir):\n",
    "    loop+=1\n",
    "    if loop > max_loop:\n",
    "        break # In order just to complete only one walkthrough\n",
    "    for dir in dirs:\n",
    "        # dir_count+=1\n",
    "        # if dir_count > max_dir:\n",
    "        #     break\n",
    "        dir_path = os.path.join(subdir, dir)\n",
    "        # dir_path = \"../data/Challenge_Data/Assets/942616462420cb3890d00c65fc644e73\"\n",
    "        cta_loc_dict = {}\n",
    "        for _,d, contents in os.walk(dir_path):\n",
    "            # print(len(contents))\n",

    "            # p.append(contents)\n",
    "            cta_file_name = \"\"\n",
    "            for content in contents:\n",
    "                # Loop through all the contents \n",
    "                if (str(content))[-3:] == \"png\" or (str(content))[-3:] == \"jpg\":\n",
    "                    # check if the current content is cta file\n",
    "                    content_name = str(content).split(\".\")\n",
    "                    if content_name[0][-3:] == \"cta\":\n",
    "                        cta_file_name = content\n",
    "                        break\n",
    "                    else:\n",
    "                        continue\n",
    "                    # p.append(content)\n",
    "                    # print(colors_x)\n",
    "                    # break\n",
    "                # print(content)\n",
    "            end_frame_dir = \"../data/end_beg_frames/end_frame/\"\n",
    "            for _, _, end_frame_files in os.walk(end_frame_dir):\n",
    "                # print(f\"LEN:{len(end_frame_files)}\")\n",
    "                for f in end_frame_files:\n",
    "                    if dir in str(f):\n",
    "                        if cta_file_name!=\"\":\n",
    "                            try:\n",
    "                                vals = locate_image_on_image(f\"{dir_path}/{cta_file_name}\", f\"{end_frame_dir}/{f}\")\n",

    "                                cta_loc_dict = {\n",
    "                                    \"game_id\":dir,\n",
    "                                    \"cta_start_x\":vals[2][0],\n",
    "                                    \"cta_start_y\":vals[2][1],\n",
    "                                    \"cta_end_x\":vals[3][0],\n",
    "                                    \"cta_end_y\":vals[3][1],\n",
    "                                    \"cta_height\":vals[0],\n",
    "                                    \"cta_width\":vals[1]\n",
    "                                }\n",
    "                                # print(\"$$$$$$$$\")\n",
    "                                # print(vals)\n",
    "                            except Exception as e:\n",
    "                                continue\n",
    "                                print(str(e))\n",
    "                        break\n",
    "                    else:\n",
    "                        continue\n",
    "                break\n",
    "            if cta_loc_dict:\n",
    "                break\n",
  
    "            for content in contents:\n",
    "                if (str(content))[-3:] == \"png\" or (str(content))[-3:] == \"jpg\":\n",
    "                    # print(content)\n",
    "                    if \"endframe\" in str(content):\n",
    "                        # print(\"FOUND\")\n",
    "                        if cta_file_name!=\"\":\n",
    "                            # print(\"FILENAME\")\n",
    "                            # print(cta_file_name)\n",
    "                            # print(content)\n",
    "                            try:\n",
    "                                vals = locate_image_on_image(f\"{dir_path}/{cta_file_name}\", f\"{dir_path}/{content}\")\n",
    "                                if vals is not None:\n",
    "                                    cta_loc_dict = {\n",
    "                                        \"game_id\":dir,\n",
    "                                        \"cta_start_x\":vals[2][0],\n",
    "                                        \"cta_start_y\":vals[2][1],\n",
    "                                        \"cta_end_x\":vals[3][0],\n",
    "                                        \"cta_end_y\":vals[3][1],\n",
    "                                        \"cta_height\":vals[0],\n",
    "                                        \"cta_width\":vals[1]\n",
    "                                    }\n",
    "                                    break\n",
    "                                # print(\"$$$$$$$$\")\n",
    "                                # print(vals)\n",
    "                            except Exception as e:\n",
    "                                print(\"HEREEE\")\n",
    "                                continue\n",
    "                                print(str(e))\n",
    "                        else: break\n",
    "                    # else:\n",
    "                    #     print(\"DM\")\n",
    "            break\n",
    "        \n",
    "        # print(dir_path)\n",
    "        # print(cta_loc_dict)\n",
    "        if cta_loc_dict:\n",
    "            cta_counter+=1\n",
    "            # print(\"SAVING\")\n",
    "            df = pd.DataFrame(\n",
    "                cta_loc_dict, index=[0]\n",
    "            )\n",
    "            # print(df.shape)   \n",
    "            df.to_csv(f\"{dir_path}/cta_position.csv\")\n",
    "        # print(df.shape)\n",
    "        else:\n",
    "            no_cta_game_ids.append(dir)\n",
    "            df = pd.DataFrame({\n",
    "                \"game_id\":dir,\n",
    "                \"cta_start_x\":\"\",\n",
    "                \"cta_start_y\":\"\",\n",
    "                \"cta_end_x\":\"\",\n",
    "                \"cta_end_y\":\"\",\n",
    "                \"cta_height\":\"\",\n",
    "                \"cta_width\":\"\"\n",
    "            },index=[0])\n",
    "            df.to_csv(f\"{dir_path}/cta_position.csv\")\n",
    "        # break\n",
    "print(loop)\n",
    "print(cta_counter)\n",
    "print(len(no_cta_game_ids))"
   ]
  },
  {
   "cell_type": "code",
   "execution_count": 14,
   "metadata": {},
   "outputs": [],
   "source": [
    "df = pd.DataFrame.from_dict({\"game_id\":no_cta_game_ids}).to_csv(\"../data/no_cta.csv\")"

   ]
  },
  {
   "cell_type": "code",
   "execution_count": null,
   "metadata": {},
   "outputs": [],
   "source": []
  }
 ],
 "metadata": {
  "kernelspec": {
   "display_name": "Python 3.10.6 ('env_opencv')",
   "language": "python",
   "name": "python3"
  },
  "language_info": {
   "codemirror_mode": {
    "name": "ipython",
    "version": 3
   },
   "file_extension": ".py",
   "mimetype": "text/x-python",
   "name": "python",
   "nbconvert_exporter": "python",
   "pygments_lexer": "ipython3",
   "version": "3.10.6"
  },
  "orig_nbformat": 4,
  "vscode": {
   "interpreter": {

    "hash": "61f95999751969a79b35071ec264130710cc3808dfaeee3c4aff2e5d0b551592"

   }
  }
 },
 "nbformat": 4,
 "nbformat_minor": 2
}
