{
 "cells": [
  {
   "cell_type": "code",
   "execution_count": 1,
   "metadata": {},
   "outputs": [],
   "source": [
    "import cv2\n",
    "import sys,os\n",
    "sys.path.append(os.path.abspath(os.path.join('../scripts')))\n",
    "from feature_extraction_pipeline import *"
   ]
  },
  {
   "cell_type": "markdown",
   "metadata": {},
   "source": [
    "#### Loop through all folders(`game_id`) and locate the CTA button from the end_frame captured from the video"
   ]
  },
  {
   "cell_type": "code",
   "execution_count": 21,
   "metadata": {},
   "outputs": [
    {
     "name": "stdout",
     "output_type": "stream",
     "text": [
      "14\n",
      "FOUND\n",
      "FILENAME\n",
      "cta.png\n",
      "endframe.png\n",
      "$$$$$$$$\n",
      "(46, 196, (81, 169), (277, 215))\n",
      "../data/Challenge_Data/Assets/942616462420cb3890d00c65fc644e73\n",
      "{'game_id': 'adunit-doritos-niknaks-v1-mob', 'cta_start_x': 81, 'cta_start_y': 169, 'cta_end_x': 277, 'cta_end_y': 215, 'cta_height': 46, 'cta_widht': 196}\n",
      "SAVING\n",
      "(1, 7)\n",
      "2\n",
      "[]\n"
     ]
    }
   ],
   "source": [
    "import pandas as pd\n",
    "rootdir = '../data/Challenge_Data/Assets/'\n",
    "max_dir=10\n",
    "dir_count=0\n",
    "\n",
    "max_loop=1\n",
    "loop=0\n",
    "p = []\n",
    "for subdir, dirs, files in os.walk(rootdir):\n",
    "    loop+=1\n",
    "    if loop > max_loop:\n",
    "        break # In order just to complete only one walkthrough\n",
    "    for dir in dirs:\n",
    "        dir_count+=1\n",
    "        if dir_count > max_dir:\n",
    "            break\n",
    "        # dir_path = os.path.join(subdir, dir)\n",
    "        dir_path = \"../data/Challenge_Data/Assets/942616462420cb3890d00c65fc644e73\"\n",
    "        cta_loc_dict = {}\n",
    "        for _,d, contents in os.walk(dir_path):\n",
    "            print(len(contents))\n",
    "            # p.append(contents)\n",
    "            cta_file_name = \"\"\n",
    "            for content in contents:\n",
    "                # Loop through all the contents \n",
    "                if (str(content))[-3:] == \"png\" or (str(content))[-3:] == \"jpg\":\n",
    "                    # check if the current content is cta file\n",
    "                    content_name = str(content).split(\".\")\n",
    "                    if content_name[0][-3:] == \"cta\":\n",
    "                        cta_file_name = content\n",
    "                        break\n",
    "                    else:\n",
    "                        continue\n",
    "                    # p.append(content)\n",
    "                    # print(colors_x)\n",
    "                    # break\n",
    "                # print(content)\n",
    "            \n",
    "            for content in contents:\n",
    "                if (str(content))[-3:] == \"png\" or (str(content))[-3:] == \"jpg\":\n",
    "                    # print(content)\n",
    "                    if \"endframe\" in str(content):\n",
    "                        print(\"FOUND\")\n",
    "                        if cta_file_name:\n",
    "                            print(\"FILENAME\")\n",
    "                            print(cta_file_name)\n",
    "                            print(content)\n",
    "                            try:\n",
    "                                vals = locate_image_on_image(f\"{dir_path}/{cta_file_name}\", f\"{dir_path}/{content}\")\n",
    "                                cta_loc_dict = {\n",
    "                                    \"game_id\":dir,\n",
    "                                    \"cta_start_x\":vals[2][0],\n",
    "                                    \"cta_start_y\":vals[2][1],\n",
    "                                    \"cta_end_x\":vals[3][0],\n",
    "                                    \"cta_end_y\":vals[3][1],\n",
    "                                    \"cta_height\":vals[0],\n",
    "                                    \"cta_widht\":vals[1]\n",
    "                                }\n",
    "                                print(\"$$$$$$$$\")\n",
    "                                print(vals)\n",
    "                            except Exception as e:\n",
    "                                print(str(e))\n",
    "                        break\n",
    "                    # else:\n",
    "                    #     print(\"DM\")\n",
    "            break\n",
    "        \n",
    "        print(dir_path)\n",
    "        print(cta_loc_dict)\n",
    "        if cta_loc_dict:\n",
    "            print(\"SAVING\")\n",
    "            df = pd.DataFrame(\n",
    "                cta_loc_dict, index=[0]\n",
    "            )\n",
    "            print(df.shape)   \n",
    "            df.to_csv(f\"{dir_path}/cta_position.csv\")\n",
    "        # print(df.shape)\n",
    "        break\n",
    "print(loop)\n",
    "print(p)"
   ]
  },
  {
   "cell_type": "code",
   "execution_count": null,
   "metadata": {},
   "outputs": [],
   "source": []
  }
 ],
 "metadata": {
  "kernelspec": {
   "display_name": "Python 3.10.6 ('env_opencv')",
   "language": "python",
   "name": "python3"
  },
  "language_info": {
   "codemirror_mode": {
    "name": "ipython",
    "version": 3
   },
   "file_extension": ".py",
   "mimetype": "text/x-python",
   "name": "python",
   "nbconvert_exporter": "python",
   "pygments_lexer": "ipython3",
   "version": "3.10.6"
  },
  "orig_nbformat": 4,
  "vscode": {
   "interpreter": {
    "hash": "fe2f7ff2d4c7a8da01abd7a70e9730f8b430444ce8cf429c0cd7c44bec68e8c2"
   }
  }
 },
 "nbformat": 4,
 "nbformat_minor": 2
}
