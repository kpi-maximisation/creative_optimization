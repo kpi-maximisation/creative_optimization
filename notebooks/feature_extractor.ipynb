{
 "cells": [
  {
   "cell_type": "markdown",
   "metadata": {},
   "source": [
    "# Feature Extraction"
   ]
  },
  {
   "cell_type": "markdown",
   "metadata": {},
   "source": [
    "## Import libraries"
   ]
  },
  {
   "cell_type": "code",
   "execution_count": 31,
   "metadata": {},
   "outputs": [],
   "source": [
    "from typing import Tuple\n",
    "from time import sleep\n",
    "import time\n",
    "from selenium import webdriver \n",
    "from selenium.webdriver.chrome.options import Options\n",
    "from selenium.webdriver.support.ui import WebDriverWait\n",
    "from selenium.webdriver.common.by import By\n",
    "from selenium.common.exceptions import TimeoutException, NoSuchElementException\n",
    "from selenium.webdriver.common.desired_capabilities import DesiredCapabilities\n",
    "from os import path\n",
    "from subprocess import Popen, call\n",
    "import subprocess\n",
    "import pyautogui\n",
    "import ffmpeg\n",
    "import signal\n",
    "import os\n",
    "import re\n",
    "import pandas as pd"
   ]
  },
  {
   "cell_type": "code",
   "execution_count": 27,
   "metadata": {},
   "outputs": [],
   "source": [
    "from PIL import Image\n",
    "from pytesseract import pytesseract"
   ]
  },
  {
   "cell_type": "code",
   "execution_count": null,
   "metadata": {},
   "outputs": [],
   "source": [
    "image_path='./extracted/bfbf7a2b7ac635e67877b1ab87fd6629-b7a604b3b08f0862ef0e_start_frame.png'\n",
    "img = Image.open(image_path)\n",
    "pytesseract.tesseract_cmd = path_to_tesseract\n",
    "text = pytesseract.image_to_string(img)"
   ]
  },
  {
   "cell_type": "code",
   "execution_count": 42,
   "metadata": {},
   "outputs": [],
   "source": [
    "def get_instruction(image_path):\n",
    "    path_to_tesseract = r\"/usr/bin/tesseract\"\n",
    "    img = Image.open(image_path)\n",
    "    pytesseract.tesseract_cmd = path_to_tesseract\n",
    "    text = pytesseract.image_to_string(img)\n",
    "    text = text.lower()\n",
    "    print(text.lower())\n",
    "    print(\"Detected Text: \\n\" + text)\n",
    "    if 'tap' in text:\n",
    "        return 'tap'\n",
    "    elif 'swipe l' in text:\n",
    "        return'swipe left'\n",
    "    elif 'swipe r' in text:\n",
    "        return 'swipe right'\n",
    "    elif 'swipe u' in text:\n",
    "        return 'swipe up'\n",
    "    elif 'swipe do' in text:\n",
    "        return 'swipe down'\n",
    "    elif 'swipe' in text:\n",
    "        return 'swipe'\n",
    "    else:\n",
    "        return 'tap_try'"
   ]
  },
  {
   "cell_type": "code",
   "execution_count": 43,
   "metadata": {},
   "outputs": [
    {
     "data": {
      "text/plain": [
       "'/home/owon/Documents/10x/week11/notebooks'"
      ]
     },
     "execution_count": 43,
     "metadata": {},
     "output_type": "execute_result"
    }
   ],
   "source": [
    "pwd"
   ]
  },
  {
   "cell_type": "code",
   "execution_count": 44,
   "metadata": {},
   "outputs": [
    {
     "name": "stdout",
     "output_type": "stream",
     "text": [
      "\n"
     ]
    }
   ],
   "source": [
    "get_instruction('459c60702cfaae32207a161b693df47c_start_frame.png')"
   ]
  },
  {
   "cell_type": "code",
   "execution_count": 37,
   "metadata": {},
   "outputs": [
    {
     "name": "stdout",
     "output_type": "stream",
     "text": [
      "ovexus l/certified by lexus  philadelphia area 2 lexus dealers a=.  learn more  ------\n",
      " ovexxuss l/certified by lexus  philadelphia area _ lexusdealers <7  pe  lartified  learn more   ----\n",
      " ovexus l/certified by lexus  philadelphia area _ lexus dealers —  l/certified  lexus  learn more \n"
     ]
    }
   ],
   "source": [
    "print(text_12.replace('\\n', ' ') , \"------\\n\", text_13.replace('\\n', ' '), \"----\\n\", text_14.replace('\\n', ' '))"
   ]
  },
  {
   "cell_type": "code",
   "execution_count": 47,
   "metadata": {},
   "outputs": [
    {
     "name": "stdout",
     "output_type": "stream",
     "text": [
      "\n"
     ]
    }
   ],
   "source": [
    "image_path = '../start_frame/459c60702cfaae32207a161b693df47c_start_frame.jpg'\n",
    "path_to_tesseract = r\"/usr/bin/tesseract\"\n",
    "img = Image.open(image_path)\n",
    "pytesseract.tesseract_cmd = path_to_tesseract\n",
    "text_13 = pytesseract.image_to_string(img).lower()\n",
    "print(text_13)"
   ]
  },
  {
   "cell_type": "code",
   "execution_count": 61,
   "metadata": {},
   "outputs": [],
   "source": [
    "now = time.time()"
   ]
  },
  {
   "cell_type": "markdown",
   "metadata": {},
   "source": [
    "## read the creative"
   ]
  },
  {
   "cell_type": "code",
   "execution_count": 11,
   "metadata": {},
   "outputs": [],
   "source": [
    "class creativeFrameExtractor:\n",
    "    '''\n",
    "    class responsible for Extracting Creative Start and End Frames. It requires a chrome webdriver compatible with \n",
    "    selenium to be installed/ included in the run environment path.\n",
    "    '''\n",
    "\n",
    "    def __init__(self, preview_url: str,\n",
    "                 save_location: str = '',\n",
    "                 browser_edges: Tuple[float, float] = (70, 1039)) -> None:\n",
    "        self.preview_url = preview_url\n",
    "        self.start_time = time.time()\n",
    "        self.engaged = False\n",
    "        self.engagement_type = 'tap'\n",
    "        self.browser_edges = browser_edges\n",
    "        self.file_name = '-'.join(preview_url.split('/')[-3:-1])\n",
    "        self.save_location = save_location\n",
    "        self.video_name = path.join(self.save_location, self.file_name)\n",
    "        self.cmd = f\" ffmpeg -f alsa -ac 2 -i pulse -video_size 1920x1080 -framerate 60 -f x11grab -i :1 -c:v libx264rgb -qp 0 -preset ultrafast {self.video_name}.mkv -y\"\n",
    "\n",
    "        # Config\n",
    "\n",
    "        # Browser config\n",
    "        # Browser Options\n",
    "        self.opt = Options()\n",
    "        self.opt.add_argument(\"--hide-scrollbars\")\n",
    "        self.opt.add_experimental_option(\n",
    "            \"excludeSwitches\", [\"enable-automation\"]\n",
    "        )\n",
    "        # Browser logs\n",
    "        self.capabilities = DesiredCapabilities.CHROME\n",
    "        self.capabilities[\"goog:loggingPrefs\"] = {\"browser\": \"ALL\"}\n",
    "\n",
    "    def is_status_complete(self, passed_driver) -> bool:\n",
    "        '''\n",
    "        Function to check if the Ad-Unit is complete\n",
    "        '''\n",
    "        # Retrieve logs from the browser\n",
    "        logs = passed_driver.get_log(\"browser\")\n",
    "        for log in logs:\n",
    "            # select logs coming from Ad-Unit\n",
    "            if log[\"source\"] == \"console-api\":\n",
    "                # Extract message from log\n",
    "                message = log[\"message\"].lower()\n",
    "\n",
    "                if '\"GAME CREATED\"'.lower() in message or '\"DROPPED\"'.lower() in message:\n",
    "                    # Start recording Game\n",
    "                    print(\"Starting Recording Ad-Unit...\")\n",
    "\n",
    "                    return False\n",
    "                if '\"START\"'.lower() in message:\n",
    "                    self.engaged = True\n",
    "                    # Engaged\n",
    "                    print(\"Ad-UNIT Engaged...\")\n",
    "                    return False\n",
    "                \n",
    "                # duration = time.time() - self.start_time\n",
    "                if '\"START\"'.lower() not in message:\n",
    "                    print(\"Ad-Unit not engaged !!!\")\n",
    "\n",
    "                    return True\n",
    "                # if '\"START\"'.lower() in message:\n",
    "                #     print(\"Wrong Ad-Unit Engagement !!!\")\n",
    "\n",
    "                    return True\n",
    "                if '\"GAME COMPLETE\"'.lower() in message or '\"video-top-ENDED\"'.lower() in message or '\"win\"'.lower() in message:\n",
    "                    # Stop Recording Game\n",
    "                    print(\"Stopped Recording Ad-Unit...\")\n",
    "                    print(message)\n",
    "                    return True\n",
    "        return False\n",
    "\n",
    "    @staticmethod\n",
    "    def terminate(process: call) -> None:  # call[bytes]\n",
    "        '''\n",
    "        Function to terminate a process\n",
    "        '''\n",
    "        # Video recording process terminator\n",
    "        if process.poll() is None:\n",
    "            call(\"kill -6 \" + str(process.pid),\n",
    "                 stdin=subprocess.PIPE, shell=True)\n",
    "\n",
    "    @staticmethod\n",
    "    def crop_video(filename: str, x_pos: float = 0, y_pos: float = 200, width: float = 650, height: float = 900) -> None:\n",
    "        '''\n",
    "        Function to crop a video with a location and size parameters\n",
    "        '''\n",
    "        print(filename)\n",
    "        input_video = ffmpeg.input(f\"{filename}.mkv\")\n",
    "        cropped_video = ffmpeg.crop(input_video, x_pos, y_pos, width, height)\n",
    "        output_video = ffmpeg.output(cropped_video, f\"{filename}_cropped.mkv\")\n",
    "        ffmpeg.run(output_video)\n",
    "\n",
    "    @staticmethod\n",
    "    def get_audio(filename: str):\n",
    "        cmd_get_audio = f\" ffmpeg -i {filename}.mkv -q:a 0 -map a {filename}.mp3 -y\"\n",
    "        fetch_audio = Popen(cmd_get_audio, stdout=subprocess.PIPE,\n",
    "                            shell=True, preexec_fn=os.setsid)\n",
    "        exitcode = fetch_audio.wait()\n",
    "\n",
    "    def _imitate_engagement(self, ad_size: Tuple[float, float]) -> None:\n",
    "        '''\n",
    "        Function to imitate a given engagement type.\n",
    "        '''\n",
    "        center = (ad_size[0]/2, self.browser_edges[0]+(ad_size[1]/2))\n",
    "\n",
    "        if self.engagement_type == \"tap\":\n",
    "            pyautogui.moveTo(center[0], center[1], duration=1)\n",
    "            pyautogui.leftClick()\n",
    "        elif self.engagement_type == \"swipe right\":\n",
    "            pyautogui.moveTo(center[0], center[1], duration=1)\n",
    "            pyautogui.dragRel(center[0], 0, duration=1)\n",
    "        elif self.engagement_type == \"swipe left\" or self.engagement_type == 'swipe':\n",
    "            pyautogui.moveTo(center[0], center[1], duration=1)\n",
    "            pyautogui.dragRel(-center[0], 0, duration=1)\n",
    "        elif self.engagement_type == \"swipe down\":\n",
    "            pyautogui.moveTo(center[0], center[1], duration=1)\n",
    "            pyautogui.dragRel(0, center[1], duration=1)\n",
    "        elif self.engagement_type == \"swipe up\":\n",
    "            pyautogui.moveTo(center[0], center[1], duration=1)\n",
    "            pyautogui.dragRel(0, -center[1], duration=1)\n",
    "        elif self.engagement_type == \"tap and hold\":\n",
    "            pyautogui.moveTo(center[0], center[1], duration=1)\n",
    "            pyautogui.click()\n",
    "        elif self.engagement_type == \"scrub\":\n",
    "            pyautogui.moveTo(center[0] - (1/2 * center[0]),\n",
    "                             center[1] - (2/3 * center[1]), duration=0.2)\n",
    "\n",
    "            pyautogui.dragRel(center[0], 0, duration=0.2)\n",
    "            pyautogui.dragRel(-center[0], (1/3 * center[1]), duration=0.2)\n",
    "            pyautogui.dragRel(center[0], 0, duration=0.2)\n",
    "            pyautogui.dragRel(-center[0], (1/3 * center[1]), duration=0.2)\n",
    "            pyautogui.dragRel(center[0], 0, duration=0.2)\n",
    "\n",
    "    def generate_preview_video(self, links: list, bad: list) -> None:\n",
    "        '''\n",
    "        Function to generate preview video and also a cropped version of the video\n",
    "        '''\n",
    "        # initialize selenium webDriver\n",
    "        driver = webdriver.Chrome(\"/usr/bin/chromedriver\",\n",
    "                                  options=self.opt, desired_capabilities=self.capabilities)\n",
    "        # maximize webdriver's window to maximize size\n",
    "        driver.maximize_window()\n",
    "        # get the starting frame\n",
    "        url_not_working = []\n",
    "        \n",
    "        links = [x for x in links if x not in bad]\n",
    "        for link in links:\n",
    "            file_name = '-'.join(link.split('/')[-3:-2])\n",
    "\n",
    "            try:\n",
    "                # Load Ad-Unit through selenium\n",
    "                driver.get(link)\n",
    "\n",
    "                # Locate Ad-Unit Element from Browser\n",
    "                canvas = driver.find_element(By.TAG_NAME, \"canvas\")\n",
    "\n",
    "                # Capture start frame\n",
    "                canvas.screenshot(\n",
    "                    path.join(\n",
    "                        './extracted/',  f'{file_name}_start_frame.png')\n",
    "                )\n",
    "\n",
    "            except TimeoutException:\n",
    "                print(\"TimeoutException Throwed\")\n",
    "                print(\"Ad-Unit Status console logs did not complete. Engagement Failed.\")\n",
    "                url_not_working.append(link)\n",
    "                # driver.close()\n",
    "\n",
    "            except NoSuchElementException:\n",
    "                print(f\"Ad-Unit Failed to load: {i}\")\n",
    "                url_not_working.append(link)\n",
    "\n",
    "            # record the video\n",
    "\n",
    "            try:\n",
    "                # # load Ad-Unit with selenium\n",
    "                # driver.get(self.preview_url)\n",
    "\n",
    "                engagement_type = get_instruction(\n",
    "                    './extracted/' + f'{file_name}_start_frame.png')\n",
    "\n",
    "                print(\"Engagement Chosen:\" + self.engagement_type)\n",
    "\n",
    "                # locate Ad-Unit element from browser\n",
    "                \n",
    "                # canvas = driver.find_element(By.TAG_NAME, \"canvas\")\n",
    "\n",
    "                self.cmd = f\" ffmpeg -hide_banner -loglevel error -f alsa -ac 2 -i pulse -video_size 1920x1080 -framerate 60 -f x11grab -i :1 -c:v libx264rgb -qp 0 -preset ultrafast ./extracted/{file_name}.mkv -y\"\n",
    "\n",
    "                \n",
    "\n",
    "                # start recording the entire screen\n",
    "                video_recording = Popen(\n",
    "                    self.cmd, stdout=subprocess.PIPE, shell=True, preexec_fn=os.setsid)\n",
    "\n",
    "                # Identify the size of Ad-Unit\n",
    "                ad_size = (canvas.size.get(\"width\"), canvas.size.get(\"height\"))\n",
    "\n",
    "                # Engage Ad Unite\n",
    "                self._imitate_engagement(ad_size)\n",
    "\n",
    "                self.start_time = time.time()\n",
    "                # Continuously check Status of Ad-Unit using it's console log\n",
    "                # until it reached a \"GAME COMPLETE\" Status\n",
    "                # driver.get_log(\"browser\")[\"message\"]\n",
    "                WebDriverWait(driver, 45).until(self.is_status_complete or (time.time() - self.start_time) > 45)\n",
    "                print(f\"Elapsed time:{time.time() - self.start_time}\")\n",
    "                sleep(2)\n",
    "\n",
    "                canvas.screenshot(\n",
    "                    path.join(\n",
    "                        './new_extracted/' + f'{file_name}_end_frame.png')\n",
    "                )\n",
    "                print('End frame Captured')\n",
    "\n",
    "                # stop video recording\n",
    "                os.killpg(os.getpgid(video_recording.pid), signal.SIGTERM)\n",
    "\n",
    "                sleep(3)\n",
    "                # os.kill(video_recording.pid, signal.SIGKILL)\n",
    "\n",
    "                # os.system(f\"kill -9 {video_recording.pid}\")\n",
    "\n",
    "                # close selenium Browser window\n",
    "                # driver.close()\n",
    "\n",
    "                # crop Generated Preview video recording\n",
    "                # self.crop_video(self.video_name, x_pos=0, y_pos=70,\n",
    "                #                 width=ad_size[0], height=ad_size[1])\n",
    "\n",
    "                # get audio\n",
    "                # self.get_audio(self.video_name)\n",
    "\n",
    "            except TimeoutException:\n",
    "                print(\"TimeoutException Throwed\")\n",
    "                print(\"Ad-Unit Status console logs did not complete. Engagement Failed.\")\n",
    "                url_not_working.append(link)\n",
    "\n",
    "                # driver.close()\n",
    "\n",
    "            except NoSuchElementException:\n",
    "                print(f\"Ad-Unit Failed to load: {self.preview_url}\")\n",
    "                url_not_working.append(link)\n",
    "\n",
    "        driver.close()\n",
    "        pd.DataFrame.from_dict({\n",
    "            'url_not_working': url_not_working\n",
    "        }).to_csv('./url_not_working.csv', index=False)\n",
    "\n",
    "    def generate_start_frame(self) -> None:\n",
    "        '''\n",
    "        function to generate creative start and end frames.\n",
    "        '''\n",
    "        # Initialize selenium driver\n",
    "        driver = webdriver.Chrome(\n",
    "            options=self.opt, desired_capabilities=self.capabilities,\n",
    "        )\n",
    "\n",
    "        # Maximize webdriver window for maximum resolution\n",
    "        driver.maximize_window()\n",
    "\n",
    "        try:\n",
    "            # Load Ad-Unit through selenium\n",
    "            driver.get(self.preview_url)\n",
    "\n",
    "            # Locate Ad-Unit Element from Browser\n",
    "            canvas = driver.find_element(By.TAG_NAME, \"canvas\")\n",
    "\n",
    "            # Capture start frame\n",
    "            canvas.screenshot(\n",
    "                path.join(self.save_location,\n",
    "                          f'{self.file_name}_start_frame.png')\n",
    "            )\n",
    "            print('Start frame Captured')\n",
    "\n",
    "            #\n",
    "\n",
    "            # close the selenium browser window\n",
    "            driver.close()\n",
    "        except TimeoutException:\n",
    "            print(\"TimeoutException Throwed\")\n",
    "            print(\"Ad-Unit Status console logs did not complete. Engagement Failed.\")\n",
    "            driver.close()\n",
    "\n",
    "        except NoSuchElementException:\n",
    "            print(f\"Ad-Unit Failed to load:{self.preview_url}\")\n",
    "            driver.close()\n",
    "\n",
    "    def generate_frames(self) -> None:\n",
    "        '''\n",
    "        function to generate creative start and end frames.\n",
    "        '''\n",
    "        # Initialize selenium driver\n",
    "        driver = webdriver.Chrome(\n",
    "            options=self.opt, desired_capabilities=self.capabilities,\n",
    "        )\n",
    "\n",
    "        # Maximize webdriver window for maximum resolution\n",
    "        driver.maximize_window()\n",
    "\n",
    "        try:\n",
    "            # Load Ad-Unit through selenium\n",
    "            driver.get(self.preview_url)\n",
    "\n",
    "            # Locate Ad-Unit Element from Browser\n",
    "            canvas = driver.find_element(By.TAG_NAME, \"canvas\")\n",
    "\n",
    "            # Capture start frame\n",
    "            canvas.screenshot(\n",
    "                path.join(self.save_location,\n",
    "                          f'{self.file_name}_start_frame.png')\n",
    "            )\n",
    "            print('Start frame Captured')\n",
    "\n",
    "            # Identify size of Ad-Unit\n",
    "            ad_size = (canvas.size.get(\"width\"), canvas.size.get(\"height\"))\n",
    "\n",
    "            # Engage Ad-Unit\n",
    "            self._imitate_engagement(ad_size)\n",
    "\n",
    "            # Continuously check Status of Ad-Unit using it's console log\n",
    "            # until it reached a \"GAME COMPLETE\" Status\n",
    "            WebDriverWait(driver, 100).until(\n",
    "                self.is_status_complete or self.start_time < 60)\n",
    "\n",
    "            sleep(5)\n",
    "\n",
    "            # capture End frame\n",
    "            canvas.screenshot(\n",
    "                path.join(self.save_location,\n",
    "                          f'{self.file_name}_end_frame.png')\n",
    "            )\n",
    "            print('End frame Captured')\n",
    "\n",
    "            # close the selenium browser window\n",
    "            driver.close()\n",
    "        except TimeoutException:\n",
    "            print(\"TimeoutException Throwed\")\n",
    "            print(\"Ad-Unit Status console logs did not complete. Engagement Failed.\")\n",
    "            driver.close()\n",
    "\n",
    "        except NoSuchElementException:\n",
    "            print(f\"Ad-Unit Failed to load: {self.preview_url}\")\n",
    "            driver.close()\n"
   ]
  },
  {
   "cell_type": "code",
   "execution_count": null,
   "metadata": {},
   "outputs": [],
   "source": []
  },
  {
   "cell_type": "code",
   "execution_count": 13,
   "metadata": {},
   "outputs": [],
   "source": [
    "url = \"\"\n",
    "ext = creativeFrameExtractor(url, save_location = './extracted/')"
   ]
  },
  {
   "cell_type": "code",
   "execution_count": 14,
   "metadata": {},
   "outputs": [],
   "source": []
  },
  {
   "cell_type": "code",
   "execution_count": 15,
   "metadata": {},
   "outputs": [],
   "source": [
    "bad_url = [] \n"
   ]
  },
  {
   "cell_type": "code",
   "execution_count": 16,
   "metadata": {},
   "outputs": [
    {
     "name": "stderr",
     "output_type": "stream",
     "text": [
      "/home/owon/anaconda3/envs/newenv/lib/python3.7/site-packages/ipykernel_launcher.py:140: DeprecationWarning: executable_path has been deprecated, please pass in a Service object\n"
     ]
    },
    {
     "name": "stdout",
     "output_type": "stream",
     "text": [
      "Engagement Chosen:tap\n",
      "Starting Recording Ad-Unit...\n",
      "Starting Recording Ad-Unit...\n",
      "Ad-UNIT Engaged...\n",
      "Ad-Unit not engaged !!!\n",
      "Elapsed time:11.260973453521729\n",
      "End frame Captured\n",
      "Engagement Chosen:tap\n",
      "Ad-Unit not engaged !!!\n",
      "Elapsed time:0.007070779800415039\n",
      "End frame Captured\n",
      "Engagement Chosen:tap\n",
      "Ad-UNIT Engaged...\n",
      "Ad-Unit not engaged !!!\n",
      "Elapsed time:0.5180180072784424\n",
      "End frame Captured\n",
      "Engagement Chosen:tap\n",
      "Ad-UNIT Engaged...\n",
      "Ad-Unit not engaged !!!\n",
      "Elapsed time:3.0992937088012695\n",
      "End frame Captured\n",
      "Engagement Chosen:tap\n",
      "Ad-UNIT Engaged...\n",
      "Ad-Unit not engaged !!!\n",
      "Elapsed time:1.0280187129974365\n",
      "End frame Captured\n"
     ]
    }
   ],
   "source": [
    "ext.generate_preview_video(links, bad_url)"
   ]
  },
  {
   "cell_type": "markdown",
   "metadata": {},
   "source": [
    "# get starting frame for all directories"
   ]
  },
  {
   "cell_type": "code",
   "execution_count": 281,
   "metadata": {},
   "outputs": [],
   "source": [
    " def generate_start_frame(links: list) -> None:\n",
    "        '''\n",
    "        function to generate creative start and end frames.\n",
    "        '''\n",
    "        browser_edges =  (70, 1039)\n",
    "        count =0\n",
    "        \n",
    "        opt = Options()\n",
    "        opt.add_argument(\"--hide-scrollbars\")\n",
    "        opt.add_experimental_option(\n",
    "            \"excludeSwitches\", [\"enable-automation\"]\n",
    "        )\n",
    "        # Browser logs\n",
    "        capabilities = DesiredCapabilities.CHROME\n",
    "        capabilities[\"goog:loggingPrefs\"] = {\"browser\": \"ALL\"}\n",
    "        \n",
    "        # Initialize selenium driver\n",
    "        driver = webdriver.Chrome(\n",
    "            options=opt,desired_capabilities = capabilities,\n",
    "        )\n",
    "        \n",
    "        #Maximize webdriver window for maximum resolution\n",
    "        driver.maximize_window()\n",
    "        for i in links:\n",
    "            file_name = '-'.join(i.split('/')[-3:-2])\n",
    "            \n",
    "            try:\n",
    "                # Load Ad-Unit through selenium\n",
    "                driver.get(i)\n",
    "                \n",
    "                # Locate Ad-Unit Element from Browser\n",
    "                canvas = driver.find_element(By.TAG_NAME,\"canvas\")\n",
    "                \n",
    "                # Capture start frame\n",
    "                canvas.screenshot(\n",
    "                    path.join('./new_extracted/' f'{file_name}_start_frame.png')\n",
    "                )\n",
    "                count +=1\n",
    "                            \n",
    "                #  \n",
    "                \n",
    "                # close the selenium browser window\n",
    "                # driver.close()\n",
    "            except TimeoutException:\n",
    "                print(\"TimeoutException Throwed\")\n",
    "                print(\"Ad-Unit Status console logs did not complete. Engagement Failed.\")\n",
    "                # driver.close()\n",
    "            \n",
    "                \n",
    "            except NoSuchElementException:\n",
    "                print(f\"Ad-Unit Failed to load: {i}\")\n",
    "                # driver.close()\n",
    "        driver.close()\n",
    "        print(count)"
   ]
  },
  {
   "cell_type": "code",
   "execution_count": 283,
   "metadata": {},
   "outputs": [
    {
     "name": "stdout",
     "output_type": "stream",
     "text": [
      "Start frame Captured\n",
      "Start frame Captured\n",
      "Start frame Captured\n",
      "Start frame Captured\n",
      "Start frame Captured\n",
      "Start frame Captured\n",
      "Start frame Captured\n",
      "Start frame Captured\n",
      "Start frame Captured\n",
      "Start frame Captured\n",
      "Start frame Captured\n",
      "Start frame Captured\n"
     ]
    }
   ],
   "source": [
    "generate_start_frame(links)"
   ]
  },
  {
   "cell_type": "code",
   "execution_count": 123,
   "metadata": {},
   "outputs": [],
   "source": [
    "import pandas as pd"
   ]
  },
  {
   "cell_type": "code",
   "execution_count": 170,
   "metadata": {},
   "outputs": [],
   "source": [
    "df = pd.read_csv(\"../data/performance_data.csv\")"
   ]
  },
  {
   "cell_type": "code",
   "execution_count": 174,
   "metadata": {},
   "outputs": [],
   "source": [
    "df['preview'] = df['game_id'].str.split(',') "
   ]
  },
  {
   "cell_type": "code",
   "execution_count": 175,
   "metadata": {},
   "outputs": [],
   "source": [
    "ss = df.preview"
   ]
  },
  {
   "cell_type": "code",
   "execution_count": 176,
   "metadata": {},
   "outputs": [
    {
     "data": {
      "text/plain": [
       "['e68e20f592457b875ce29757ab855dfe']"
      ]
     },
     "execution_count": 176,
     "metadata": {},
     "output_type": "execute_result"
    }
   ],
   "source": [
    "ss[2]"
   ]
  },
  {
   "cell_type": "code",
   "execution_count": 178,
   "metadata": {},
   "outputs": [
    {
     "data": {
      "text/plain": [
       "905"
      ]
     },
     "execution_count": 178,
     "metadata": {},
     "output_type": "execute_result"
    }
   ],
   "source": [
    "len(ss)"
   ]
  },
  {
   "cell_type": "code",
   "execution_count": 180,
   "metadata": {},
   "outputs": [],
   "source": [
    "def create_dirs(ss):\n",
    "    for i in range(len(ss)):\n",
    "        directory = './extracted/'+ ss[i][0]\n",
    "        if not os.path.exists(directory):\n",
    "            os.makedirs(directory)"
   ]
  },
  {
   "cell_type": "code",
   "execution_count": 181,
   "metadata": {},
   "outputs": [],
   "source": [
    "create_dirs(ss)\n"
   ]
  },
  {
   "cell_type": "code",
   "execution_count": 19,
   "metadata": {},
   "outputs": [
    {
     "data": {
      "text/plain": [
       "'./extracted/bfbf7a2b7ac635e67877b1ab87fd6629-b7a604b3b08f0862ef0e'"
      ]
     },
     "execution_count": 19,
     "metadata": {},
     "output_type": "execute_result"
    }
   ],
   "source": [
    "ext.video_name"
   ]
  },
  {
   "cell_type": "markdown",
   "metadata": {},
   "source": [
    "## Audio Transcribing"
   ]
  },
  {
   "cell_type": "code",
   "execution_count": null,
   "metadata": {},
   "outputs": [],
   "source": [
    "!pip install git+https://github.com/openai/whisper.git\n"
   ]
  },
  {
   "cell_type": "code",
   "execution_count": null,
   "metadata": {},
   "outputs": [],
   "source": [
    "!pip install setuptools-rust"
   ]
  },
  {
   "cell_type": "code",
   "execution_count": null,
   "metadata": {},
   "outputs": [],
   "source": [
    "import whisper"
   ]
  },
  {
   "cell_type": "markdown",
   "metadata": {},
   "source": [
    "### Approach One"
   ]
  },
  {
   "cell_type": "code",
   "execution_count": 63,
   "metadata": {},
   "outputs": [],
   "source": [
    "audio_path = ext.video_name + '.mp3'"
   ]
  },
  {
   "cell_type": "code",
   "execution_count": 64,
   "metadata": {},
   "outputs": [
    {
     "name": "stderr",
     "output_type": "stream",
     "text": [
      "100%|████████████████████████████████████████| 139M/139M [02:35<00:00, 934kiB/s]\n"
     ]
    }
   ],
   "source": [
    "model = whisper.load_model('base')\n",
    "result = model.transcribe(audio_path)"
   ]
  },
  {
   "cell_type": "code",
   "execution_count": 65,
   "metadata": {},
   "outputs": [
    {
     "data": {
      "text/plain": [
       "\" Can't take my eyes off of you. Fall in love. With the highly awarded, El certified by Lex's collection of pre-owned vehicles. Exclusively are your Lex's dealer.\""
      ]
     },
     "execution_count": 65,
     "metadata": {},
     "output_type": "execute_result"
    }
   ],
   "source": [
    "result['text']"
   ]
  },
  {
   "cell_type": "markdown",
   "metadata": {},
   "source": [
    "### Approach Two"
   ]
  },
  {
   "cell_type": "code",
   "execution_count": 67,
   "metadata": {},
   "outputs": [
    {
     "name": "stdout",
     "output_type": "stream",
     "text": [
      "Detected language: en\n",
      "I'm sorry.\n"
     ]
    }
   ],
   "source": [
    "model = whisper.load_model(\"base\")\n",
    "\n",
    "# load audio and pad/trim it to fit 30 seconds\n",
    "audio = whisper.load_audio(audio_path)\n",
    "audio = whisper.pad_or_trim(audio)\n",
    "\n",
    "# make log-Mel spectrogram and move to the same device as the model\n",
    "mel = whisper.log_mel_spectrogram(audio).to(model.device)\n",
    "\n",
    "# detect the spoken language\n",
    "_, probs = model.detect_language(mel)\n",
    "print(f\"Detected language: {max(probs, key=probs.get)}\")\n",
    "\n",
    "# decode the audio\n",
    "options = whisper.DecodingOptions()\n",
    "result = whisper.decode(model, mel, options)\n",
    "\n",
    "# print the recognized text\n",
    "print(result.text)"
   ]
  },
  {
   "cell_type": "code",
   "execution_count": null,
   "metadata": {},
   "outputs": [],
   "source": []
  },
  {
   "cell_type": "code",
   "execution_count": null,
   "metadata": {},
   "outputs": [],
   "source": []
  },
  {
   "cell_type": "code",
   "execution_count": null,
   "metadata": {},
   "outputs": [],
   "source": []
  },
  {
   "cell_type": "code",
   "execution_count": null,
   "metadata": {},
   "outputs": [],
   "source": []
  },
  {
   "cell_type": "code",
   "execution_count": null,
   "metadata": {},
   "outputs": [],
   "source": []
  },
  {
   "cell_type": "code",
   "execution_count": null,
   "metadata": {},
   "outputs": [],
   "source": []
  },
  {
   "cell_type": "code",
   "execution_count": null,
   "metadata": {},
   "outputs": [],
   "source": []
  }
 ],
 "metadata": {
  "kernelspec": {
   "display_name": "Python 3.7.12 ('newenv')",
   "language": "python",
   "name": "python3"
  },
  "language_info": {
   "codemirror_mode": {
    "name": "ipython",
    "version": 3
   },
   "file_extension": ".py",
   "mimetype": "text/x-python",
   "name": "python",
   "nbconvert_exporter": "python",
   "pygments_lexer": "ipython3",
   "version": "3.7.12"
  },
  "orig_nbformat": 4,
  "vscode": {
   "interpreter": {
    "hash": "f5c95f6d498df283b42a04cb760829a6e6ab9154c751492a5bf0cfc55ea1de82"
   }
  }
 },
 "nbformat": 4,
 "nbformat_minor": 2
}
